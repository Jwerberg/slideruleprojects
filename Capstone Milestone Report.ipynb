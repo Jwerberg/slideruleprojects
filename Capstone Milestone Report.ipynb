{
 "cells": [
  {
   "cell_type": "markdown",
   "metadata": {
    "collapsed": true
   },
   "source": [
    "## Capstone Milestone Report\n",
    "\n",
    "Jonathan Werberg\n",
    "\n",
    "### Create a model to predict prices of individual co-op units in Queens, NY\n",
    "\n",
    "Using historical sales and other data build a model to best predict current sales prices for NYC co-op apartments.  ACRIS public data will form the core dataset. Features may include prior sales, floor and line of the unit, time since last sale, and adjustments for overall neighborhood and borough trends.\n",
    "\n",
    "### Data set\n",
    "\n",
    "NYC's ACRIS (Automated City Register Information System) data contains information on apartment sales.  Key fields are:\n",
    "\n",
    "- Date of transaction\n",
    "- Address of unit (street number, street name and unit) \n",
    "- Transaction amount \n",
    "\n",
    "NYC PLUTO (Primary Land Use Tax Lot Output) data is also used to get master list of potential co-ops of interest.  It contains info on the number of buildings, floors and apartments and can be limited to co-op property types.  \n",
    "\n",
    "### Data wrangling and cleaning\n",
    "\n",
    "- Data is downloaded via API calls to NYC Open Data \n",
    "- First a set of document ID's must be found that match the co-op from one API endpoint.  Then a second call pulls down additional information for those transactions and these two sets are merged.\n",
    "- Data caching has been setup so if data has already been downloaded its loaded from a local copy.  [needs to be improved to check for new results]\n",
    "- Data cleaning involves fixing date formats, limiting to the appropriate document types, excluding outliers [currently done with fixed cutoff, should be further tested to see if there is a more dynamic approach]\n",
    "\n",
    "### Limitations\n",
    "\n",
    "- These public datasets lack some key attributes that would be extremely valuable like number of bedrooms, number of bathrooms.  I am continuing to look for additional sources or ways to proxy or estimate for those attributes.  \n",
    "- We also lack access to information on monthly maintanence/carrying costs that can have a dramatic impact on sale prices.  We can mitigate for this to some extent by comparing within the same co-op which will have a consistent maintanence cost structure but makes comparisons between co-ops more difficult.  \n",
    "\n",
    "### Prelimiary analysis\n",
    "\n",
    "- I have run some basic initial analysis, visualizing prices over time and looking at differences by line, floor, building number.  Clearly time/overall market prices are important factors so have needed to adjust for that.  Initial approach has been to take rolling average of previous ten sales.\n",
    "- Did a few basic regressions taking into account rolling average of previous sales and other factors either directly available from data (line, floor, building number) or manually coding variables where know (bedrooms, best views)"
   ]
  },
  {
   "cell_type": "markdown",
   "metadata": {},
   "source": [
    "Inital libraries"
   ]
  },
  {
   "cell_type": "code",
   "execution_count": 1,
   "metadata": {
    "collapsed": true
   },
   "outputs": [],
   "source": [
    "%matplotlib inline\n",
    "import matplotlib.pyplot as plt\n",
    "import pandas as pd\n",
    "import numpy as np\n",
    "from scipy import stats\n",
    "from datetime import datetime\n",
    "import os\n",
    "import string\n",
    "from statsmodels.formula.api import ols\n",
    "import statsmodels.api as sm"
   ]
  },
  {
   "cell_type": "markdown",
   "metadata": {},
   "source": [
    "## Function to retrieve data"
   ]
  },
  {
   "cell_type": "code",
   "execution_count": 2,
   "metadata": {
    "collapsed": true
   },
   "outputs": [],
   "source": [
    "# here take as input a BBL \n",
    "# see if data file exists, if so just use that\n",
    "# if not, pull down data from opendata, match the two needed datasets and save\n",
    "# todo - make this check for updated data"
   ]
  },
  {
   "cell_type": "code",
   "execution_count": 3,
   "metadata": {
    "collapsed": true
   },
   "outputs": [],
   "source": [
    "def get_and_cache_bbl_data(bbl=(4,528,50),filename='coopdata.csv'):\n",
    "    if os.path.isfile(filename):\n",
    "        print 'reading data from cache...'\n",
    "        df = pd.read_csv(filename)\n",
    "        print len(df),'records'\n",
    "        return df\n",
    "    else:\n",
    "        print 'no cache found, pulling data from web...'\n",
    "        url='https://data.cityofnewyork.us/resource/8h5j-fqxa.csv?borough='\n",
    "        url+=str(bbl[0])+'&block='+str(bbl[1])+'&lot='+str(bbl[2])\n",
    "        df=pd.read_table(url,sep=',')\n",
    "        docids = df['DOCUMENT ID']\n",
    "        urlbase=\"https://data.cityofnewyork.us/resource/bnx9-e6tj.csv?$where=document_id='\"\n",
    "        l = len(docids)\n",
    "        n = l // 100 \n",
    "        masterlist = [] \n",
    "        for i in range(n+1):\n",
    "            if i < n:\n",
    "                url = urlbase + \"'%20or%20document_id='\".join(docids[i*100:(i+1)*100]) + \"'\"\n",
    "                #print url \n",
    "                masterlist.append(pd.read_table(url,sep=','))\n",
    "            else:\n",
    "                url=urlbase + \"'%20or%20document_id='\".join(docids[i*100:l]) + \"'\"\n",
    "                #print url\n",
    "                masterlist.append(pd.read_table(url,sep=',')) \n",
    "        masters = pd.concat(masterlist)\n",
    "        mergeddf = pd.merge(df,masters,on=['DOCUMENT ID'])\n",
    "        mergeddf.columns = mergeddf.columns.str.replace(' ','')\n",
    "        mergeddf.columns = mergeddf.columns.str.replace('.','')\n",
    "        mergeddf.columns = mergeddf.columns.str.lower()\n",
    "        print 'saving to file',filename\n",
    "        mergeddf.to_csv(filename)\n",
    "        print len(mergeddf), 'records'\n",
    "        return mergeddf"
   ]
  },
  {
   "cell_type": "markdown",
   "metadata": {},
   "source": [
    "## Function to clean data"
   ]
  },
  {
   "cell_type": "code",
   "execution_count": 4,
   "metadata": {
    "collapsed": true
   },
   "outputs": [],
   "source": [
    "# make and clean and prep data function\n",
    "# limit to RPTT\n",
    "# todo: \n",
    "# fix dates and be robust for missing dates \n",
    "# get rid of outlier values - 0 and more than X std from nearby avg? or just low/high values? \n",
    "# setup line, floor, bldgnum variables \n",
    "# calculate previous sale of same unit \n"
   ]
  },
  {
   "cell_type": "code",
   "execution_count": 5,
   "metadata": {
    "collapsed": false
   },
   "outputs": [],
   "source": [
    "#quick trimming a string down to just digits \n",
    "#from: http://stackoverflow.com/questions/1450897/python-removing-characters-except-digits-from-stringx\n",
    "all=string.maketrans('','')\n",
    "nodigs=all.translate(all, string.digits)\n",
    "#then use as string.translate(all, nodigs)\n",
    "def justdigits(string):\n",
    "    return int(string.translate(all,nodigs))\n",
    "    \n",
    "# eg justdigits('10A') returns 10 "
   ]
  },
  {
   "cell_type": "code",
   "execution_count": 6,
   "metadata": {
    "collapsed": true
   },
   "outputs": [],
   "source": [
    "def clean_and_prep_data(mergeddf,minsale=100000):\n",
    "    sales=mergeddf[mergeddf.doctype.str.startswith('RPTT')]\n",
    "    sales['date'] = [ datetime.strptime(date_string, '%m/%d/%Y') for date_string in sales['docdate'] ]\n",
    "    sales = sales[sales.docamount>minsale]\n",
    "    # will need to do alpha check in case units listed as A1 \n",
    "    sales['line']=[s[-1:] for s in sales.unit]\n",
    "    sales['floor']=[justdigits(s) for s in sales['unit']]\n",
    "    sales = sales.set_index('date').sort_index()\n",
    "    sales['bldgnum']=[str(justdigits(s)) for s in sales['streetnumber']]\n",
    "    return sales"
   ]
  },
  {
   "cell_type": "markdown",
   "metadata": {},
   "source": [
    "## Retrieving data for test case of one co-op"
   ]
  },
  {
   "cell_type": "code",
   "execution_count": 7,
   "metadata": {
    "collapsed": false
   },
   "outputs": [
    {
     "name": "stdout",
     "output_type": "stream",
     "text": [
      "reading data from cache...\n",
      "185 records\n"
     ]
    }
   ],
   "source": [
    "mergeddf=get_and_cache_bbl_data(filename='coopdata.csv')"
   ]
  },
  {
   "cell_type": "markdown",
   "metadata": {},
   "source": [
    "## Cleaning data for test case"
   ]
  },
  {
   "cell_type": "code",
   "execution_count": 8,
   "metadata": {
    "collapsed": false,
    "scrolled": true
   },
   "outputs": [
    {
     "name": "stderr",
     "output_type": "stream",
     "text": [
      "/Users/helene/anaconda/lib/python2.7/site-packages/IPython/kernel/__main__.py:3: SettingWithCopyWarning: \n",
      "A value is trying to be set on a copy of a slice from a DataFrame.\n",
      "Try using .loc[row_indexer,col_indexer] = value instead\n",
      "\n",
      "See the the caveats in the documentation: http://pandas.pydata.org/pandas-docs/stable/indexing.html#indexing-view-versus-copy\n",
      "  app.launch_new_instance()\n"
     ]
    }
   ],
   "source": [
    "sales = clean_and_prep_data(mergeddf)"
   ]
  },
  {
   "cell_type": "markdown",
   "metadata": {},
   "source": [
    "## Manual coding variables where we have info"
   ]
  },
  {
   "cell_type": "code",
   "execution_count": 9,
   "metadata": {
    "collapsed": false
   },
   "outputs": [],
   "source": [
    "# Local knowledge that I have \n",
    "sales['bedrooms'] = [str(2+ (b in ['3368','3360','3347'])) for b in sales.bldgnum]\n",
    "#sales['view']\n",
    "sales['view'] = [((line in ['B','C']) & (floor>9) & (bldg in ['3365','3355','3343'])) \n",
    "                 for (line,floor,bldg) in sales[['line','floor','bldgnum']].values]"
   ]
  },
  {
   "cell_type": "markdown",
   "metadata": {},
   "source": [
    "## Preview coded data"
   ]
  },
  {
   "cell_type": "code",
   "execution_count": 10,
   "metadata": {
    "collapsed": false
   },
   "outputs": [
    {
     "data": {
      "text/html": [
       "<div>\n",
       "<table border=\"1\" class=\"dataframe\">\n",
       "  <thead>\n",
       "    <tr style=\"text-align: right;\">\n",
       "      <th></th>\n",
       "      <th>Unnamed: 0</th>\n",
       "      <th>documentid</th>\n",
       "      <th>recordtype_x</th>\n",
       "      <th>borough_x</th>\n",
       "      <th>block</th>\n",
       "      <th>lot</th>\n",
       "      <th>easement</th>\n",
       "      <th>partiallot</th>\n",
       "      <th>airrights</th>\n",
       "      <th>subterraneanrights</th>\n",
       "      <th>...</th>\n",
       "      <th>reelyear</th>\n",
       "      <th>reelnbr</th>\n",
       "      <th>reelpage</th>\n",
       "      <th>%transferred</th>\n",
       "      <th>goodthroughdate_y</th>\n",
       "      <th>line</th>\n",
       "      <th>floor</th>\n",
       "      <th>bldgnum</th>\n",
       "      <th>bedrooms</th>\n",
       "      <th>view</th>\n",
       "    </tr>\n",
       "    <tr>\n",
       "      <th>date</th>\n",
       "      <th></th>\n",
       "      <th></th>\n",
       "      <th></th>\n",
       "      <th></th>\n",
       "      <th></th>\n",
       "      <th></th>\n",
       "      <th></th>\n",
       "      <th></th>\n",
       "      <th></th>\n",
       "      <th></th>\n",
       "      <th></th>\n",
       "      <th></th>\n",
       "      <th></th>\n",
       "      <th></th>\n",
       "      <th></th>\n",
       "      <th></th>\n",
       "      <th></th>\n",
       "      <th></th>\n",
       "      <th></th>\n",
       "      <th></th>\n",
       "      <th></th>\n",
       "    </tr>\n",
       "  </thead>\n",
       "  <tbody>\n",
       "    <tr>\n",
       "      <th>2004-06-21</th>\n",
       "      <td>19</td>\n",
       "      <td>2006011201300001</td>\n",
       "      <td>L</td>\n",
       "      <td>4</td>\n",
       "      <td>528</td>\n",
       "      <td>50</td>\n",
       "      <td>N</td>\n",
       "      <td>E</td>\n",
       "      <td>N</td>\n",
       "      <td>N</td>\n",
       "      <td>...</td>\n",
       "      <td>0</td>\n",
       "      <td>0</td>\n",
       "      <td>0</td>\n",
       "      <td>100</td>\n",
       "      <td>07/31/2015</td>\n",
       "      <td>C</td>\n",
       "      <td>7</td>\n",
       "      <td>3343</td>\n",
       "      <td>2</td>\n",
       "      <td>False</td>\n",
       "    </tr>\n",
       "    <tr>\n",
       "      <th>2004-07-08</th>\n",
       "      <td>78</td>\n",
       "      <td>2004080300906001</td>\n",
       "      <td>L</td>\n",
       "      <td>4</td>\n",
       "      <td>528</td>\n",
       "      <td>50</td>\n",
       "      <td>N</td>\n",
       "      <td>E</td>\n",
       "      <td>N</td>\n",
       "      <td>N</td>\n",
       "      <td>...</td>\n",
       "      <td>0</td>\n",
       "      <td>0</td>\n",
       "      <td>0</td>\n",
       "      <td>100</td>\n",
       "      <td>07/31/2015</td>\n",
       "      <td>A</td>\n",
       "      <td>15</td>\n",
       "      <td>3343</td>\n",
       "      <td>2</td>\n",
       "      <td>False</td>\n",
       "    </tr>\n",
       "    <tr>\n",
       "      <th>2004-08-09</th>\n",
       "      <td>88</td>\n",
       "      <td>2004082000656001</td>\n",
       "      <td>L</td>\n",
       "      <td>4</td>\n",
       "      <td>528</td>\n",
       "      <td>50</td>\n",
       "      <td>N</td>\n",
       "      <td>E</td>\n",
       "      <td>N</td>\n",
       "      <td>N</td>\n",
       "      <td>...</td>\n",
       "      <td>0</td>\n",
       "      <td>0</td>\n",
       "      <td>0</td>\n",
       "      <td>100</td>\n",
       "      <td>07/31/2015</td>\n",
       "      <td>C</td>\n",
       "      <td>3</td>\n",
       "      <td>3360</td>\n",
       "      <td>3</td>\n",
       "      <td>False</td>\n",
       "    </tr>\n",
       "    <tr>\n",
       "      <th>2004-09-14</th>\n",
       "      <td>84</td>\n",
       "      <td>2004092800386001</td>\n",
       "      <td>L</td>\n",
       "      <td>4</td>\n",
       "      <td>528</td>\n",
       "      <td>50</td>\n",
       "      <td>N</td>\n",
       "      <td>E</td>\n",
       "      <td>N</td>\n",
       "      <td>N</td>\n",
       "      <td>...</td>\n",
       "      <td>0</td>\n",
       "      <td>0</td>\n",
       "      <td>0</td>\n",
       "      <td>100</td>\n",
       "      <td>07/31/2015</td>\n",
       "      <td>A</td>\n",
       "      <td>5</td>\n",
       "      <td>3365</td>\n",
       "      <td>2</td>\n",
       "      <td>False</td>\n",
       "    </tr>\n",
       "    <tr>\n",
       "      <th>2004-09-23</th>\n",
       "      <td>159</td>\n",
       "      <td>2004092301700001</td>\n",
       "      <td>L</td>\n",
       "      <td>4</td>\n",
       "      <td>528</td>\n",
       "      <td>50</td>\n",
       "      <td>N</td>\n",
       "      <td>E</td>\n",
       "      <td>N</td>\n",
       "      <td>N</td>\n",
       "      <td>...</td>\n",
       "      <td>0</td>\n",
       "      <td>0</td>\n",
       "      <td>0</td>\n",
       "      <td>100</td>\n",
       "      <td>07/31/2015</td>\n",
       "      <td>D</td>\n",
       "      <td>4</td>\n",
       "      <td>3355</td>\n",
       "      <td>2</td>\n",
       "      <td>False</td>\n",
       "    </tr>\n",
       "  </tbody>\n",
       "</table>\n",
       "<p>5 rows × 33 columns</p>\n",
       "</div>"
      ],
      "text/plain": [
       "            Unnamed: 0        documentid recordtype_x  borough_x  block  lot  \\\n",
       "date                                                                           \n",
       "2004-06-21          19  2006011201300001            L          4    528   50   \n",
       "2004-07-08          78  2004080300906001            L          4    528   50   \n",
       "2004-08-09          88  2004082000656001            L          4    528   50   \n",
       "2004-09-14          84  2004092800386001            L          4    528   50   \n",
       "2004-09-23         159  2004092301700001            L          4    528   50   \n",
       "\n",
       "           easement partiallot airrights subterraneanrights  ...   reelyear  \\\n",
       "date                                                         ...              \n",
       "2004-06-21        N          E         N                  N  ...          0   \n",
       "2004-07-08        N          E         N                  N  ...          0   \n",
       "2004-08-09        N          E         N                  N  ...          0   \n",
       "2004-09-14        N          E         N                  N  ...          0   \n",
       "2004-09-23        N          E         N                  N  ...          0   \n",
       "\n",
       "           reelnbr reelpage %transferred goodthroughdate_y line  floor  \\\n",
       "date                                                                     \n",
       "2004-06-21       0        0          100        07/31/2015    C      7   \n",
       "2004-07-08       0        0          100        07/31/2015    A     15   \n",
       "2004-08-09       0        0          100        07/31/2015    C      3   \n",
       "2004-09-14       0        0          100        07/31/2015    A      5   \n",
       "2004-09-23       0        0          100        07/31/2015    D      4   \n",
       "\n",
       "            bldgnum bedrooms   view  \n",
       "date                                 \n",
       "2004-06-21     3343        2  False  \n",
       "2004-07-08     3343        2  False  \n",
       "2004-08-09     3360        3  False  \n",
       "2004-09-14     3365        2  False  \n",
       "2004-09-23     3355        2  False  \n",
       "\n",
       "[5 rows x 33 columns]"
      ]
     },
     "execution_count": 10,
     "metadata": {},
     "output_type": "execute_result"
    }
   ],
   "source": [
    "sales.head()"
   ]
  },
  {
   "cell_type": "code",
   "execution_count": 11,
   "metadata": {
    "collapsed": false
   },
   "outputs": [
    {
     "data": {
      "text/plain": [
       "<matplotlib.axes._subplots.AxesSubplot at 0x109ab68d0>"
      ]
     },
     "execution_count": 11,
     "metadata": {},
     "output_type": "execute_result"
    },
    {
     "data": {
      "image/png": "[encoded data removed]",
      "text/plain": [
       "<matplotlib.figure.Figure at 0x1043add50>"
      ]
     },
     "metadata": {},
     "output_type": "display_data"
    }
   ],
   "source": [
    "sales.boxplot(column='docamount',by='bedrooms')"
   ]
  },
  {
   "cell_type": "code",
   "execution_count": 12,
   "metadata": {
    "collapsed": false
   },
   "outputs": [
    {
     "data": {
      "text/plain": [
       "<matplotlib.axes._subplots.AxesSubplot at 0x109c47e90>"
      ]
     },
     "execution_count": 12,
     "metadata": {},
     "output_type": "execute_result"
    },
    {
     "data": {
      "image/png": "[encoded data removed]",
      "text/plain": [
       "<matplotlib.figure.Figure at 0x104894ad0>"
      ]
     },
     "metadata": {},
     "output_type": "display_data"
    }
   ],
   "source": [
    "sales.boxplot(column='docamount',by='line')"
   ]
  },
  {
   "cell_type": "code",
   "execution_count": 13,
   "metadata": {
    "collapsed": false,
    "scrolled": true
   },
   "outputs": [
    {
     "data": {
      "text/plain": [
       "<matplotlib.axes._subplots.AxesSubplot at 0x109fc9f50>"
      ]
     },
     "execution_count": 13,
     "metadata": {},
     "output_type": "execute_result"
    },
    {
     "data": {
      "image/png": "[encoded data removed]",
      "text/plain": [
       "<matplotlib.figure.Figure at 0x109d4b690>"
      ]
     },
     "metadata": {},
     "output_type": "display_data"
    }
   ],
   "source": [
    "sales.boxplot(column='docamount',by='bldgnum')"
   ]
  },
  {
   "cell_type": "code",
   "execution_count": 14,
   "metadata": {
    "collapsed": false
   },
   "outputs": [
    {
     "data": {
      "text/plain": [
       "<matplotlib.axes._subplots.AxesSubplot at 0x109f762d0>"
      ]
     },
     "execution_count": 14,
     "metadata": {},
     "output_type": "execute_result"
    },
    {
     "data": {
      "image/png": "[encoded data removed]",
      "text/plain": [
       "<matplotlib.figure.Figure at 0x10a3bb650>"
      ]
     },
     "metadata": {},
     "output_type": "display_data"
    }
   ],
   "source": [
    "sales.boxplot(column='docamount',by='floor')"
   ]
  },
  {
   "cell_type": "code",
   "execution_count": null,
   "metadata": {
    "collapsed": true
   },
   "outputs": [],
   "source": []
  },
  {
   "cell_type": "code",
   "execution_count": null,
   "metadata": {
    "collapsed": true
   },
   "outputs": [],
   "source": []
  },
  {
   "cell_type": "markdown",
   "metadata": {},
   "source": [
    "## Add in rolling and time weighted means"
   ]
  },
  {
   "cell_type": "code",
   "execution_count": 15,
   "metadata": {
    "collapsed": true
   },
   "outputs": [],
   "source": [
    "sales['rm']=pd.rolling_mean(sales.docamount,10,min_periods=1).shift(+1)"
   ]
  },
  {
   "cell_type": "code",
   "execution_count": 16,
   "metadata": {
    "collapsed": true
   },
   "outputs": [],
   "source": [
    "def time_weighted_mean(referencedate, data, nsamples=0):\n",
    "    data=data[data.index<referencedate]\n",
    "    if nsamples > 0:\n",
    "        data=data.tail(nsamples)\n",
    "    if len(data)==0:\n",
    "        return np.nan\n",
    "    diffs=(referencedate-data.index.values).astype('timedelta64[D]')\n",
    "    maxdiff=max(diffs)\n",
    "    weights=maxdiff-diffs\n",
    "    if sum(weights)==0:\n",
    "        return np.nan\n",
    "    adjustedavg = np.average(data.docamount,weights=weights)\n",
    "    return adjustedavg"
   ]
  },
  {
   "cell_type": "code",
   "execution_count": 17,
   "metadata": {
    "collapsed": false
   },
   "outputs": [],
   "source": [
    "sales['time_weighted_mean']=[time_weighted_mean(t,sales) for t in sales.index.values]"
   ]
  },
  {
   "cell_type": "code",
   "execution_count": 18,
   "metadata": {
    "collapsed": true
   },
   "outputs": [],
   "source": [
    "sales['time_weighted_mean10']=[time_weighted_mean(t,sales,10) for t in sales.index.values]"
   ]
  },
  {
   "cell_type": "markdown",
   "metadata": {},
   "source": [
    "## Calculate rolling/weight means by bedrooms"
   ]
  },
  {
   "cell_type": "code",
   "execution_count": 19,
   "metadata": {
    "collapsed": false
   },
   "outputs": [
    {
     "name": "stderr",
     "output_type": "stream",
     "text": [
      "/Users/helene/anaconda/lib/python2.7/site-packages/IPython/kernel/__main__.py:4: SettingWithCopyWarning: \n",
      "A value is trying to be set on a copy of a slice from a DataFrame.\n",
      "Try using .loc[row_indexer,col_indexer] = value instead\n",
      "\n",
      "See the the caveats in the documentation: http://pandas.pydata.org/pandas-docs/stable/indexing.html#indexing-view-versus-copy\n",
      "/Users/helene/anaconda/lib/python2.7/site-packages/IPython/kernel/__main__.py:5: SettingWithCopyWarning: \n",
      "A value is trying to be set on a copy of a slice from a DataFrame.\n",
      "Try using .loc[row_indexer,col_indexer] = value instead\n",
      "\n",
      "See the the caveats in the documentation: http://pandas.pydata.org/pandas-docs/stable/indexing.html#indexing-view-versus-copy\n"
     ]
    }
   ],
   "source": [
    "out=[]\n",
    "g = sales.groupby('bedrooms')\n",
    "for name, group in g:\n",
    "    group['br_time_weighted_mean']=[time_weighted_mean(t,group,5) for t in group.index.values]\n",
    "    group['br_rm']=pd.rolling_mean(group.docamount,5,min_periods=1).shift(+1)\n",
    "    out.append(group)\n",
    "sales = pd.concat(out).sort_index()\n"
   ]
  },
  {
   "cell_type": "markdown",
   "metadata": {},
   "source": [
    "## Plot of prices over time and rolling means\n",
    "\n",
    "- Red line rolling mean of prior 10 sales\n",
    "- Yellow line has exponential decay of sale prices (so more recent sales count more)"
   ]
  },
  {
   "cell_type": "code",
   "execution_count": 20,
   "metadata": {
    "collapsed": false
   },
   "outputs": [],
   "source": [
    "def colorfrombr(br):\n",
    "    if br=='1':\n",
    "        return 'g'\n",
    "    if br=='2':\n",
    "        return 'b'\n",
    "    if br=='3':\n",
    "        return 'r'\n",
    "    else:\n",
    "        return 'k'"
   ]
  },
  {
   "cell_type": "code",
   "execution_count": 21,
   "metadata": {
    "collapsed": false,
    "scrolled": false
   },
   "outputs": [
    {
     "data": {
      "image/png": "[encoded data removed]",
      "text/plain": [
       "<matplotlib.figure.Figure at 0x10a72ac50>"
      ]
     },
     "metadata": {},
     "output_type": "display_data"
    }
   ],
   "source": [
    "plt.figure(figsize=(12,8))\n",
    "x=sales.index.values\n",
    "y=sales.docamount\n",
    "c=[int(s)*50 for s in sales.bedrooms]\n",
    "plt.scatter(x,y,s=c,c=c,label='sales (3br red, 2br blue)')\n",
    "sales.rm.plot(style='r',label='rolling mean')\n",
    "sales.time_weighted_mean.plot(style='b')\n",
    "sales.time_weighted_mean10.plot(style='k')\n",
    "plt.legend(loc=2)\n",
    "plt.show()"
   ]
  },
  {
   "cell_type": "code",
   "execution_count": 22,
   "metadata": {
    "collapsed": false
   },
   "outputs": [
    {
     "data": {
      "image/png": "[encoded data removed]",
      "text/plain": [
       "<matplotlib.figure.Figure at 0x10a9b2f10>"
      ]
     },
     "metadata": {},
     "output_type": "display_data"
    }
   ],
   "source": [
    "plt.figure(figsize=(12,8))\n",
    "x=sales.index.values\n",
    "y=sales.docamount\n",
    "c=[int(s)*50 for s in sales.bedrooms]\n",
    "plt.scatter(x,y,s=c,c=c,label='sales (3br red, 2br blue)')\n",
    "g = sales.groupby('bedrooms')\n",
    "for name, group in g:\n",
    "    group.br_time_weighted_mean.plot(style='-',color=colorfrombr(name))\n",
    "    group.br_rm.plot(style='--',color=colorfrombr(name))\n",
    "plt.legend(loc=4)\n",
    "plt.show()"
   ]
  },
  {
   "cell_type": "code",
   "execution_count": null,
   "metadata": {
    "collapsed": true
   },
   "outputs": [],
   "source": []
  },
  {
   "cell_type": "markdown",
   "metadata": {},
   "source": [
    "### Regressions of prices based on prior sales, line floor and building number\n",
    " \n",
    "- Not using any known information about bedrooms/buildings/views\n",
    "- Provides good fit with adjusted R^2 = 0.728"
   ]
  },
  {
   "cell_type": "code",
   "execution_count": 23,
   "metadata": {
    "collapsed": false
   },
   "outputs": [
    {
     "data": {
      "text/html": [
       "<table class=\"simpletable\">\n",
       "<caption>OLS Regression Results</caption>\n",
       "<tr>\n",
       "  <th>Dep. Variable:</th>        <td>docamount</td>    <th>  R-squared:         </th> <td>   0.748</td>\n",
       "</tr>\n",
       "<tr>\n",
       "  <th>Model:</th>                   <td>OLS</td>       <th>  Adj. R-squared:    </th> <td>   0.728</td>\n",
       "</tr>\n",
       "<tr>\n",
       "  <th>Method:</th>             <td>Least Squares</td>  <th>  F-statistic:       </th> <td>   37.81</td>\n",
       "</tr>\n",
       "<tr>\n",
       "  <th>Date:</th>             <td>Thu, 19 Nov 2015</td> <th>  Prob (F-statistic):</th> <td>1.52e-36</td>\n",
       "</tr>\n",
       "<tr>\n",
       "  <th>Time:</th>                 <td>20:16:00</td>     <th>  Log-Likelihood:    </th> <td> -1784.5</td>\n",
       "</tr>\n",
       "<tr>\n",
       "  <th>No. Observations:</th>      <td>   152</td>      <th>  AIC:               </th> <td>   3593.</td>\n",
       "</tr>\n",
       "<tr>\n",
       "  <th>Df Residuals:</th>          <td>   140</td>      <th>  BIC:               </th> <td>   3629.</td>\n",
       "</tr>\n",
       "<tr>\n",
       "  <th>Df Model:</th>              <td>    11</td>      <th>                     </th>     <td> </td>   \n",
       "</tr>\n",
       "<tr>\n",
       "  <th>Covariance Type:</th>      <td>nonrobust</td>    <th>                     </th>     <td> </td>   \n",
       "</tr>\n",
       "</table>\n",
       "<table class=\"simpletable\">\n",
       "<tr>\n",
       "         <td></td>            <th>coef</th>     <th>std err</th>      <th>t</th>      <th>P>|t|</th> <th>[95.0% Conf. Int.]</th> \n",
       "</tr>\n",
       "<tr>\n",
       "  <th>Intercept</th>       <td>-3.424e+04</td> <td> 1.89e+04</td> <td>   -1.808</td> <td> 0.073</td> <td>-7.17e+04  3198.050</td>\n",
       "</tr>\n",
       "<tr>\n",
       "  <th>line[T.B]</th>       <td> 7292.8308</td> <td> 6976.800</td> <td>    1.045</td> <td> 0.298</td> <td>-6500.677  2.11e+04</td>\n",
       "</tr>\n",
       "<tr>\n",
       "  <th>line[T.C]</th>       <td> 1.113e+04</td> <td> 7088.964</td> <td>    1.570</td> <td> 0.119</td> <td>-2888.468  2.51e+04</td>\n",
       "</tr>\n",
       "<tr>\n",
       "  <th>line[T.D]</th>       <td> 1.001e+04</td> <td> 7647.090</td> <td>    1.309</td> <td> 0.193</td> <td>-5108.804  2.51e+04</td>\n",
       "</tr>\n",
       "<tr>\n",
       "  <th>bldgnum[T.3347]</th> <td> 4.951e+04</td> <td> 1.07e+04</td> <td>    4.612</td> <td> 0.000</td> <td> 2.83e+04  7.07e+04</td>\n",
       "</tr>\n",
       "<tr>\n",
       "  <th>bldgnum[T.3355]</th> <td> -560.8478</td> <td> 9086.106</td> <td>   -0.062</td> <td> 0.951</td> <td>-1.85e+04  1.74e+04</td>\n",
       "</tr>\n",
       "<tr>\n",
       "  <th>bldgnum[T.3360]</th> <td> 5.477e+04</td> <td> 8741.035</td> <td>    6.266</td> <td> 0.000</td> <td> 3.75e+04  7.21e+04</td>\n",
       "</tr>\n",
       "<tr>\n",
       "  <th>bldgnum[T.3364]</th> <td>-4015.5680</td> <td> 9588.145</td> <td>   -0.419</td> <td> 0.676</td> <td> -2.3e+04  1.49e+04</td>\n",
       "</tr>\n",
       "<tr>\n",
       "  <th>bldgnum[T.3365]</th> <td>-1.472e+04</td> <td> 8512.701</td> <td>   -1.730</td> <td> 0.086</td> <td>-3.16e+04  2106.263</td>\n",
       "</tr>\n",
       "<tr>\n",
       "  <th>bldgnum[T.3368]</th> <td> 4.508e+04</td> <td> 9700.784</td> <td>    4.647</td> <td> 0.000</td> <td> 2.59e+04  6.43e+04</td>\n",
       "</tr>\n",
       "<tr>\n",
       "  <th>rm</th>              <td>    0.9893</td> <td>    0.056</td> <td>   17.754</td> <td> 0.000</td> <td>    0.879     1.100</td>\n",
       "</tr>\n",
       "<tr>\n",
       "  <th>floor</th>           <td> 3004.5522</td> <td>  657.826</td> <td>    4.567</td> <td> 0.000</td> <td> 1703.995  4305.110</td>\n",
       "</tr>\n",
       "</table>\n",
       "<table class=\"simpletable\">\n",
       "<tr>\n",
       "  <th>Omnibus:</th>       <td> 5.750</td> <th>  Durbin-Watson:     </th> <td>   1.769</td>\n",
       "</tr>\n",
       "<tr>\n",
       "  <th>Prob(Omnibus):</th> <td> 0.056</td> <th>  Jarque-Bera (JB):  </th> <td>   5.289</td>\n",
       "</tr>\n",
       "<tr>\n",
       "  <th>Skew:</th>          <td>-0.413</td> <th>  Prob(JB):          </th> <td>  0.0711</td>\n",
       "</tr>\n",
       "<tr>\n",
       "  <th>Kurtosis:</th>      <td> 3.392</td> <th>  Cond. No.          </th> <td>2.38e+06</td>\n",
       "</tr>\n",
       "</table>"
      ],
      "text/plain": [
       "<class 'statsmodels.iolib.summary.Summary'>\n",
       "\"\"\"\n",
       "                            OLS Regression Results                            \n",
       "==============================================================================\n",
       "Dep. Variable:              docamount   R-squared:                       0.748\n",
       "Model:                            OLS   Adj. R-squared:                  0.728\n",
       "Method:                 Least Squares   F-statistic:                     37.81\n",
       "Date:                Thu, 19 Nov 2015   Prob (F-statistic):           1.52e-36\n",
       "Time:                        20:16:00   Log-Likelihood:                -1784.5\n",
       "No. Observations:                 152   AIC:                             3593.\n",
       "Df Residuals:                     140   BIC:                             3629.\n",
       "Df Model:                          11                                         \n",
       "Covariance Type:            nonrobust                                         \n",
       "===================================================================================\n",
       "                      coef    std err          t      P>|t|      [95.0% Conf. Int.]\n",
       "-----------------------------------------------------------------------------------\n",
       "Intercept       -3.424e+04   1.89e+04     -1.808      0.073     -7.17e+04  3198.050\n",
       "line[T.B]        7292.8308   6976.800      1.045      0.298     -6500.677  2.11e+04\n",
       "line[T.C]        1.113e+04   7088.964      1.570      0.119     -2888.468  2.51e+04\n",
       "line[T.D]        1.001e+04   7647.090      1.309      0.193     -5108.804  2.51e+04\n",
       "bldgnum[T.3347]  4.951e+04   1.07e+04      4.612      0.000      2.83e+04  7.07e+04\n",
       "bldgnum[T.3355]  -560.8478   9086.106     -0.062      0.951     -1.85e+04  1.74e+04\n",
       "bldgnum[T.3360]  5.477e+04   8741.035      6.266      0.000      3.75e+04  7.21e+04\n",
       "bldgnum[T.3364] -4015.5680   9588.145     -0.419      0.676      -2.3e+04  1.49e+04\n",
       "bldgnum[T.3365] -1.472e+04   8512.701     -1.730      0.086     -3.16e+04  2106.263\n",
       "bldgnum[T.3368]  4.508e+04   9700.784      4.647      0.000      2.59e+04  6.43e+04\n",
       "rm                  0.9893      0.056     17.754      0.000         0.879     1.100\n",
       "floor            3004.5522    657.826      4.567      0.000      1703.995  4305.110\n",
       "==============================================================================\n",
       "Omnibus:                        5.750   Durbin-Watson:                   1.769\n",
       "Prob(Omnibus):                  0.056   Jarque-Bera (JB):                5.289\n",
       "Skew:                          -0.413   Prob(JB):                       0.0711\n",
       "Kurtosis:                       3.392   Cond. No.                     2.38e+06\n",
       "==============================================================================\n",
       "\n",
       "Warnings:\n",
       "[1] Standard Errors assume that the covariance matrix of the errors is correctly specified.\n",
       "[2] The condition number is large, 2.38e+06. This might indicate that there are\n",
       "strong multicollinearity or other numerical problems.\n",
       "\"\"\""
      ]
     },
     "execution_count": 23,
     "metadata": {},
     "output_type": "execute_result"
    }
   ],
   "source": [
    "results = ols(formula=\"docamount ~ rm + line + floor + bldgnum\", data=sales).fit()\n",
    "results.summary()"
   ]
  },
  {
   "cell_type": "markdown",
   "metadata": {},
   "source": [
    "## Regression - addding interaction for building-line\n",
    "\n",
    "- Caution - these interaction terms leave fairly small group sizes, averaging around 5 and most as few as 2. \n",
    "- Only improves model very slightly to adjusted R^2 of 0.748, probably overfitting and not worth it "
   ]
  },
  {
   "cell_type": "code",
   "execution_count": 24,
   "metadata": {
    "collapsed": false
   },
   "outputs": [
    {
     "data": {
      "text/plain": [
       "bldgnum  line\n",
       "3343     A       9\n",
       "         B       8\n",
       "         C       8\n",
       "         D       5\n",
       "3347     A       6\n",
       "         B       3\n",
       "         C       2\n",
       "         D       2\n",
       "3355     A       4\n",
       "         B       5\n",
       "         C       8\n",
       "         D       5\n",
       "3360     A       7\n",
       "         B       5\n",
       "         C       5\n",
       "         D       8\n",
       "3364     A       5\n",
       "         B       5\n",
       "         C       9\n",
       "3365     A       8\n",
       "         B       7\n",
       "         C       6\n",
       "         D       6\n",
       "3368     A       7\n",
       "         B       5\n",
       "         C       2\n",
       "         D       3\n",
       "dtype: int64"
      ]
     },
     "execution_count": 24,
     "metadata": {},
     "output_type": "execute_result"
    },
    {
     "data": {
      "image/png": "[encoded data removed]",
      "text/plain": [
       "<matplotlib.figure.Figure at 0x10ae386d0>"
      ]
     },
     "metadata": {},
     "output_type": "display_data"
    }
   ],
   "source": [
    "sales.groupby(['bldgnum','line']).size().plot(kind='hist',title='Number of observations per cell')\n",
    "sales.groupby(['bldgnum','line']).size()"
   ]
  },
  {
   "cell_type": "code",
   "execution_count": 25,
   "metadata": {
    "collapsed": false
   },
   "outputs": [
    {
     "data": {
      "text/html": [
       "<table class=\"simpletable\">\n",
       "<caption>OLS Regression Results</caption>\n",
       "<tr>\n",
       "  <th>Dep. Variable:</th>        <td>docamount</td>    <th>  R-squared:         </th> <td>   0.795</td>\n",
       "</tr>\n",
       "<tr>\n",
       "  <th>Model:</th>                   <td>OLS</td>       <th>  Adj. R-squared:    </th> <td>   0.748</td>\n",
       "</tr>\n",
       "<tr>\n",
       "  <th>Method:</th>             <td>Least Squares</td>  <th>  F-statistic:       </th> <td>   17.01</td>\n",
       "</tr>\n",
       "<tr>\n",
       "  <th>Date:</th>             <td>Thu, 19 Nov 2015</td> <th>  Prob (F-statistic):</th> <td>3.08e-30</td>\n",
       "</tr>\n",
       "<tr>\n",
       "  <th>Time:</th>                 <td>20:16:00</td>     <th>  Log-Likelihood:    </th> <td> -1768.9</td>\n",
       "</tr>\n",
       "<tr>\n",
       "  <th>No. Observations:</th>      <td>   152</td>      <th>  AIC:               </th> <td>   3596.</td>\n",
       "</tr>\n",
       "<tr>\n",
       "  <th>Df Residuals:</th>          <td>   123</td>      <th>  BIC:               </th> <td>   3684.</td>\n",
       "</tr>\n",
       "<tr>\n",
       "  <th>Df Model:</th>              <td>    28</td>      <th>                     </th>     <td> </td>   \n",
       "</tr>\n",
       "<tr>\n",
       "  <th>Covariance Type:</th>      <td>nonrobust</td>    <th>                     </th>     <td> </td>   \n",
       "</tr>\n",
       "</table>\n",
       "<table class=\"simpletable\">\n",
       "<tr>\n",
       "              <td></td>                 <th>coef</th>     <th>std err</th>      <th>t</th>      <th>P>|t|</th> <th>[95.0% Conf. Int.]</th> \n",
       "</tr>\n",
       "<tr>\n",
       "  <th>Intercept</th>                 <td>-3.538e+04</td> <td> 2.04e+04</td> <td>   -1.738</td> <td> 0.085</td> <td>-7.57e+04  4921.748</td>\n",
       "</tr>\n",
       "<tr>\n",
       "  <th>line[T.B]</th>                 <td>-8758.8611</td> <td> 1.49e+04</td> <td>   -0.587</td> <td> 0.558</td> <td>-3.83e+04  2.08e+04</td>\n",
       "</tr>\n",
       "<tr>\n",
       "  <th>line[T.C]</th>                 <td> 7244.3603</td> <td> 1.55e+04</td> <td>    0.468</td> <td> 0.640</td> <td>-2.34e+04  3.79e+04</td>\n",
       "</tr>\n",
       "<tr>\n",
       "  <th>line[T.D]</th>                 <td> 2874.1182</td> <td>  1.7e+04</td> <td>    0.169</td> <td> 0.866</td> <td>-3.08e+04  3.65e+04</td>\n",
       "</tr>\n",
       "<tr>\n",
       "  <th>bldgnum[T.3347]</th>           <td> 4.972e+04</td> <td> 1.61e+04</td> <td>    3.092</td> <td> 0.002</td> <td> 1.79e+04  8.15e+04</td>\n",
       "</tr>\n",
       "<tr>\n",
       "  <th>bldgnum[T.3355]</th>           <td> 1.138e+04</td> <td> 1.85e+04</td> <td>    0.614</td> <td> 0.540</td> <td>-2.53e+04   4.8e+04</td>\n",
       "</tr>\n",
       "<tr>\n",
       "  <th>bldgnum[T.3360]</th>           <td> 5.574e+04</td> <td> 1.55e+04</td> <td>    3.592</td> <td> 0.000</td> <td>  2.5e+04  8.65e+04</td>\n",
       "</tr>\n",
       "<tr>\n",
       "  <th>bldgnum[T.3364]</th>           <td>-4.736e+04</td> <td>  1.7e+04</td> <td>   -2.781</td> <td> 0.006</td> <td>-8.11e+04 -1.36e+04</td>\n",
       "</tr>\n",
       "<tr>\n",
       "  <th>bldgnum[T.3365]</th>           <td>-1.855e+04</td> <td> 1.48e+04</td> <td>   -1.253</td> <td> 0.213</td> <td>-4.79e+04  1.08e+04</td>\n",
       "</tr>\n",
       "<tr>\n",
       "  <th>bldgnum[T.3368]</th>           <td>     3e+04</td> <td> 1.54e+04</td> <td>    1.952</td> <td> 0.053</td> <td> -415.199  6.04e+04</td>\n",
       "</tr>\n",
       "<tr>\n",
       "  <th>line[T.B]:bldgnum[T.3347]</th> <td>-8893.3131</td> <td> 2.65e+04</td> <td>   -0.336</td> <td> 0.738</td> <td>-6.13e+04  4.35e+04</td>\n",
       "</tr>\n",
       "<tr>\n",
       "  <th>line[T.C]:bldgnum[T.3347]</th> <td> 2.106e+04</td> <td> 2.98e+04</td> <td>    0.706</td> <td> 0.481</td> <td>-3.79e+04  8.01e+04</td>\n",
       "</tr>\n",
       "<tr>\n",
       "  <th>line[T.D]:bldgnum[T.3347]</th> <td>-1.255e+04</td> <td> 3.02e+04</td> <td>   -0.416</td> <td> 0.678</td> <td>-7.23e+04  4.72e+04</td>\n",
       "</tr>\n",
       "<tr>\n",
       "  <th>line[T.B]:bldgnum[T.3355]</th> <td> 3652.7452</td> <td> 2.53e+04</td> <td>    0.144</td> <td> 0.886</td> <td>-4.65e+04  5.38e+04</td>\n",
       "</tr>\n",
       "<tr>\n",
       "  <th>line[T.C]:bldgnum[T.3355]</th> <td>-2.251e+04</td> <td> 2.44e+04</td> <td>   -0.924</td> <td> 0.357</td> <td>-7.07e+04  2.57e+04</td>\n",
       "</tr>\n",
       "<tr>\n",
       "  <th>line[T.D]:bldgnum[T.3355]</th> <td>-1.766e+04</td> <td> 2.67e+04</td> <td>   -0.660</td> <td> 0.510</td> <td>-7.06e+04  3.53e+04</td>\n",
       "</tr>\n",
       "<tr>\n",
       "  <th>line[T.B]:bldgnum[T.3360]</th> <td>-3213.8597</td> <td> 2.34e+04</td> <td>   -0.137</td> <td> 0.891</td> <td>-4.96e+04  4.32e+04</td>\n",
       "</tr>\n",
       "<tr>\n",
       "  <th>line[T.C]:bldgnum[T.3360]</th> <td>-1.087e+04</td> <td> 2.39e+04</td> <td>   -0.455</td> <td> 0.650</td> <td>-5.82e+04  3.65e+04</td>\n",
       "</tr>\n",
       "<tr>\n",
       "  <th>line[T.D]:bldgnum[T.3360]</th> <td> 5478.7121</td> <td> 2.33e+04</td> <td>    0.235</td> <td> 0.814</td> <td>-4.06e+04  5.16e+04</td>\n",
       "</tr>\n",
       "<tr>\n",
       "  <th>line[T.B]:bldgnum[T.3364]</th> <td> 6.484e+04</td> <td> 2.45e+04</td> <td>    2.644</td> <td> 0.009</td> <td> 1.63e+04  1.13e+05</td>\n",
       "</tr>\n",
       "<tr>\n",
       "  <th>line[T.C]:bldgnum[T.3364]</th> <td> 5.498e+04</td> <td> 2.32e+04</td> <td>    2.375</td> <td> 0.019</td> <td> 9152.130  1.01e+05</td>\n",
       "</tr>\n",
       "<tr>\n",
       "  <th>line[T.D]:bldgnum[T.3364]</th> <td> 1.054e-07</td> <td> 9.73e-08</td> <td>    1.084</td> <td> 0.281</td> <td>-8.71e-08  2.98e-07</td>\n",
       "</tr>\n",
       "<tr>\n",
       "  <th>line[T.B]:bldgnum[T.3365]</th> <td> 5224.6908</td> <td> 2.17e+04</td> <td>    0.241</td> <td> 0.810</td> <td>-3.77e+04  4.82e+04</td>\n",
       "</tr>\n",
       "<tr>\n",
       "  <th>line[T.C]:bldgnum[T.3365]</th> <td>-6522.9050</td> <td> 2.26e+04</td> <td>   -0.289</td> <td> 0.773</td> <td>-5.13e+04  3.82e+04</td>\n",
       "</tr>\n",
       "<tr>\n",
       "  <th>line[T.D]:bldgnum[T.3365]</th> <td> 1.644e+04</td> <td> 2.37e+04</td> <td>    0.694</td> <td> 0.489</td> <td>-3.04e+04  6.33e+04</td>\n",
       "</tr>\n",
       "<tr>\n",
       "  <th>line[T.B]:bldgnum[T.3368]</th> <td> 5.576e+04</td> <td> 2.32e+04</td> <td>    2.404</td> <td> 0.018</td> <td> 9838.890  1.02e+05</td>\n",
       "</tr>\n",
       "<tr>\n",
       "  <th>line[T.C]:bldgnum[T.3368]</th> <td>-8552.4656</td> <td>  2.9e+04</td> <td>   -0.295</td> <td> 0.769</td> <td> -6.6e+04  4.89e+04</td>\n",
       "</tr>\n",
       "<tr>\n",
       "  <th>line[T.D]:bldgnum[T.3368]</th> <td>-3149.8826</td> <td> 2.71e+04</td> <td>   -0.116</td> <td> 0.908</td> <td>-5.68e+04  5.05e+04</td>\n",
       "</tr>\n",
       "<tr>\n",
       "  <th>rm</th>                        <td>    1.0123</td> <td>    0.057</td> <td>   17.763</td> <td> 0.000</td> <td>    0.900     1.125</td>\n",
       "</tr>\n",
       "<tr>\n",
       "  <th>floor</th>                     <td> 3122.7402</td> <td>  669.458</td> <td>    4.665</td> <td> 0.000</td> <td> 1797.590  4447.890</td>\n",
       "</tr>\n",
       "</table>\n",
       "<table class=\"simpletable\">\n",
       "<tr>\n",
       "  <th>Omnibus:</th>       <td> 9.921</td> <th>  Durbin-Watson:     </th> <td>   1.735</td>\n",
       "</tr>\n",
       "<tr>\n",
       "  <th>Prob(Omnibus):</th> <td> 0.007</td> <th>  Jarque-Bera (JB):  </th> <td>  12.035</td>\n",
       "</tr>\n",
       "<tr>\n",
       "  <th>Skew:</th>          <td>-0.437</td> <th>  Prob(JB):          </th> <td> 0.00244</td>\n",
       "</tr>\n",
       "<tr>\n",
       "  <th>Kurtosis:</th>      <td> 4.066</td> <th>  Cond. No.          </th> <td>9.13e+15</td>\n",
       "</tr>\n",
       "</table>"
      ],
      "text/plain": [
       "<class 'statsmodels.iolib.summary.Summary'>\n",
       "\"\"\"\n",
       "                            OLS Regression Results                            \n",
       "==============================================================================\n",
       "Dep. Variable:              docamount   R-squared:                       0.795\n",
       "Model:                            OLS   Adj. R-squared:                  0.748\n",
       "Method:                 Least Squares   F-statistic:                     17.01\n",
       "Date:                Thu, 19 Nov 2015   Prob (F-statistic):           3.08e-30\n",
       "Time:                        20:16:00   Log-Likelihood:                -1768.9\n",
       "No. Observations:                 152   AIC:                             3596.\n",
       "Df Residuals:                     123   BIC:                             3684.\n",
       "Df Model:                          28                                         \n",
       "Covariance Type:            nonrobust                                         \n",
       "=============================================================================================\n",
       "                                coef    std err          t      P>|t|      [95.0% Conf. Int.]\n",
       "---------------------------------------------------------------------------------------------\n",
       "Intercept                 -3.538e+04   2.04e+04     -1.738      0.085     -7.57e+04  4921.748\n",
       "line[T.B]                 -8758.8611   1.49e+04     -0.587      0.558     -3.83e+04  2.08e+04\n",
       "line[T.C]                  7244.3603   1.55e+04      0.468      0.640     -2.34e+04  3.79e+04\n",
       "line[T.D]                  2874.1182    1.7e+04      0.169      0.866     -3.08e+04  3.65e+04\n",
       "bldgnum[T.3347]            4.972e+04   1.61e+04      3.092      0.002      1.79e+04  8.15e+04\n",
       "bldgnum[T.3355]            1.138e+04   1.85e+04      0.614      0.540     -2.53e+04   4.8e+04\n",
       "bldgnum[T.3360]            5.574e+04   1.55e+04      3.592      0.000       2.5e+04  8.65e+04\n",
       "bldgnum[T.3364]           -4.736e+04    1.7e+04     -2.781      0.006     -8.11e+04 -1.36e+04\n",
       "bldgnum[T.3365]           -1.855e+04   1.48e+04     -1.253      0.213     -4.79e+04  1.08e+04\n",
       "bldgnum[T.3368]                3e+04   1.54e+04      1.952      0.053      -415.199  6.04e+04\n",
       "line[T.B]:bldgnum[T.3347] -8893.3131   2.65e+04     -0.336      0.738     -6.13e+04  4.35e+04\n",
       "line[T.C]:bldgnum[T.3347]  2.106e+04   2.98e+04      0.706      0.481     -3.79e+04  8.01e+04\n",
       "line[T.D]:bldgnum[T.3347] -1.255e+04   3.02e+04     -0.416      0.678     -7.23e+04  4.72e+04\n",
       "line[T.B]:bldgnum[T.3355]  3652.7452   2.53e+04      0.144      0.886     -4.65e+04  5.38e+04\n",
       "line[T.C]:bldgnum[T.3355] -2.251e+04   2.44e+04     -0.924      0.357     -7.07e+04  2.57e+04\n",
       "line[T.D]:bldgnum[T.3355] -1.766e+04   2.67e+04     -0.660      0.510     -7.06e+04  3.53e+04\n",
       "line[T.B]:bldgnum[T.3360] -3213.8597   2.34e+04     -0.137      0.891     -4.96e+04  4.32e+04\n",
       "line[T.C]:bldgnum[T.3360] -1.087e+04   2.39e+04     -0.455      0.650     -5.82e+04  3.65e+04\n",
       "line[T.D]:bldgnum[T.3360]  5478.7121   2.33e+04      0.235      0.814     -4.06e+04  5.16e+04\n",
       "line[T.B]:bldgnum[T.3364]  6.484e+04   2.45e+04      2.644      0.009      1.63e+04  1.13e+05\n",
       "line[T.C]:bldgnum[T.3364]  5.498e+04   2.32e+04      2.375      0.019      9152.130  1.01e+05\n",
       "line[T.D]:bldgnum[T.3364]  1.054e-07   9.73e-08      1.084      0.281     -8.71e-08  2.98e-07\n",
       "line[T.B]:bldgnum[T.3365]  5224.6908   2.17e+04      0.241      0.810     -3.77e+04  4.82e+04\n",
       "line[T.C]:bldgnum[T.3365] -6522.9050   2.26e+04     -0.289      0.773     -5.13e+04  3.82e+04\n",
       "line[T.D]:bldgnum[T.3365]  1.644e+04   2.37e+04      0.694      0.489     -3.04e+04  6.33e+04\n",
       "line[T.B]:bldgnum[T.3368]  5.576e+04   2.32e+04      2.404      0.018      9838.890  1.02e+05\n",
       "line[T.C]:bldgnum[T.3368] -8552.4656    2.9e+04     -0.295      0.769      -6.6e+04  4.89e+04\n",
       "line[T.D]:bldgnum[T.3368] -3149.8826   2.71e+04     -0.116      0.908     -5.68e+04  5.05e+04\n",
       "rm                            1.0123      0.057     17.763      0.000         0.900     1.125\n",
       "floor                      3122.7402    669.458      4.665      0.000      1797.590  4447.890\n",
       "==============================================================================\n",
       "Omnibus:                        9.921   Durbin-Watson:                   1.735\n",
       "Prob(Omnibus):                  0.007   Jarque-Bera (JB):               12.035\n",
       "Skew:                          -0.437   Prob(JB):                      0.00244\n",
       "Kurtosis:                       4.066   Cond. No.                     9.13e+15\n",
       "==============================================================================\n",
       "\n",
       "Warnings:\n",
       "[1] Standard Errors assume that the covariance matrix of the errors is correctly specified.\n",
       "[2] The smallest eigenvalue is 1.57e-19. This might indicate that there are\n",
       "strong multicollinearity problems or that the design matrix is singular.\n",
       "\"\"\""
      ]
     },
     "execution_count": 25,
     "metadata": {},
     "output_type": "execute_result"
    }
   ],
   "source": [
    "results = ols(formula=\"docamount ~ rm + line + floor + bldgnum + line*bldgnum\", data=sales).fit()\n",
    "results.summary()"
   ]
  },
  {
   "cell_type": "markdown",
   "metadata": {},
   "source": [
    "### Regressions using rolling mean and know characteristics: bedrooms and skyline views\n",
    "\n",
    "- Adjusted R^2 = 0.689\n",
    "- Fairly strong but not as good as just using generic building, line and floor numbers\n",
    "- View seems particularly bad, let's take out and put back in floor"
   ]
  },
  {
   "cell_type": "code",
   "execution_count": 26,
   "metadata": {
    "collapsed": false,
    "scrolled": false
   },
   "outputs": [
    {
     "data": {
      "text/html": [
       "<table class=\"simpletable\">\n",
       "<caption>OLS Regression Results</caption>\n",
       "<tr>\n",
       "  <th>Dep. Variable:</th>        <td>docamount</td>    <th>  R-squared:         </th> <td>   0.693</td>\n",
       "</tr>\n",
       "<tr>\n",
       "  <th>Model:</th>                   <td>OLS</td>       <th>  Adj. R-squared:    </th> <td>   0.687</td>\n",
       "</tr>\n",
       "<tr>\n",
       "  <th>Method:</th>             <td>Least Squares</td>  <th>  F-statistic:       </th> <td>   111.5</td>\n",
       "</tr>\n",
       "<tr>\n",
       "  <th>Date:</th>             <td>Thu, 19 Nov 2015</td> <th>  Prob (F-statistic):</th> <td>8.56e-38</td>\n",
       "</tr>\n",
       "<tr>\n",
       "  <th>Time:</th>                 <td>20:16:00</td>     <th>  Log-Likelihood:    </th> <td> -1799.5</td>\n",
       "</tr>\n",
       "<tr>\n",
       "  <th>No. Observations:</th>      <td>   152</td>      <th>  AIC:               </th> <td>   3607.</td>\n",
       "</tr>\n",
       "<tr>\n",
       "  <th>Df Residuals:</th>          <td>   148</td>      <th>  BIC:               </th> <td>   3619.</td>\n",
       "</tr>\n",
       "<tr>\n",
       "  <th>Df Model:</th>              <td>     3</td>      <th>                     </th>     <td> </td>   \n",
       "</tr>\n",
       "<tr>\n",
       "  <th>Covariance Type:</th>      <td>nonrobust</td>    <th>                     </th>     <td> </td>   \n",
       "</tr>\n",
       "</table>\n",
       "<table class=\"simpletable\">\n",
       "<tr>\n",
       "        <td></td>           <th>coef</th>     <th>std err</th>      <th>t</th>      <th>P>|t|</th> <th>[95.0% Conf. Int.]</th> \n",
       "</tr>\n",
       "<tr>\n",
       "  <th>Intercept</th>     <td>   87.7066</td> <td> 1.75e+04</td> <td>    0.005</td> <td> 0.996</td> <td>-3.45e+04  3.47e+04</td>\n",
       "</tr>\n",
       "<tr>\n",
       "  <th>bedrooms[T.3]</th> <td> 5.723e+04</td> <td> 6024.833</td> <td>    9.498</td> <td> 0.000</td> <td> 4.53e+04  6.91e+04</td>\n",
       "</tr>\n",
       "<tr>\n",
       "  <th>view[T.True]</th>  <td> 3752.4876</td> <td> 8523.739</td> <td>    0.440</td> <td> 0.660</td> <td>-1.31e+04  2.06e+04</td>\n",
       "</tr>\n",
       "<tr>\n",
       "  <th>rm</th>            <td>    0.9552</td> <td>    0.058</td> <td>   16.370</td> <td> 0.000</td> <td>    0.840     1.071</td>\n",
       "</tr>\n",
       "</table>\n",
       "<table class=\"simpletable\">\n",
       "<tr>\n",
       "  <th>Omnibus:</th>       <td>15.267</td> <th>  Durbin-Watson:     </th> <td>   1.947</td>\n",
       "</tr>\n",
       "<tr>\n",
       "  <th>Prob(Omnibus):</th> <td> 0.000</td> <th>  Jarque-Bera (JB):  </th> <td>  17.618</td>\n",
       "</tr>\n",
       "<tr>\n",
       "  <th>Skew:</th>          <td>-0.681</td> <th>  Prob(JB):          </th> <td>0.000149</td>\n",
       "</tr>\n",
       "<tr>\n",
       "  <th>Kurtosis:</th>      <td> 3.961</td> <th>  Cond. No.          </th> <td>1.88e+06</td>\n",
       "</tr>\n",
       "</table>"
      ],
      "text/plain": [
       "<class 'statsmodels.iolib.summary.Summary'>\n",
       "\"\"\"\n",
       "                            OLS Regression Results                            \n",
       "==============================================================================\n",
       "Dep. Variable:              docamount   R-squared:                       0.693\n",
       "Model:                            OLS   Adj. R-squared:                  0.687\n",
       "Method:                 Least Squares   F-statistic:                     111.5\n",
       "Date:                Thu, 19 Nov 2015   Prob (F-statistic):           8.56e-38\n",
       "Time:                        20:16:00   Log-Likelihood:                -1799.5\n",
       "No. Observations:                 152   AIC:                             3607.\n",
       "Df Residuals:                     148   BIC:                             3619.\n",
       "Df Model:                           3                                         \n",
       "Covariance Type:            nonrobust                                         \n",
       "=================================================================================\n",
       "                    coef    std err          t      P>|t|      [95.0% Conf. Int.]\n",
       "---------------------------------------------------------------------------------\n",
       "Intercept        87.7066   1.75e+04      0.005      0.996     -3.45e+04  3.47e+04\n",
       "bedrooms[T.3]  5.723e+04   6024.833      9.498      0.000      4.53e+04  6.91e+04\n",
       "view[T.True]   3752.4876   8523.739      0.440      0.660     -1.31e+04  2.06e+04\n",
       "rm                0.9552      0.058     16.370      0.000         0.840     1.071\n",
       "==============================================================================\n",
       "Omnibus:                       15.267   Durbin-Watson:                   1.947\n",
       "Prob(Omnibus):                  0.000   Jarque-Bera (JB):               17.618\n",
       "Skew:                          -0.681   Prob(JB):                     0.000149\n",
       "Kurtosis:                       3.961   Cond. No.                     1.88e+06\n",
       "==============================================================================\n",
       "\n",
       "Warnings:\n",
       "[1] Standard Errors assume that the covariance matrix of the errors is correctly specified.\n",
       "[2] The condition number is large, 1.88e+06. This might indicate that there are\n",
       "strong multicollinearity or other numerical problems.\n",
       "\"\"\""
      ]
     },
     "execution_count": 26,
     "metadata": {},
     "output_type": "execute_result"
    }
   ],
   "source": [
    "results = ols(formula=\"docamount ~ rm + bedrooms + view\", data=sales).fit()\n",
    "results.summary()"
   ]
  },
  {
   "cell_type": "markdown",
   "metadata": {},
   "source": [
    "## Rolling mean bedrooms and floor\n",
    "\n",
    "- Much better than my guess at view"
   ]
  },
  {
   "cell_type": "code",
   "execution_count": 27,
   "metadata": {
    "collapsed": false
   },
   "outputs": [
    {
     "data": {
      "text/html": [
       "<table class=\"simpletable\">\n",
       "<caption>OLS Regression Results</caption>\n",
       "<tr>\n",
       "  <th>Dep. Variable:</th>        <td>docamount</td>    <th>  R-squared:         </th> <td>   0.733</td>\n",
       "</tr>\n",
       "<tr>\n",
       "  <th>Model:</th>                   <td>OLS</td>       <th>  Adj. R-squared:    </th> <td>   0.728</td>\n",
       "</tr>\n",
       "<tr>\n",
       "  <th>Method:</th>             <td>Least Squares</td>  <th>  F-statistic:       </th> <td>   135.7</td>\n",
       "</tr>\n",
       "<tr>\n",
       "  <th>Date:</th>             <td>Thu, 19 Nov 2015</td> <th>  Prob (F-statistic):</th> <td>2.77e-42</td>\n",
       "</tr>\n",
       "<tr>\n",
       "  <th>Time:</th>                 <td>20:16:00</td>     <th>  Log-Likelihood:    </th> <td> -1788.8</td>\n",
       "</tr>\n",
       "<tr>\n",
       "  <th>No. Observations:</th>      <td>   152</td>      <th>  AIC:               </th> <td>   3586.</td>\n",
       "</tr>\n",
       "<tr>\n",
       "  <th>Df Residuals:</th>          <td>   148</td>      <th>  BIC:               </th> <td>   3598.</td>\n",
       "</tr>\n",
       "<tr>\n",
       "  <th>Df Model:</th>              <td>     3</td>      <th>                     </th>     <td> </td>   \n",
       "</tr>\n",
       "<tr>\n",
       "  <th>Covariance Type:</th>      <td>nonrobust</td>    <th>                     </th>     <td> </td>   \n",
       "</tr>\n",
       "</table>\n",
       "<table class=\"simpletable\">\n",
       "<tr>\n",
       "        <td></td>           <th>coef</th>     <th>std err</th>      <th>t</th>      <th>P>|t|</th> <th>[95.0% Conf. Int.]</th> \n",
       "</tr>\n",
       "<tr>\n",
       "  <th>Intercept</th>     <td>-2.561e+04</td> <td> 1.72e+04</td> <td>   -1.489</td> <td> 0.139</td> <td>-5.96e+04  8374.171</td>\n",
       "</tr>\n",
       "<tr>\n",
       "  <th>bedrooms[T.3]</th> <td> 5.422e+04</td> <td> 5394.344</td> <td>   10.052</td> <td> 0.000</td> <td> 4.36e+04  6.49e+04</td>\n",
       "</tr>\n",
       "<tr>\n",
       "  <th>rm</th>            <td>    0.9660</td> <td>    0.054</td> <td>   17.740</td> <td> 0.000</td> <td>    0.858     1.074</td>\n",
       "</tr>\n",
       "<tr>\n",
       "  <th>floor</th>         <td> 3028.2150</td> <td>  638.702</td> <td>    4.741</td> <td> 0.000</td> <td> 1766.062  4290.368</td>\n",
       "</tr>\n",
       "</table>\n",
       "<table class=\"simpletable\">\n",
       "<tr>\n",
       "  <th>Omnibus:</th>       <td>14.246</td> <th>  Durbin-Watson:     </th> <td>   1.814</td>\n",
       "</tr>\n",
       "<tr>\n",
       "  <th>Prob(Omnibus):</th> <td> 0.001</td> <th>  Jarque-Bera (JB):  </th> <td>  15.760</td>\n",
       "</tr>\n",
       "<tr>\n",
       "  <th>Skew:</th>          <td>-0.674</td> <th>  Prob(JB):          </th> <td>0.000378</td>\n",
       "</tr>\n",
       "<tr>\n",
       "  <th>Kurtosis:</th>      <td> 3.819</td> <th>  Cond. No.          </th> <td>1.97e+06</td>\n",
       "</tr>\n",
       "</table>"
      ],
      "text/plain": [
       "<class 'statsmodels.iolib.summary.Summary'>\n",
       "\"\"\"\n",
       "                            OLS Regression Results                            \n",
       "==============================================================================\n",
       "Dep. Variable:              docamount   R-squared:                       0.733\n",
       "Model:                            OLS   Adj. R-squared:                  0.728\n",
       "Method:                 Least Squares   F-statistic:                     135.7\n",
       "Date:                Thu, 19 Nov 2015   Prob (F-statistic):           2.77e-42\n",
       "Time:                        20:16:00   Log-Likelihood:                -1788.8\n",
       "No. Observations:                 152   AIC:                             3586.\n",
       "Df Residuals:                     148   BIC:                             3598.\n",
       "Df Model:                           3                                         \n",
       "Covariance Type:            nonrobust                                         \n",
       "=================================================================================\n",
       "                    coef    std err          t      P>|t|      [95.0% Conf. Int.]\n",
       "---------------------------------------------------------------------------------\n",
       "Intercept     -2.561e+04   1.72e+04     -1.489      0.139     -5.96e+04  8374.171\n",
       "bedrooms[T.3]  5.422e+04   5394.344     10.052      0.000      4.36e+04  6.49e+04\n",
       "rm                0.9660      0.054     17.740      0.000         0.858     1.074\n",
       "floor          3028.2150    638.702      4.741      0.000      1766.062  4290.368\n",
       "==============================================================================\n",
       "Omnibus:                       14.246   Durbin-Watson:                   1.814\n",
       "Prob(Omnibus):                  0.001   Jarque-Bera (JB):               15.760\n",
       "Skew:                          -0.674   Prob(JB):                     0.000378\n",
       "Kurtosis:                       3.819   Cond. No.                     1.97e+06\n",
       "==============================================================================\n",
       "\n",
       "Warnings:\n",
       "[1] Standard Errors assume that the covariance matrix of the errors is correctly specified.\n",
       "[2] The condition number is large, 1.97e+06. This might indicate that there are\n",
       "strong multicollinearity or other numerical problems.\n",
       "\"\"\""
      ]
     },
     "execution_count": 27,
     "metadata": {},
     "output_type": "execute_result"
    }
   ],
   "source": [
    "results = ols(formula=\"docamount ~ rm + bedrooms + floor\", data=sales).fit()\n",
    "results.summary()"
   ]
  },
  {
   "cell_type": "markdown",
   "metadata": {},
   "source": [
    "## Adding back in building number to see if still matters with bedrooms in \n",
    "\n",
    "- One building still significant - possible explanations - center of complex, has management office in building , or just a few outlier sales? \n",
    "- But adjusted R-squared stays the same "
   ]
  },
  {
   "cell_type": "code",
   "execution_count": 28,
   "metadata": {
    "collapsed": false
   },
   "outputs": [
    {
     "data": {
      "text/html": [
       "<table class=\"simpletable\">\n",
       "<caption>OLS Regression Results</caption>\n",
       "<tr>\n",
       "  <th>Dep. Variable:</th>        <td>docamount</td>    <th>  R-squared:         </th> <td>   0.743</td>\n",
       "</tr>\n",
       "<tr>\n",
       "  <th>Model:</th>                   <td>OLS</td>       <th>  Adj. R-squared:    </th> <td>   0.728</td>\n",
       "</tr>\n",
       "<tr>\n",
       "  <th>Method:</th>             <td>Least Squares</td>  <th>  F-statistic:       </th> <td>   51.60</td>\n",
       "</tr>\n",
       "<tr>\n",
       "  <th>Date:</th>             <td>Thu, 19 Nov 2015</td> <th>  Prob (F-statistic):</th> <td>1.93e-38</td>\n",
       "</tr>\n",
       "<tr>\n",
       "  <th>Time:</th>                 <td>20:16:00</td>     <th>  Log-Likelihood:    </th> <td> -1786.1</td>\n",
       "</tr>\n",
       "<tr>\n",
       "  <th>No. Observations:</th>      <td>   152</td>      <th>  AIC:               </th> <td>   3590.</td>\n",
       "</tr>\n",
       "<tr>\n",
       "  <th>Df Residuals:</th>          <td>   143</td>      <th>  BIC:               </th> <td>   3617.</td>\n",
       "</tr>\n",
       "<tr>\n",
       "  <th>Df Model:</th>              <td>     8</td>      <th>                     </th>     <td> </td>   \n",
       "</tr>\n",
       "<tr>\n",
       "  <th>Covariance Type:</th>      <td>nonrobust</td>    <th>                     </th>     <td> </td>   \n",
       "</tr>\n",
       "</table>\n",
       "<table class=\"simpletable\">\n",
       "<tr>\n",
       "         <td></td>            <th>coef</th>     <th>std err</th>      <th>t</th>      <th>P>|t|</th> <th>[95.0% Conf. Int.]</th> \n",
       "</tr>\n",
       "<tr>\n",
       "  <th>Intercept</th>       <td>-2.746e+04</td> <td> 1.85e+04</td> <td>   -1.483</td> <td> 0.140</td> <td>-6.41e+04  9152.569</td>\n",
       "</tr>\n",
       "<tr>\n",
       "  <th>bedrooms[T.3]</th>   <td> 3.678e+04</td> <td> 5534.605</td> <td>    6.645</td> <td> 0.000</td> <td> 2.58e+04  4.77e+04</td>\n",
       "</tr>\n",
       "<tr>\n",
       "  <th>bldgnum[T.3347]</th> <td> 1.124e+04</td> <td> 7306.467</td> <td>    1.539</td> <td> 0.126</td> <td>-3199.343  2.57e+04</td>\n",
       "</tr>\n",
       "<tr>\n",
       "  <th>bldgnum[T.3355]</th> <td>  996.8740</td> <td> 9037.193</td> <td>    0.110</td> <td> 0.912</td> <td>-1.69e+04  1.89e+04</td>\n",
       "</tr>\n",
       "<tr>\n",
       "  <th>bldgnum[T.3360]</th> <td> 1.843e+04</td> <td> 5804.104</td> <td>    3.175</td> <td> 0.002</td> <td> 6953.402  2.99e+04</td>\n",
       "</tr>\n",
       "<tr>\n",
       "  <th>bldgnum[T.3364]</th> <td>-3217.0158</td> <td> 9438.968</td> <td>   -0.341</td> <td> 0.734</td> <td>-2.19e+04  1.54e+04</td>\n",
       "</tr>\n",
       "<tr>\n",
       "  <th>bldgnum[T.3365]</th> <td>-1.452e+04</td> <td> 8508.505</td> <td>   -1.707</td> <td> 0.090</td> <td>-3.13e+04  2294.484</td>\n",
       "</tr>\n",
       "<tr>\n",
       "  <th>bldgnum[T.3368]</th> <td> 7105.6065</td> <td> 6559.740</td> <td>    1.083</td> <td> 0.281</td> <td>-5860.981  2.01e+04</td>\n",
       "</tr>\n",
       "<tr>\n",
       "  <th>rm</th>              <td>    0.9876</td> <td>    0.056</td> <td>   17.739</td> <td> 0.000</td> <td>    0.878     1.098</td>\n",
       "</tr>\n",
       "<tr>\n",
       "  <th>floor</th>           <td> 3022.1217</td> <td>  655.639</td> <td>    4.609</td> <td> 0.000</td> <td> 1726.126  4318.118</td>\n",
       "</tr>\n",
       "</table>\n",
       "<table class=\"simpletable\">\n",
       "<tr>\n",
       "  <th>Omnibus:</th>       <td>11.401</td> <th>  Durbin-Watson:     </th> <td>   1.791</td>\n",
       "</tr>\n",
       "<tr>\n",
       "  <th>Prob(Omnibus):</th> <td> 0.003</td> <th>  Jarque-Bera (JB):  </th> <td>  11.912</td>\n",
       "</tr>\n",
       "<tr>\n",
       "  <th>Skew:</th>          <td>-0.596</td> <th>  Prob(JB):          </th> <td> 0.00259</td>\n",
       "</tr>\n",
       "<tr>\n",
       "  <th>Kurtosis:</th>      <td> 3.677</td> <th>  Cond. No.          </th> <td>8.87e+19</td>\n",
       "</tr>\n",
       "</table>"
      ],
      "text/plain": [
       "<class 'statsmodels.iolib.summary.Summary'>\n",
       "\"\"\"\n",
       "                            OLS Regression Results                            \n",
       "==============================================================================\n",
       "Dep. Variable:              docamount   R-squared:                       0.743\n",
       "Model:                            OLS   Adj. R-squared:                  0.728\n",
       "Method:                 Least Squares   F-statistic:                     51.60\n",
       "Date:                Thu, 19 Nov 2015   Prob (F-statistic):           1.93e-38\n",
       "Time:                        20:16:00   Log-Likelihood:                -1786.1\n",
       "No. Observations:                 152   AIC:                             3590.\n",
       "Df Residuals:                     143   BIC:                             3617.\n",
       "Df Model:                           8                                         \n",
       "Covariance Type:            nonrobust                                         \n",
       "===================================================================================\n",
       "                      coef    std err          t      P>|t|      [95.0% Conf. Int.]\n",
       "-----------------------------------------------------------------------------------\n",
       "Intercept       -2.746e+04   1.85e+04     -1.483      0.140     -6.41e+04  9152.569\n",
       "bedrooms[T.3]    3.678e+04   5534.605      6.645      0.000      2.58e+04  4.77e+04\n",
       "bldgnum[T.3347]  1.124e+04   7306.467      1.539      0.126     -3199.343  2.57e+04\n",
       "bldgnum[T.3355]   996.8740   9037.193      0.110      0.912     -1.69e+04  1.89e+04\n",
       "bldgnum[T.3360]  1.843e+04   5804.104      3.175      0.002      6953.402  2.99e+04\n",
       "bldgnum[T.3364] -3217.0158   9438.968     -0.341      0.734     -2.19e+04  1.54e+04\n",
       "bldgnum[T.3365] -1.452e+04   8508.505     -1.707      0.090     -3.13e+04  2294.484\n",
       "bldgnum[T.3368]  7105.6065   6559.740      1.083      0.281     -5860.981  2.01e+04\n",
       "rm                  0.9876      0.056     17.739      0.000         0.878     1.098\n",
       "floor            3022.1217    655.639      4.609      0.000      1726.126  4318.118\n",
       "==============================================================================\n",
       "Omnibus:                       11.401   Durbin-Watson:                   1.791\n",
       "Prob(Omnibus):                  0.003   Jarque-Bera (JB):               11.912\n",
       "Skew:                          -0.596   Prob(JB):                      0.00259\n",
       "Kurtosis:                       3.677   Cond. No.                     8.87e+19\n",
       "==============================================================================\n",
       "\n",
       "Warnings:\n",
       "[1] Standard Errors assume that the covariance matrix of the errors is correctly specified.\n",
       "[2] The smallest eigenvalue is 1.66e-27. This might indicate that there are\n",
       "strong multicollinearity problems or that the design matrix is singular.\n",
       "\"\"\""
      ]
     },
     "execution_count": 28,
     "metadata": {},
     "output_type": "execute_result"
    }
   ],
   "source": [
    "results = ols(formula=\"docamount ~ rm + bedrooms + floor + bldgnum\", data=sales).fit()\n",
    "results.summary()"
   ]
  },
  {
   "cell_type": "markdown",
   "metadata": {},
   "source": [
    "## Time weighted mean instead of simple rollling mean\n",
    "\n",
    "- No clear difference"
   ]
  },
  {
   "cell_type": "code",
   "execution_count": 29,
   "metadata": {
    "collapsed": false
   },
   "outputs": [
    {
     "data": {
      "text/html": [
       "<table class=\"simpletable\">\n",
       "<caption>OLS Regression Results</caption>\n",
       "<tr>\n",
       "  <th>Dep. Variable:</th>        <td>docamount</td>    <th>  R-squared:         </th> <td>   0.710</td>\n",
       "</tr>\n",
       "<tr>\n",
       "  <th>Model:</th>                   <td>OLS</td>       <th>  Adj. R-squared:    </th> <td>   0.704</td>\n",
       "</tr>\n",
       "<tr>\n",
       "  <th>Method:</th>             <td>Least Squares</td>  <th>  F-statistic:       </th> <td>   119.7</td>\n",
       "</tr>\n",
       "<tr>\n",
       "  <th>Date:</th>             <td>Thu, 19 Nov 2015</td> <th>  Prob (F-statistic):</th> <td>2.83e-39</td>\n",
       "</tr>\n",
       "<tr>\n",
       "  <th>Time:</th>                 <td>20:16:00</td>     <th>  Log-Likelihood:    </th> <td> -1782.1</td>\n",
       "</tr>\n",
       "<tr>\n",
       "  <th>No. Observations:</th>      <td>   151</td>      <th>  AIC:               </th> <td>   3572.</td>\n",
       "</tr>\n",
       "<tr>\n",
       "  <th>Df Residuals:</th>          <td>   147</td>      <th>  BIC:               </th> <td>   3584.</td>\n",
       "</tr>\n",
       "<tr>\n",
       "  <th>Df Model:</th>              <td>     3</td>      <th>                     </th>     <td> </td>   \n",
       "</tr>\n",
       "<tr>\n",
       "  <th>Covariance Type:</th>      <td>nonrobust</td>    <th>                     </th>     <td> </td>   \n",
       "</tr>\n",
       "</table>\n",
       "<table class=\"simpletable\">\n",
       "<tr>\n",
       "            <td></td>              <th>coef</th>     <th>std err</th>      <th>t</th>      <th>P>|t|</th> <th>[95.0% Conf. Int.]</th> \n",
       "</tr>\n",
       "<tr>\n",
       "  <th>Intercept</th>            <td>-2.282e+04</td> <td> 1.82e+04</td> <td>   -1.256</td> <td> 0.211</td> <td>-5.87e+04  1.31e+04</td>\n",
       "</tr>\n",
       "<tr>\n",
       "  <th>bedrooms[T.3]</th>        <td> 5.361e+04</td> <td> 5602.172</td> <td>    9.569</td> <td> 0.000</td> <td> 4.25e+04  6.47e+04</td>\n",
       "</tr>\n",
       "<tr>\n",
       "  <th>time_weighted_mean10</th> <td>    0.9509</td> <td>    0.058</td> <td>   16.491</td> <td> 0.000</td> <td>    0.837     1.065</td>\n",
       "</tr>\n",
       "<tr>\n",
       "  <th>floor</th>                <td> 3019.9366</td> <td>  667.248</td> <td>    4.526</td> <td> 0.000</td> <td> 1701.300  4338.574</td>\n",
       "</tr>\n",
       "</table>\n",
       "<table class=\"simpletable\">\n",
       "<tr>\n",
       "  <th>Omnibus:</th>       <td>13.634</td> <th>  Durbin-Watson:     </th> <td>   1.922</td>\n",
       "</tr>\n",
       "<tr>\n",
       "  <th>Prob(Omnibus):</th> <td> 0.001</td> <th>  Jarque-Bera (JB):  </th> <td>  15.006</td>\n",
       "</tr>\n",
       "<tr>\n",
       "  <th>Skew:</th>          <td>-0.653</td> <th>  Prob(JB):          </th> <td>0.000551</td>\n",
       "</tr>\n",
       "<tr>\n",
       "  <th>Kurtosis:</th>      <td> 3.823</td> <th>  Cond. No.          </th> <td>2.02e+06</td>\n",
       "</tr>\n",
       "</table>"
      ],
      "text/plain": [
       "<class 'statsmodels.iolib.summary.Summary'>\n",
       "\"\"\"\n",
       "                            OLS Regression Results                            \n",
       "==============================================================================\n",
       "Dep. Variable:              docamount   R-squared:                       0.710\n",
       "Model:                            OLS   Adj. R-squared:                  0.704\n",
       "Method:                 Least Squares   F-statistic:                     119.7\n",
       "Date:                Thu, 19 Nov 2015   Prob (F-statistic):           2.83e-39\n",
       "Time:                        20:16:00   Log-Likelihood:                -1782.1\n",
       "No. Observations:                 151   AIC:                             3572.\n",
       "Df Residuals:                     147   BIC:                             3584.\n",
       "Df Model:                           3                                         \n",
       "Covariance Type:            nonrobust                                         \n",
       "========================================================================================\n",
       "                           coef    std err          t      P>|t|      [95.0% Conf. Int.]\n",
       "----------------------------------------------------------------------------------------\n",
       "Intercept            -2.282e+04   1.82e+04     -1.256      0.211     -5.87e+04  1.31e+04\n",
       "bedrooms[T.3]         5.361e+04   5602.172      9.569      0.000      4.25e+04  6.47e+04\n",
       "time_weighted_mean10     0.9509      0.058     16.491      0.000         0.837     1.065\n",
       "floor                 3019.9366    667.248      4.526      0.000      1701.300  4338.574\n",
       "==============================================================================\n",
       "Omnibus:                       13.634   Durbin-Watson:                   1.922\n",
       "Prob(Omnibus):                  0.001   Jarque-Bera (JB):               15.006\n",
       "Skew:                          -0.653   Prob(JB):                     0.000551\n",
       "Kurtosis:                       3.823   Cond. No.                     2.02e+06\n",
       "==============================================================================\n",
       "\n",
       "Warnings:\n",
       "[1] Standard Errors assume that the covariance matrix of the errors is correctly specified.\n",
       "[2] The condition number is large, 2.02e+06. This might indicate that there are\n",
       "strong multicollinearity or other numerical problems.\n",
       "\"\"\""
      ]
     },
     "execution_count": 29,
     "metadata": {},
     "output_type": "execute_result"
    }
   ],
   "source": [
    "results = ols(formula=\"docamount ~ time_weighted_mean10 + bedrooms + floor\", data=sales).fit()\n",
    "results.summary()"
   ]
  },
  {
   "cell_type": "markdown",
   "metadata": {},
   "source": [
    "## Bedroom specific rolling means\n",
    "\n",
    "- Works, now bedroom variable no longer significant because that's captured by bedroom specific rolling mean"
   ]
  },
  {
   "cell_type": "code",
   "execution_count": 30,
   "metadata": {
    "collapsed": false
   },
   "outputs": [
    {
     "data": {
      "text/html": [
       "<table class=\"simpletable\">\n",
       "<caption>OLS Regression Results</caption>\n",
       "<tr>\n",
       "  <th>Dep. Variable:</th>        <td>docamount</td>    <th>  R-squared:         </th> <td>   0.715</td>\n",
       "</tr>\n",
       "<tr>\n",
       "  <th>Model:</th>                   <td>OLS</td>       <th>  Adj. R-squared:    </th> <td>   0.710</td>\n",
       "</tr>\n",
       "<tr>\n",
       "  <th>Method:</th>             <td>Least Squares</td>  <th>  F-statistic:       </th> <td>   123.2</td>\n",
       "</tr>\n",
       "<tr>\n",
       "  <th>Date:</th>             <td>Thu, 19 Nov 2015</td> <th>  Prob (F-statistic):</th> <td>6.19e-40</td>\n",
       "</tr>\n",
       "<tr>\n",
       "  <th>Time:</th>                 <td>20:16:00</td>     <th>  Log-Likelihood:    </th> <td> -1781.0</td>\n",
       "</tr>\n",
       "<tr>\n",
       "  <th>No. Observations:</th>      <td>   151</td>      <th>  AIC:               </th> <td>   3570.</td>\n",
       "</tr>\n",
       "<tr>\n",
       "  <th>Df Residuals:</th>          <td>   147</td>      <th>  BIC:               </th> <td>   3582.</td>\n",
       "</tr>\n",
       "<tr>\n",
       "  <th>Df Model:</th>              <td>     3</td>      <th>                     </th>     <td> </td>   \n",
       "</tr>\n",
       "<tr>\n",
       "  <th>Covariance Type:</th>      <td>nonrobust</td>    <th>                     </th>     <td> </td>   \n",
       "</tr>\n",
       "</table>\n",
       "<table class=\"simpletable\">\n",
       "<tr>\n",
       "        <td></td>           <th>coef</th>     <th>std err</th>      <th>t</th>      <th>P>|t|</th> <th>[95.0% Conf. Int.]</th> \n",
       "</tr>\n",
       "<tr>\n",
       "  <th>Intercept</th>     <td> 2550.8402</td> <td> 1.68e+04</td> <td>    0.152</td> <td> 0.879</td> <td>-3.06e+04  3.57e+04</td>\n",
       "</tr>\n",
       "<tr>\n",
       "  <th>bedrooms[T.3]</th> <td> 5934.8769</td> <td> 6072.848</td> <td>    0.977</td> <td> 0.330</td> <td>-6066.488  1.79e+04</td>\n",
       "</tr>\n",
       "<tr>\n",
       "  <th>br_rm</th>         <td>    0.9231</td> <td>    0.055</td> <td>   16.686</td> <td> 0.000</td> <td>    0.814     1.032</td>\n",
       "</tr>\n",
       "<tr>\n",
       "  <th>floor</th>         <td> 3319.7520</td> <td>  662.055</td> <td>    5.014</td> <td> 0.000</td> <td> 2011.377  4628.127</td>\n",
       "</tr>\n",
       "</table>\n",
       "<table class=\"simpletable\">\n",
       "<tr>\n",
       "  <th>Omnibus:</th>       <td> 5.805</td> <th>  Durbin-Watson:     </th> <td>   1.941</td>\n",
       "</tr>\n",
       "<tr>\n",
       "  <th>Prob(Omnibus):</th> <td> 0.055</td> <th>  Jarque-Bera (JB):  </th> <td>   5.836</td>\n",
       "</tr>\n",
       "<tr>\n",
       "  <th>Skew:</th>          <td>-0.334</td> <th>  Prob(JB):          </th> <td>  0.0541</td>\n",
       "</tr>\n",
       "<tr>\n",
       "  <th>Kurtosis:</th>      <td> 3.695</td> <th>  Cond. No.          </th> <td>1.88e+06</td>\n",
       "</tr>\n",
       "</table>"
      ],
      "text/plain": [
       "<class 'statsmodels.iolib.summary.Summary'>\n",
       "\"\"\"\n",
       "                            OLS Regression Results                            \n",
       "==============================================================================\n",
       "Dep. Variable:              docamount   R-squared:                       0.715\n",
       "Model:                            OLS   Adj. R-squared:                  0.710\n",
       "Method:                 Least Squares   F-statistic:                     123.2\n",
       "Date:                Thu, 19 Nov 2015   Prob (F-statistic):           6.19e-40\n",
       "Time:                        20:16:00   Log-Likelihood:                -1781.0\n",
       "No. Observations:                 151   AIC:                             3570.\n",
       "Df Residuals:                     147   BIC:                             3582.\n",
       "Df Model:                           3                                         \n",
       "Covariance Type:            nonrobust                                         \n",
       "=================================================================================\n",
       "                    coef    std err          t      P>|t|      [95.0% Conf. Int.]\n",
       "---------------------------------------------------------------------------------\n",
       "Intercept      2550.8402   1.68e+04      0.152      0.879     -3.06e+04  3.57e+04\n",
       "bedrooms[T.3]  5934.8769   6072.848      0.977      0.330     -6066.488  1.79e+04\n",
       "br_rm             0.9231      0.055     16.686      0.000         0.814     1.032\n",
       "floor          3319.7520    662.055      5.014      0.000      2011.377  4628.127\n",
       "==============================================================================\n",
       "Omnibus:                        5.805   Durbin-Watson:                   1.941\n",
       "Prob(Omnibus):                  0.055   Jarque-Bera (JB):                5.836\n",
       "Skew:                          -0.334   Prob(JB):                       0.0541\n",
       "Kurtosis:                       3.695   Cond. No.                     1.88e+06\n",
       "==============================================================================\n",
       "\n",
       "Warnings:\n",
       "[1] Standard Errors assume that the covariance matrix of the errors is correctly specified.\n",
       "[2] The condition number is large, 1.88e+06. This might indicate that there are\n",
       "strong multicollinearity or other numerical problems.\n",
       "\"\"\""
      ]
     },
     "execution_count": 30,
     "metadata": {},
     "output_type": "execute_result"
    }
   ],
   "source": [
    "results = ols(formula=\"docamount ~ br_rm + bedrooms + floor\", data=sales).fit()\n",
    "results.summary()"
   ]
  },
  {
   "cell_type": "code",
   "execution_count": null,
   "metadata": {
    "collapsed": true
   },
   "outputs": [],
   "source": []
  },
  {
   "cell_type": "code",
   "execution_count": null,
   "metadata": {
    "collapsed": true
   },
   "outputs": [],
   "source": []
  },
  {
   "cell_type": "code",
   "execution_count": 32,
   "metadata": {
    "collapsed": false
   },
   "outputs": [],
   "source": [
    "# .predict \n",
    "\n",
    "# inverse date  \n",
    "# date of most recent - diff by days, inverse of long \n",
    "\n",
    "# feature/building specific rolling mean \n",
    "\n",
    "# add building back in and see what's still useful \n",
    "\n",
    "# leverage plot, look to see outlier influence \n",
    "# influence plot \n",
    "# fig, ax = plt.subplots(figsize=(12,8))\n",
    "# fig = sm.graphics.influence_plot(prestige_model, ax=ax, criterion=\"cooks\")\n",
    "# http://statsmodels.sourceforge.net/devel/examples/notebooks/generated/regression_plots.html\n",
    "    \n",
    "# stepwise regression \n",
    "\n",
    "# sklearn regression functions - have more built in functions \n",
    "# start with basic linear\n",
    "# then look at ridge and lasso regression \n",
    "# from sklearn.preprocessing import scale  \n",
    "\n",
    "# look at difference in price by year "
   ]
  },
  {
   "cell_type": "code",
   "execution_count": null,
   "metadata": {
    "collapsed": true
   },
   "outputs": [],
   "source": []
  }
 ],
 "metadata": {
  "kernelspec": {
   "display_name": "Python 2",
   "language": "python",
   "name": "python2"
  },
  "language_info": {
   "codemirror_mode": {
    "name": "ipython",
    "version": 2
   },
   "file_extension": ".py",
   "mimetype": "text/x-python",
   "name": "python",
   "nbconvert_exporter": "python",
   "pygments_lexer": "ipython2",
   "version": "2.7.10"
  }
 },
 "nbformat": 4,
 "nbformat_minor": 0
}
