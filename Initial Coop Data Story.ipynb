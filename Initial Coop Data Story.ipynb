{
 "cells": [
  {
   "cell_type": "code",
   "execution_count": 2,
   "metadata": {
    "collapsed": true
   },
   "outputs": [],
   "source": [
    "import pandas as pd"
   ]
  },
  {
   "cell_type": "code",
   "execution_count": 9,
   "metadata": {
    "collapsed": false
   },
   "outputs": [],
   "source": [
    "url=\"https://data.cityofnewyork.us/resource/8h5j-fqxa.csv?borough=4&block=528&lot=50\""
   ]
  },
  {
   "cell_type": "code",
   "execution_count": 12,
   "metadata": {
    "collapsed": false
   },
   "outputs": [],
   "source": [
    "df=pd.read_table(url,sep=',')"
   ]
  },
  {
   "cell_type": "code",
   "execution_count": 16,
   "metadata": {
    "collapsed": false
   },
   "outputs": [
    {
     "name": "stdout",
     "output_type": "stream",
     "text": [
      "<class 'pandas.core.frame.DataFrame'>\n",
      "Int64Index: 184 entries, 0 to 183\n",
      "Data columns (total 14 columns):\n",
      "DOCUMENT ID            184 non-null object\n",
      "RECORD TYPE            184 non-null object\n",
      "BOROUGH                184 non-null int64\n",
      "BLOCK                  184 non-null int64\n",
      "LOT                    184 non-null int64\n",
      "EASEMENT               184 non-null object\n",
      "PARTIAL LOT            184 non-null object\n",
      "AIR RIGHTS             184 non-null object\n",
      "SUBTERRANEAN RIGHTS    184 non-null object\n",
      "PROPERTY TYPE          184 non-null object\n",
      "STREET NUMBER          176 non-null object\n",
      "STREET NAME            176 non-null object\n",
      "UNIT                   165 non-null object\n",
      "GOOD THROUGH DATE      184 non-null object\n",
      "dtypes: int64(3), object(11)\n",
      "memory usage: 13.7+ KB\n"
     ]
    }
   ],
   "source": [
    "df.info()"
   ]
  },
  {
   "cell_type": "code",
   "execution_count": 20,
   "metadata": {
    "collapsed": false
   },
   "outputs": [
    {
     "data": {
      "text/plain": [
       "1"
      ]
     },
     "execution_count": 20,
     "metadata": {},
     "output_type": "execute_result"
    }
   ],
   "source": [
    "docids = df['DOCUMENT ID']\n",
    "len(docids) // 100"
   ]
  },
  {
   "cell_type": "code",
   "execution_count": null,
   "metadata": {
    "collapsed": true
   },
   "outputs": [],
   "source": []
  }
 ],
 "metadata": {
  "kernelspec": {
   "display_name": "Python 2",
   "language": "python",
   "name": "python2"
  },
  "language_info": {
   "codemirror_mode": {
    "name": "ipython",
    "version": 2
   },
   "file_extension": ".py",
   "mimetype": "text/x-python",
   "name": "python",
   "nbconvert_exporter": "python",
   "pygments_lexer": "ipython2",
   "version": "2.7.10"
  }
 },
 "nbformat": 4,
 "nbformat_minor": 0
}
