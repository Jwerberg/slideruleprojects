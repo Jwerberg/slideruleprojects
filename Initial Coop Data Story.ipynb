{
 "cells": [
  {
   "cell_type": "code",
   "execution_count": 16,
   "metadata": {
    "collapsed": true
   },
   "outputs": [],
   "source": [
    "%matplotlib inline\n",
    "import pandas as pd\n",
    "import numpy as np"
   ]
  },
  {
   "cell_type": "code",
   "execution_count": 3,
   "metadata": {
    "collapsed": false
   },
   "outputs": [],
   "source": [
    "url=\"https://data.cityofnewyork.us/resource/8h5j-fqxa.csv?borough=4&block=528&lot=50\""
   ]
  },
  {
   "cell_type": "code",
   "execution_count": 4,
   "metadata": {
    "collapsed": false
   },
   "outputs": [],
   "source": [
    "df=pd.read_table(url,sep=',')"
   ]
  },
  {
   "cell_type": "code",
   "execution_count": 5,
   "metadata": {
    "collapsed": false
   },
   "outputs": [
    {
     "name": "stdout",
     "output_type": "stream",
     "text": [
      "<class 'pandas.core.frame.DataFrame'>\n",
      "Int64Index: 185 entries, 0 to 184\n",
      "Data columns (total 14 columns):\n",
      "DOCUMENT ID            185 non-null object\n",
      "RECORD TYPE            185 non-null object\n",
      "BOROUGH                185 non-null int64\n",
      "BLOCK                  185 non-null int64\n",
      "LOT                    185 non-null int64\n",
      "EASEMENT               185 non-null object\n",
      "PARTIAL LOT            185 non-null object\n",
      "AIR RIGHTS             185 non-null object\n",
      "SUBTERRANEAN RIGHTS    185 non-null object\n",
      "PROPERTY TYPE          185 non-null object\n",
      "STREET NUMBER          177 non-null object\n",
      "STREET NAME            177 non-null object\n",
      "UNIT                   166 non-null object\n",
      "GOOD THROUGH DATE      185 non-null object\n",
      "dtypes: int64(3), object(11)\n",
      "memory usage: 21.7+ KB\n"
     ]
    }
   ],
   "source": [
    "df.info()"
   ]
  },
  {
   "cell_type": "code",
   "execution_count": 6,
   "metadata": {
    "collapsed": true
   },
   "outputs": [],
   "source": [
    "docids = df['DOCUMENT ID']\n",
    "urlbase=\"https://data.cityofnewyork.us/resource/bnx9-e6tj.csv?$where=document_id='\"\n",
    "l = len(docids)\n",
    "n = l // 100 \n",
    "masterlist = [] \n",
    "for i in range(n+1):\n",
    "    if i < n:\n",
    "        url = urlbase + \"'%20or%20document_id='\".join(docids[i*100:(i+1)*100]) + \"'\"\n",
    "        #print url \n",
    "        masterlist.append(pd.read_table(url,sep=','))\n",
    "    else:\n",
    "        url=urlbase + \"'%20or%20document_id='\".join(docids[i*100:l]) + \"'\"\n",
    "        #print url\n",
    "        masterlist.append(pd.read_table(url,sep=',')) \n",
    "    \n"
   ]
  },
  {
   "cell_type": "code",
   "execution_count": 7,
   "metadata": {
    "collapsed": false
   },
   "outputs": [
    {
     "data": {
      "text/html": [
       "<div>\n",
       "<table border=\"1\" class=\"dataframe\">\n",
       "  <thead>\n",
       "    <tr style=\"text-align: right;\">\n",
       "      <th></th>\n",
       "      <th>DOCUMENT ID</th>\n",
       "      <th>RECORD TYPE</th>\n",
       "      <th>CRFN</th>\n",
       "      <th>BOROUGH</th>\n",
       "      <th>DOC. TYPE</th>\n",
       "      <th>DOC. DATE</th>\n",
       "      <th>DOC. AMOUNT</th>\n",
       "      <th>RECORDED / FILED</th>\n",
       "      <th>MODIFIED DATE</th>\n",
       "      <th>REEL YEAR</th>\n",
       "      <th>REEL NBR</th>\n",
       "      <th>REEL PAGE</th>\n",
       "      <th>% TRANSFERRED</th>\n",
       "      <th>GOOD THROUGH DATE</th>\n",
       "    </tr>\n",
       "  </thead>\n",
       "  <tbody>\n",
       "    <tr>\n",
       "      <th>0</th>\n",
       "      <td>2015090300204001</td>\n",
       "      <td>A</td>\n",
       "      <td>2.015000e+12</td>\n",
       "      <td>1</td>\n",
       "      <td>RPTT&amp;RET</td>\n",
       "      <td>08/25/2015</td>\n",
       "      <td>418000</td>\n",
       "      <td>09/16/2015</td>\n",
       "      <td>09/16/2015</td>\n",
       "      <td>0</td>\n",
       "      <td>0</td>\n",
       "      <td>0</td>\n",
       "      <td>100</td>\n",
       "      <td>09/30/2015</td>\n",
       "    </tr>\n",
       "    <tr>\n",
       "      <th>1</th>\n",
       "      <td>2013032801109001</td>\n",
       "      <td>A</td>\n",
       "      <td>2.013000e+12</td>\n",
       "      <td>1</td>\n",
       "      <td>RPTT&amp;RET</td>\n",
       "      <td>04/01/2013</td>\n",
       "      <td>190000</td>\n",
       "      <td>04/25/2013</td>\n",
       "      <td>04/25/2013</td>\n",
       "      <td>0</td>\n",
       "      <td>0</td>\n",
       "      <td>0</td>\n",
       "      <td>100</td>\n",
       "      <td>07/31/2015</td>\n",
       "    </tr>\n",
       "    <tr>\n",
       "      <th>2</th>\n",
       "      <td>2007122100640001</td>\n",
       "      <td>A</td>\n",
       "      <td>2.008000e+12</td>\n",
       "      <td>1</td>\n",
       "      <td>RPTT&amp;RET</td>\n",
       "      <td>12/28/2007</td>\n",
       "      <td>278000</td>\n",
       "      <td>01/31/2008</td>\n",
       "      <td>01/31/2008</td>\n",
       "      <td>0</td>\n",
       "      <td>0</td>\n",
       "      <td>0</td>\n",
       "      <td>100</td>\n",
       "      <td>07/31/2015</td>\n",
       "    </tr>\n",
       "    <tr>\n",
       "      <th>3</th>\n",
       "      <td>2013080100371001</td>\n",
       "      <td>A</td>\n",
       "      <td>2.013000e+12</td>\n",
       "      <td>1</td>\n",
       "      <td>RPTT&amp;RET</td>\n",
       "      <td>07/25/2013</td>\n",
       "      <td>298000</td>\n",
       "      <td>08/26/2013</td>\n",
       "      <td>08/26/2013</td>\n",
       "      <td>0</td>\n",
       "      <td>0</td>\n",
       "      <td>0</td>\n",
       "      <td>100</td>\n",
       "      <td>07/31/2015</td>\n",
       "    </tr>\n",
       "    <tr>\n",
       "      <th>4</th>\n",
       "      <td>2013010301805001</td>\n",
       "      <td>A</td>\n",
       "      <td>2.013000e+12</td>\n",
       "      <td>1</td>\n",
       "      <td>RPTT&amp;RET</td>\n",
       "      <td>01/16/2013</td>\n",
       "      <td>375000</td>\n",
       "      <td>03/15/2013</td>\n",
       "      <td>03/15/2013</td>\n",
       "      <td>0</td>\n",
       "      <td>0</td>\n",
       "      <td>0</td>\n",
       "      <td>100</td>\n",
       "      <td>07/31/2015</td>\n",
       "    </tr>\n",
       "  </tbody>\n",
       "</table>\n",
       "</div>"
      ],
      "text/plain": [
       "        DOCUMENT ID RECORD TYPE          CRFN  BOROUGH DOC. TYPE   DOC. DATE  \\\n",
       "0  2015090300204001           A  2.015000e+12        1  RPTT&RET  08/25/2015   \n",
       "1  2013032801109001           A  2.013000e+12        1  RPTT&RET  04/01/2013   \n",
       "2  2007122100640001           A  2.008000e+12        1  RPTT&RET  12/28/2007   \n",
       "3  2013080100371001           A  2.013000e+12        1  RPTT&RET  07/25/2013   \n",
       "4  2013010301805001           A  2.013000e+12        1  RPTT&RET  01/16/2013   \n",
       "\n",
       "   DOC. AMOUNT RECORDED / FILED MODIFIED DATE  REEL YEAR  REEL NBR  REEL PAGE  \\\n",
       "0       418000       09/16/2015    09/16/2015          0         0          0   \n",
       "1       190000       04/25/2013    04/25/2013          0         0          0   \n",
       "2       278000       01/31/2008    01/31/2008          0         0          0   \n",
       "3       298000       08/26/2013    08/26/2013          0         0          0   \n",
       "4       375000       03/15/2013    03/15/2013          0         0          0   \n",
       "\n",
       "   % TRANSFERRED GOOD THROUGH DATE  \n",
       "0            100        09/30/2015  \n",
       "1            100        07/31/2015  \n",
       "2            100        07/31/2015  \n",
       "3            100        07/31/2015  \n",
       "4            100        07/31/2015  "
      ]
     },
     "execution_count": 7,
     "metadata": {},
     "output_type": "execute_result"
    }
   ],
   "source": [
    "masters = pd.concat(masterlist)\n",
    "masters.head()"
   ]
  },
  {
   "cell_type": "code",
   "execution_count": 8,
   "metadata": {
    "collapsed": false,
    "scrolled": true
   },
   "outputs": [
    {
     "data": {
      "text/html": [
       "<div>\n",
       "<table border=\"1\" class=\"dataframe\">\n",
       "  <thead>\n",
       "    <tr style=\"text-align: right;\">\n",
       "      <th></th>\n",
       "      <th>DOCUMENT ID</th>\n",
       "      <th>RECORD TYPE_x</th>\n",
       "      <th>BOROUGH_x</th>\n",
       "      <th>BLOCK</th>\n",
       "      <th>LOT</th>\n",
       "      <th>EASEMENT</th>\n",
       "      <th>PARTIAL LOT</th>\n",
       "      <th>AIR RIGHTS</th>\n",
       "      <th>SUBTERRANEAN RIGHTS</th>\n",
       "      <th>PROPERTY TYPE</th>\n",
       "      <th>...</th>\n",
       "      <th>DOC. TYPE</th>\n",
       "      <th>DOC. DATE</th>\n",
       "      <th>DOC. AMOUNT</th>\n",
       "      <th>RECORDED / FILED</th>\n",
       "      <th>MODIFIED DATE</th>\n",
       "      <th>REEL YEAR</th>\n",
       "      <th>REEL NBR</th>\n",
       "      <th>REEL PAGE</th>\n",
       "      <th>% TRANSFERRED</th>\n",
       "      <th>GOOD THROUGH DATE_y</th>\n",
       "    </tr>\n",
       "  </thead>\n",
       "  <tbody>\n",
       "    <tr>\n",
       "      <th>0</th>\n",
       "      <td>2015090300204001</td>\n",
       "      <td>L</td>\n",
       "      <td>4</td>\n",
       "      <td>528</td>\n",
       "      <td>50</td>\n",
       "      <td>N</td>\n",
       "      <td>E</td>\n",
       "      <td>N</td>\n",
       "      <td>N</td>\n",
       "      <td>SP</td>\n",
       "      <td>...</td>\n",
       "      <td>RPTT&amp;RET</td>\n",
       "      <td>08/25/2015</td>\n",
       "      <td>418000</td>\n",
       "      <td>09/16/2015</td>\n",
       "      <td>09/16/2015</td>\n",
       "      <td>0</td>\n",
       "      <td>0</td>\n",
       "      <td>0</td>\n",
       "      <td>100</td>\n",
       "      <td>09/30/2015</td>\n",
       "    </tr>\n",
       "    <tr>\n",
       "      <th>1</th>\n",
       "      <td>2011012100554001</td>\n",
       "      <td>L</td>\n",
       "      <td>4</td>\n",
       "      <td>528</td>\n",
       "      <td>50</td>\n",
       "      <td>N</td>\n",
       "      <td>E</td>\n",
       "      <td>N</td>\n",
       "      <td>N</td>\n",
       "      <td>SP</td>\n",
       "      <td>...</td>\n",
       "      <td>RPTT&amp;RET</td>\n",
       "      <td>01/24/2011</td>\n",
       "      <td>300000</td>\n",
       "      <td>02/08/2011</td>\n",
       "      <td>02/08/2011</td>\n",
       "      <td>0</td>\n",
       "      <td>0</td>\n",
       "      <td>0</td>\n",
       "      <td>100</td>\n",
       "      <td>07/31/2015</td>\n",
       "    </tr>\n",
       "    <tr>\n",
       "      <th>2</th>\n",
       "      <td>2013112100798001</td>\n",
       "      <td>L</td>\n",
       "      <td>4</td>\n",
       "      <td>528</td>\n",
       "      <td>50</td>\n",
       "      <td>N</td>\n",
       "      <td>E</td>\n",
       "      <td>N</td>\n",
       "      <td>N</td>\n",
       "      <td>SP</td>\n",
       "      <td>...</td>\n",
       "      <td>RPTT&amp;RET</td>\n",
       "      <td>11/14/2013</td>\n",
       "      <td>325000</td>\n",
       "      <td>12/03/2013</td>\n",
       "      <td>12/03/2013</td>\n",
       "      <td>0</td>\n",
       "      <td>0</td>\n",
       "      <td>0</td>\n",
       "      <td>100</td>\n",
       "      <td>07/31/2015</td>\n",
       "    </tr>\n",
       "    <tr>\n",
       "      <th>3</th>\n",
       "      <td>2010090101085001</td>\n",
       "      <td>L</td>\n",
       "      <td>4</td>\n",
       "      <td>528</td>\n",
       "      <td>50</td>\n",
       "      <td>N</td>\n",
       "      <td>E</td>\n",
       "      <td>N</td>\n",
       "      <td>N</td>\n",
       "      <td>SP</td>\n",
       "      <td>...</td>\n",
       "      <td>RPTT&amp;RET</td>\n",
       "      <td>09/01/2010</td>\n",
       "      <td>332500</td>\n",
       "      <td>09/13/2010</td>\n",
       "      <td>09/13/2010</td>\n",
       "      <td>0</td>\n",
       "      <td>0</td>\n",
       "      <td>0</td>\n",
       "      <td>100</td>\n",
       "      <td>07/31/2015</td>\n",
       "    </tr>\n",
       "    <tr>\n",
       "      <th>4</th>\n",
       "      <td>FT_4320004196832</td>\n",
       "      <td>L</td>\n",
       "      <td>4</td>\n",
       "      <td>528</td>\n",
       "      <td>50</td>\n",
       "      <td>N</td>\n",
       "      <td>E</td>\n",
       "      <td>N</td>\n",
       "      <td>N</td>\n",
       "      <td>PA</td>\n",
       "      <td>...</td>\n",
       "      <td>REL</td>\n",
       "      <td>NaN</td>\n",
       "      <td>0</td>\n",
       "      <td>03/22/1994</td>\n",
       "      <td>03/22/1994</td>\n",
       "      <td>1994</td>\n",
       "      <td>3824</td>\n",
       "      <td>166</td>\n",
       "      <td>0</td>\n",
       "      <td>07/31/2015</td>\n",
       "    </tr>\n",
       "  </tbody>\n",
       "</table>\n",
       "<p>5 rows × 27 columns</p>\n",
       "</div>"
      ],
      "text/plain": [
       "        DOCUMENT ID RECORD TYPE_x  BOROUGH_x  BLOCK  LOT EASEMENT PARTIAL LOT  \\\n",
       "0  2015090300204001             L          4    528   50        N           E   \n",
       "1  2011012100554001             L          4    528   50        N           E   \n",
       "2  2013112100798001             L          4    528   50        N           E   \n",
       "3  2010090101085001             L          4    528   50        N           E   \n",
       "4  FT_4320004196832             L          4    528   50        N           E   \n",
       "\n",
       "  AIR RIGHTS SUBTERRANEAN RIGHTS PROPERTY TYPE         ...          DOC. TYPE  \\\n",
       "0          N                   N            SP         ...           RPTT&RET   \n",
       "1          N                   N            SP         ...           RPTT&RET   \n",
       "2          N                   N            SP         ...           RPTT&RET   \n",
       "3          N                   N            SP         ...           RPTT&RET   \n",
       "4          N                   N            PA         ...                REL   \n",
       "\n",
       "    DOC. DATE DOC. AMOUNT RECORDED / FILED MODIFIED DATE  REEL YEAR  REEL NBR  \\\n",
       "0  08/25/2015      418000       09/16/2015    09/16/2015          0         0   \n",
       "1  01/24/2011      300000       02/08/2011    02/08/2011          0         0   \n",
       "2  11/14/2013      325000       12/03/2013    12/03/2013          0         0   \n",
       "3  09/01/2010      332500       09/13/2010    09/13/2010          0         0   \n",
       "4         NaN           0       03/22/1994    03/22/1994       1994      3824   \n",
       "\n",
       "  REEL PAGE % TRANSFERRED  GOOD THROUGH DATE_y  \n",
       "0         0           100           09/30/2015  \n",
       "1         0           100           07/31/2015  \n",
       "2         0           100           07/31/2015  \n",
       "3         0           100           07/31/2015  \n",
       "4       166             0           07/31/2015  \n",
       "\n",
       "[5 rows x 27 columns]"
      ]
     },
     "execution_count": 8,
     "metadata": {},
     "output_type": "execute_result"
    }
   ],
   "source": [
    "mergeddf = pd.merge(df,masters,on=['DOCUMENT ID'])\n",
    "mergeddf.head()"
   ]
  },
  {
   "cell_type": "code",
   "execution_count": 9,
   "metadata": {
    "collapsed": false
   },
   "outputs": [
    {
     "data": {
      "text/plain": [
       "Index([u'documentid', u'recordtype_x', u'borough_x', u'block', u'lot',\n",
       "       u'easement', u'partiallot', u'airrights', u'subterraneanrights',\n",
       "       u'propertytype', u'streetnumber', u'streetname', u'unit',\n",
       "       u'goodthroughdate_x', u'recordtype_y', u'crfn', u'borough_y',\n",
       "       u'doctype', u'docdate', u'docamount', u'recorded/filed',\n",
       "       u'modifieddate', u'reelyear', u'reelnbr', u'reelpage', u'%transferred',\n",
       "       u'goodthroughdate_y'],\n",
       "      dtype='object')"
      ]
     },
     "execution_count": 9,
     "metadata": {},
     "output_type": "execute_result"
    }
   ],
   "source": [
    "#clean up column names\n",
    "#todo setup with re or similar to eliminte all chars except alpha and _ \n",
    "mergeddf.columns = mergeddf.columns.str.replace(' ','')\n",
    "mergeddf.columns = mergeddf.columns.str.replace('.','')\n",
    "mergeddf.columns = mergeddf.columns.str.lower()\n",
    "mergeddf.columns"
   ]
  },
  {
   "cell_type": "code",
   "execution_count": 10,
   "metadata": {
    "collapsed": false
   },
   "outputs": [
    {
     "name": "stdout",
     "output_type": "stream",
     "text": [
      "<class 'pandas.core.frame.DataFrame'>\n",
      "Int64Index: 185 entries, 0 to 184\n",
      "Data columns (total 27 columns):\n",
      "documentid            185 non-null object\n",
      "recordtype_x          185 non-null object\n",
      "borough_x             185 non-null int64\n",
      "block                 185 non-null int64\n",
      "lot                   185 non-null int64\n",
      "easement              185 non-null object\n",
      "partiallot            185 non-null object\n",
      "airrights             185 non-null object\n",
      "subterraneanrights    185 non-null object\n",
      "propertytype          185 non-null object\n",
      "streetnumber          177 non-null object\n",
      "streetname            177 non-null object\n",
      "unit                  166 non-null object\n",
      "goodthroughdate_x     185 non-null object\n",
      "recordtype_y          185 non-null object\n",
      "crfn                  169 non-null float64\n",
      "borough_y             185 non-null int64\n",
      "doctype               185 non-null object\n",
      "docdate               170 non-null object\n",
      "docamount             185 non-null int64\n",
      "recorded/filed        185 non-null object\n",
      "modifieddate          185 non-null object\n",
      "reelyear              185 non-null int64\n",
      "reelnbr               185 non-null int64\n",
      "reelpage              185 non-null int64\n",
      "%transferred          185 non-null int64\n",
      "goodthroughdate_y     185 non-null object\n",
      "dtypes: float64(1), int64(9), object(17)\n",
      "memory usage: 40.5+ KB\n"
     ]
    }
   ],
   "source": [
    "#check data types\n",
    "mergeddf.info()"
   ]
  },
  {
   "cell_type": "code",
   "execution_count": 12,
   "metadata": {
    "collapsed": false
   },
   "outputs": [
    {
     "data": {
      "text/html": [
       "<div>\n",
       "<table border=\"1\" class=\"dataframe\">\n",
       "  <thead>\n",
       "    <tr style=\"text-align: right;\">\n",
       "      <th></th>\n",
       "      <th>documentid</th>\n",
       "      <th>recordtype_x</th>\n",
       "      <th>borough_x</th>\n",
       "      <th>block</th>\n",
       "      <th>lot</th>\n",
       "      <th>easement</th>\n",
       "      <th>partiallot</th>\n",
       "      <th>airrights</th>\n",
       "      <th>subterraneanrights</th>\n",
       "      <th>propertytype</th>\n",
       "      <th>...</th>\n",
       "      <th>doctype</th>\n",
       "      <th>docdate</th>\n",
       "      <th>docamount</th>\n",
       "      <th>recorded/filed</th>\n",
       "      <th>modifieddate</th>\n",
       "      <th>reelyear</th>\n",
       "      <th>reelnbr</th>\n",
       "      <th>reelpage</th>\n",
       "      <th>%transferred</th>\n",
       "      <th>goodthroughdate_y</th>\n",
       "    </tr>\n",
       "  </thead>\n",
       "  <tbody>\n",
       "    <tr>\n",
       "      <th>0</th>\n",
       "      <td>2015090300204001</td>\n",
       "      <td>L</td>\n",
       "      <td>4</td>\n",
       "      <td>528</td>\n",
       "      <td>50</td>\n",
       "      <td>N</td>\n",
       "      <td>E</td>\n",
       "      <td>N</td>\n",
       "      <td>N</td>\n",
       "      <td>SP</td>\n",
       "      <td>...</td>\n",
       "      <td>RPTT&amp;RET</td>\n",
       "      <td>08/25/2015</td>\n",
       "      <td>418000</td>\n",
       "      <td>09/16/2015</td>\n",
       "      <td>09/16/2015</td>\n",
       "      <td>0</td>\n",
       "      <td>0</td>\n",
       "      <td>0</td>\n",
       "      <td>100</td>\n",
       "      <td>09/30/2015</td>\n",
       "    </tr>\n",
       "    <tr>\n",
       "      <th>1</th>\n",
       "      <td>2011012100554001</td>\n",
       "      <td>L</td>\n",
       "      <td>4</td>\n",
       "      <td>528</td>\n",
       "      <td>50</td>\n",
       "      <td>N</td>\n",
       "      <td>E</td>\n",
       "      <td>N</td>\n",
       "      <td>N</td>\n",
       "      <td>SP</td>\n",
       "      <td>...</td>\n",
       "      <td>RPTT&amp;RET</td>\n",
       "      <td>01/24/2011</td>\n",
       "      <td>300000</td>\n",
       "      <td>02/08/2011</td>\n",
       "      <td>02/08/2011</td>\n",
       "      <td>0</td>\n",
       "      <td>0</td>\n",
       "      <td>0</td>\n",
       "      <td>100</td>\n",
       "      <td>07/31/2015</td>\n",
       "    </tr>\n",
       "    <tr>\n",
       "      <th>2</th>\n",
       "      <td>2013112100798001</td>\n",
       "      <td>L</td>\n",
       "      <td>4</td>\n",
       "      <td>528</td>\n",
       "      <td>50</td>\n",
       "      <td>N</td>\n",
       "      <td>E</td>\n",
       "      <td>N</td>\n",
       "      <td>N</td>\n",
       "      <td>SP</td>\n",
       "      <td>...</td>\n",
       "      <td>RPTT&amp;RET</td>\n",
       "      <td>11/14/2013</td>\n",
       "      <td>325000</td>\n",
       "      <td>12/03/2013</td>\n",
       "      <td>12/03/2013</td>\n",
       "      <td>0</td>\n",
       "      <td>0</td>\n",
       "      <td>0</td>\n",
       "      <td>100</td>\n",
       "      <td>07/31/2015</td>\n",
       "    </tr>\n",
       "    <tr>\n",
       "      <th>3</th>\n",
       "      <td>2010090101085001</td>\n",
       "      <td>L</td>\n",
       "      <td>4</td>\n",
       "      <td>528</td>\n",
       "      <td>50</td>\n",
       "      <td>N</td>\n",
       "      <td>E</td>\n",
       "      <td>N</td>\n",
       "      <td>N</td>\n",
       "      <td>SP</td>\n",
       "      <td>...</td>\n",
       "      <td>RPTT&amp;RET</td>\n",
       "      <td>09/01/2010</td>\n",
       "      <td>332500</td>\n",
       "      <td>09/13/2010</td>\n",
       "      <td>09/13/2010</td>\n",
       "      <td>0</td>\n",
       "      <td>0</td>\n",
       "      <td>0</td>\n",
       "      <td>100</td>\n",
       "      <td>07/31/2015</td>\n",
       "    </tr>\n",
       "    <tr>\n",
       "      <th>5</th>\n",
       "      <td>2012072701175001</td>\n",
       "      <td>L</td>\n",
       "      <td>4</td>\n",
       "      <td>528</td>\n",
       "      <td>50</td>\n",
       "      <td>N</td>\n",
       "      <td>E</td>\n",
       "      <td>N</td>\n",
       "      <td>N</td>\n",
       "      <td>SP</td>\n",
       "      <td>...</td>\n",
       "      <td>RPTT&amp;RET</td>\n",
       "      <td>07/17/2012</td>\n",
       "      <td>315000</td>\n",
       "      <td>08/07/2012</td>\n",
       "      <td>08/07/2012</td>\n",
       "      <td>0</td>\n",
       "      <td>0</td>\n",
       "      <td>0</td>\n",
       "      <td>100</td>\n",
       "      <td>07/31/2015</td>\n",
       "    </tr>\n",
       "  </tbody>\n",
       "</table>\n",
       "<p>5 rows × 27 columns</p>\n",
       "</div>"
      ],
      "text/plain": [
       "         documentid recordtype_x  borough_x  block  lot easement partiallot  \\\n",
       "0  2015090300204001            L          4    528   50        N          E   \n",
       "1  2011012100554001            L          4    528   50        N          E   \n",
       "2  2013112100798001            L          4    528   50        N          E   \n",
       "3  2010090101085001            L          4    528   50        N          E   \n",
       "5  2012072701175001            L          4    528   50        N          E   \n",
       "\n",
       "  airrights subterraneanrights propertytype        ...           doctype  \\\n",
       "0         N                  N           SP        ...          RPTT&RET   \n",
       "1         N                  N           SP        ...          RPTT&RET   \n",
       "2         N                  N           SP        ...          RPTT&RET   \n",
       "3         N                  N           SP        ...          RPTT&RET   \n",
       "5         N                  N           SP        ...          RPTT&RET   \n",
       "\n",
       "      docdate docamount recorded/filed modifieddate  reelyear  reelnbr  \\\n",
       "0  08/25/2015    418000     09/16/2015   09/16/2015         0        0   \n",
       "1  01/24/2011    300000     02/08/2011   02/08/2011         0        0   \n",
       "2  11/14/2013    325000     12/03/2013   12/03/2013         0        0   \n",
       "3  09/01/2010    332500     09/13/2010   09/13/2010         0        0   \n",
       "5  07/17/2012    315000     08/07/2012   08/07/2012         0        0   \n",
       "\n",
       "  reelpage %transferred  goodthroughdate_y  \n",
       "0        0          100         09/30/2015  \n",
       "1        0          100         07/31/2015  \n",
       "2        0          100         07/31/2015  \n",
       "3        0          100         07/31/2015  \n",
       "5        0          100         07/31/2015  \n",
       "\n",
       "[5 rows x 27 columns]"
      ]
     },
     "execution_count": 12,
     "metadata": {},
     "output_type": "execute_result"
    }
   ],
   "source": [
    "#for now limit to just sales so don't have to deal with missing dates on other record types\n",
    "#todo would be to do a 'bestdate' that would take docdate if its there or recordedfiled if not \n",
    "sales=mergeddf[mergeddf.doctype.str.startswith('RPTT')]\n",
    "sales.head()"
   ]
  },
  {
   "cell_type": "code",
   "execution_count": 14,
   "metadata": {
    "collapsed": false
   },
   "outputs": [
    {
     "name": "stderr",
     "output_type": "stream",
     "text": [
      "/Users/helene/anaconda/lib/python2.7/site-packages/IPython/kernel/__main__.py:3: SettingWithCopyWarning: \n",
      "A value is trying to be set on a copy of a slice from a DataFrame.\n",
      "Try using .loc[row_indexer,col_indexer] = value instead\n",
      "\n",
      "See the the caveats in the documentation: http://pandas.pydata.org/pandas-docs/stable/indexing.html#indexing-view-versus-copy\n",
      "  app.launch_new_instance()\n"
     ]
    },
    {
     "data": {
      "text/plain": [
       "0   2015-08-25\n",
       "1   2011-01-24\n",
       "2   2013-11-14\n",
       "3   2010-09-01\n",
       "5   2012-07-17\n",
       "Name: date, dtype: datetime64[ns]"
      ]
     },
     "execution_count": 14,
     "metadata": {},
     "output_type": "execute_result"
    }
   ],
   "source": [
    "#fix the date field\n",
    "from datetime import datetime\n",
    "sales['date'] = [ datetime.strptime(date_string, '%m/%d/%Y') for date_string in sales['docdate'] ]\n",
    "sales.date.head()"
   ]
  },
  {
   "cell_type": "code",
   "execution_count": 17,
   "metadata": {
    "collapsed": false,
    "scrolled": true
   },
   "outputs": [
    {
     "data": {
      "text/plain": [
       "<matplotlib.axes._subplots.AxesSubplot at 0x1098b4ad0>"
      ]
     },
     "execution_count": 17,
     "metadata": {},
     "output_type": "execute_result"
    },
    {
     "data": {
      "image/png": "[encoded data removed]",
      "text/plain": [
       "<matplotlib.figure.Figure at 0x1097ccc10>"
      ]
     },
     "metadata": {},
     "output_type": "display_data"
    }
   ],
   "source": [
    "sales.docamount.plot(kind='hist')"
   ]
  },
  {
   "cell_type": "code",
   "execution_count": 18,
   "metadata": {
    "collapsed": false,
    "scrolled": true
   },
   "outputs": [
    {
     "data": {
      "text/plain": [
       "<matplotlib.axes._subplots.AxesSubplot at 0x1098f1990>"
      ]
     },
     "execution_count": 18,
     "metadata": {},
     "output_type": "execute_result"
    },
    {
     "data": {
      "image/png": "[encoded data removed]",
      "text/plain": [
       "<matplotlib.figure.Figure at 0x109832e10>"
      ]
     },
     "metadata": {},
     "output_type": "display_data"
    }
   ],
   "source": [
    "#get rid of zero dollar records\n",
    "sales = sales[sales.docamount>0]\n",
    "sales.docamount.plot(kind='hist')\n",
    "#that one low value probably an outlier as well "
   ]
  },
  {
   "cell_type": "code",
   "execution_count": 43,
   "metadata": {
    "collapsed": false
   },
   "outputs": [
    {
     "ename": "KeyError",
     "evalue": "'date'",
     "output_type": "error",
     "traceback": [
      "\u001b[0;31m---------------------------------------------------------------------------\u001b[0m",
      "\u001b[0;31mKeyError\u001b[0m                                  Traceback (most recent call last)",
      "\u001b[0;32m<ipython-input-43-08284d049ced>\u001b[0m in \u001b[0;36m<module>\u001b[0;34m()\u001b[0m\n\u001b[1;32m      1\u001b[0m \u001b[0;31m#sny does this give an error?\u001b[0m\u001b[0;34m\u001b[0m\u001b[0;34m\u001b[0m\u001b[0m\n\u001b[0;32m----> 2\u001b[0;31m \u001b[0msales\u001b[0m\u001b[0;34m.\u001b[0m\u001b[0mplot\u001b[0m\u001b[0;34m(\u001b[0m\u001b[0mx\u001b[0m\u001b[0;34m=\u001b[0m\u001b[0;34m'date'\u001b[0m\u001b[0;34m,\u001b[0m\u001b[0my\u001b[0m\u001b[0;34m=\u001b[0m\u001b[0;34m'docamount'\u001b[0m\u001b[0;34m,\u001b[0m\u001b[0mkind\u001b[0m\u001b[0;34m=\u001b[0m\u001b[0;34m'scatter'\u001b[0m\u001b[0;34m)\u001b[0m\u001b[0;34m\u001b[0m\u001b[0m\n\u001b[0m",
      "\u001b[0;32m/Users/helene/anaconda/lib/python2.7/site-packages/pandas/tools/plotting.pyc\u001b[0m in \u001b[0;36mplot_frame\u001b[0;34m(data, x, y, kind, ax, subplots, sharex, sharey, layout, figsize, use_index, title, grid, legend, style, logx, logy, loglog, xticks, yticks, xlim, ylim, rot, fontsize, colormap, table, yerr, xerr, secondary_y, sort_columns, **kwds)\u001b[0m\n\u001b[1;32m   2486\u001b[0m                  \u001b[0myerr\u001b[0m\u001b[0;34m=\u001b[0m\u001b[0myerr\u001b[0m\u001b[0;34m,\u001b[0m \u001b[0mxerr\u001b[0m\u001b[0;34m=\u001b[0m\u001b[0mxerr\u001b[0m\u001b[0;34m,\u001b[0m\u001b[0;34m\u001b[0m\u001b[0m\n\u001b[1;32m   2487\u001b[0m                  \u001b[0msecondary_y\u001b[0m\u001b[0;34m=\u001b[0m\u001b[0msecondary_y\u001b[0m\u001b[0;34m,\u001b[0m \u001b[0msort_columns\u001b[0m\u001b[0;34m=\u001b[0m\u001b[0msort_columns\u001b[0m\u001b[0;34m,\u001b[0m\u001b[0;34m\u001b[0m\u001b[0m\n\u001b[0;32m-> 2488\u001b[0;31m                  **kwds)\n\u001b[0m\u001b[1;32m   2489\u001b[0m \u001b[0;34m\u001b[0m\u001b[0m\n\u001b[1;32m   2490\u001b[0m \u001b[0;34m\u001b[0m\u001b[0m\n",
      "\u001b[0;32m/Users/helene/anaconda/lib/python2.7/site-packages/pandas/tools/plotting.pyc\u001b[0m in \u001b[0;36m_plot\u001b[0;34m(data, x, y, subplots, ax, kind, **kwds)\u001b[0m\n\u001b[1;32m   2322\u001b[0m         \u001b[0mplot_obj\u001b[0m \u001b[0;34m=\u001b[0m \u001b[0mklass\u001b[0m\u001b[0;34m(\u001b[0m\u001b[0mdata\u001b[0m\u001b[0;34m,\u001b[0m \u001b[0msubplots\u001b[0m\u001b[0;34m=\u001b[0m\u001b[0msubplots\u001b[0m\u001b[0;34m,\u001b[0m \u001b[0max\u001b[0m\u001b[0;34m=\u001b[0m\u001b[0max\u001b[0m\u001b[0;34m,\u001b[0m \u001b[0mkind\u001b[0m\u001b[0;34m=\u001b[0m\u001b[0mkind\u001b[0m\u001b[0;34m,\u001b[0m \u001b[0;34m**\u001b[0m\u001b[0mkwds\u001b[0m\u001b[0;34m)\u001b[0m\u001b[0;34m\u001b[0m\u001b[0m\n\u001b[1;32m   2323\u001b[0m \u001b[0;34m\u001b[0m\u001b[0m\n\u001b[0;32m-> 2324\u001b[0;31m     \u001b[0mplot_obj\u001b[0m\u001b[0;34m.\u001b[0m\u001b[0mgenerate\u001b[0m\u001b[0;34m(\u001b[0m\u001b[0;34m)\u001b[0m\u001b[0;34m\u001b[0m\u001b[0m\n\u001b[0m\u001b[1;32m   2325\u001b[0m     \u001b[0mplot_obj\u001b[0m\u001b[0;34m.\u001b[0m\u001b[0mdraw\u001b[0m\u001b[0;34m(\u001b[0m\u001b[0;34m)\u001b[0m\u001b[0;34m\u001b[0m\u001b[0m\n\u001b[1;32m   2326\u001b[0m     \u001b[0;32mreturn\u001b[0m \u001b[0mplot_obj\u001b[0m\u001b[0;34m.\u001b[0m\u001b[0mresult\u001b[0m\u001b[0;34m\u001b[0m\u001b[0m\n",
      "\u001b[0;32m/Users/helene/anaconda/lib/python2.7/site-packages/pandas/tools/plotting.pyc\u001b[0m in \u001b[0;36mgenerate\u001b[0;34m(self)\u001b[0m\n\u001b[1;32m    912\u001b[0m         \u001b[0mself\u001b[0m\u001b[0;34m.\u001b[0m\u001b[0m_compute_plot_data\u001b[0m\u001b[0;34m(\u001b[0m\u001b[0;34m)\u001b[0m\u001b[0;34m\u001b[0m\u001b[0m\n\u001b[1;32m    913\u001b[0m         \u001b[0mself\u001b[0m\u001b[0;34m.\u001b[0m\u001b[0m_setup_subplots\u001b[0m\u001b[0;34m(\u001b[0m\u001b[0;34m)\u001b[0m\u001b[0;34m\u001b[0m\u001b[0m\n\u001b[0;32m--> 914\u001b[0;31m         \u001b[0mself\u001b[0m\u001b[0;34m.\u001b[0m\u001b[0m_make_plot\u001b[0m\u001b[0;34m(\u001b[0m\u001b[0;34m)\u001b[0m\u001b[0;34m\u001b[0m\u001b[0m\n\u001b[0m\u001b[1;32m    915\u001b[0m         \u001b[0mself\u001b[0m\u001b[0;34m.\u001b[0m\u001b[0m_add_table\u001b[0m\u001b[0;34m(\u001b[0m\u001b[0;34m)\u001b[0m\u001b[0;34m\u001b[0m\u001b[0m\n\u001b[1;32m    916\u001b[0m         \u001b[0mself\u001b[0m\u001b[0;34m.\u001b[0m\u001b[0m_make_legend\u001b[0m\u001b[0;34m(\u001b[0m\u001b[0;34m)\u001b[0m\u001b[0;34m\u001b[0m\u001b[0m\n",
      "\u001b[0;32m/Users/helene/anaconda/lib/python2.7/site-packages/pandas/tools/plotting.pyc\u001b[0m in \u001b[0;36m_make_plot\u001b[0;34m(self)\u001b[0m\n\u001b[1;32m   1455\u001b[0m         \u001b[0;32melse\u001b[0m\u001b[0;34m:\u001b[0m\u001b[0;34m\u001b[0m\u001b[0m\n\u001b[1;32m   1456\u001b[0m             \u001b[0mlabel\u001b[0m \u001b[0;34m=\u001b[0m \u001b[0mNone\u001b[0m\u001b[0;34m\u001b[0m\u001b[0m\n\u001b[0;32m-> 1457\u001b[0;31m         scatter = ax.scatter(data[x].values, data[y].values, c=c_values,\n\u001b[0m\u001b[1;32m   1458\u001b[0m                              label=label, cmap=cmap, **self.kwds)\n\u001b[1;32m   1459\u001b[0m         \u001b[0;32mif\u001b[0m \u001b[0mcb\u001b[0m\u001b[0;34m:\u001b[0m\u001b[0;34m\u001b[0m\u001b[0m\n",
      "\u001b[0;32m/Users/helene/anaconda/lib/python2.7/site-packages/pandas/core/frame.pyc\u001b[0m in \u001b[0;36m__getitem__\u001b[0;34m(self, key)\u001b[0m\n\u001b[1;32m   1795\u001b[0m             \u001b[0;32mreturn\u001b[0m \u001b[0mself\u001b[0m\u001b[0;34m.\u001b[0m\u001b[0m_getitem_multilevel\u001b[0m\u001b[0;34m(\u001b[0m\u001b[0mkey\u001b[0m\u001b[0;34m)\u001b[0m\u001b[0;34m\u001b[0m\u001b[0m\n\u001b[1;32m   1796\u001b[0m         \u001b[0;32melse\u001b[0m\u001b[0;34m:\u001b[0m\u001b[0;34m\u001b[0m\u001b[0m\n\u001b[0;32m-> 1797\u001b[0;31m             \u001b[0;32mreturn\u001b[0m \u001b[0mself\u001b[0m\u001b[0;34m.\u001b[0m\u001b[0m_getitem_column\u001b[0m\u001b[0;34m(\u001b[0m\u001b[0mkey\u001b[0m\u001b[0;34m)\u001b[0m\u001b[0;34m\u001b[0m\u001b[0m\n\u001b[0m\u001b[1;32m   1798\u001b[0m \u001b[0;34m\u001b[0m\u001b[0m\n\u001b[1;32m   1799\u001b[0m     \u001b[0;32mdef\u001b[0m \u001b[0m_getitem_column\u001b[0m\u001b[0;34m(\u001b[0m\u001b[0mself\u001b[0m\u001b[0;34m,\u001b[0m \u001b[0mkey\u001b[0m\u001b[0;34m)\u001b[0m\u001b[0;34m:\u001b[0m\u001b[0;34m\u001b[0m\u001b[0m\n",
      "\u001b[0;32m/Users/helene/anaconda/lib/python2.7/site-packages/pandas/core/frame.pyc\u001b[0m in \u001b[0;36m_getitem_column\u001b[0;34m(self, key)\u001b[0m\n\u001b[1;32m   1802\u001b[0m         \u001b[0;31m# get column\u001b[0m\u001b[0;34m\u001b[0m\u001b[0;34m\u001b[0m\u001b[0m\n\u001b[1;32m   1803\u001b[0m         \u001b[0;32mif\u001b[0m \u001b[0mself\u001b[0m\u001b[0;34m.\u001b[0m\u001b[0mcolumns\u001b[0m\u001b[0;34m.\u001b[0m\u001b[0mis_unique\u001b[0m\u001b[0;34m:\u001b[0m\u001b[0;34m\u001b[0m\u001b[0m\n\u001b[0;32m-> 1804\u001b[0;31m             \u001b[0;32mreturn\u001b[0m \u001b[0mself\u001b[0m\u001b[0;34m.\u001b[0m\u001b[0m_get_item_cache\u001b[0m\u001b[0;34m(\u001b[0m\u001b[0mkey\u001b[0m\u001b[0;34m)\u001b[0m\u001b[0;34m\u001b[0m\u001b[0m\n\u001b[0m\u001b[1;32m   1805\u001b[0m \u001b[0;34m\u001b[0m\u001b[0m\n\u001b[1;32m   1806\u001b[0m         \u001b[0;31m# duplicate columns & possible reduce dimensionaility\u001b[0m\u001b[0;34m\u001b[0m\u001b[0;34m\u001b[0m\u001b[0m\n",
      "\u001b[0;32m/Users/helene/anaconda/lib/python2.7/site-packages/pandas/core/generic.pyc\u001b[0m in \u001b[0;36m_get_item_cache\u001b[0;34m(self, item)\u001b[0m\n\u001b[1;32m   1082\u001b[0m         \u001b[0mres\u001b[0m \u001b[0;34m=\u001b[0m \u001b[0mcache\u001b[0m\u001b[0;34m.\u001b[0m\u001b[0mget\u001b[0m\u001b[0;34m(\u001b[0m\u001b[0mitem\u001b[0m\u001b[0;34m)\u001b[0m\u001b[0;34m\u001b[0m\u001b[0m\n\u001b[1;32m   1083\u001b[0m         \u001b[0;32mif\u001b[0m \u001b[0mres\u001b[0m \u001b[0;32mis\u001b[0m \u001b[0mNone\u001b[0m\u001b[0;34m:\u001b[0m\u001b[0;34m\u001b[0m\u001b[0m\n\u001b[0;32m-> 1084\u001b[0;31m             \u001b[0mvalues\u001b[0m \u001b[0;34m=\u001b[0m \u001b[0mself\u001b[0m\u001b[0;34m.\u001b[0m\u001b[0m_data\u001b[0m\u001b[0;34m.\u001b[0m\u001b[0mget\u001b[0m\u001b[0;34m(\u001b[0m\u001b[0mitem\u001b[0m\u001b[0;34m)\u001b[0m\u001b[0;34m\u001b[0m\u001b[0m\n\u001b[0m\u001b[1;32m   1085\u001b[0m             \u001b[0mres\u001b[0m \u001b[0;34m=\u001b[0m \u001b[0mself\u001b[0m\u001b[0;34m.\u001b[0m\u001b[0m_box_item_values\u001b[0m\u001b[0;34m(\u001b[0m\u001b[0mitem\u001b[0m\u001b[0;34m,\u001b[0m \u001b[0mvalues\u001b[0m\u001b[0;34m)\u001b[0m\u001b[0;34m\u001b[0m\u001b[0m\n\u001b[1;32m   1086\u001b[0m             \u001b[0mcache\u001b[0m\u001b[0;34m[\u001b[0m\u001b[0mitem\u001b[0m\u001b[0;34m]\u001b[0m \u001b[0;34m=\u001b[0m \u001b[0mres\u001b[0m\u001b[0;34m\u001b[0m\u001b[0m\n",
      "\u001b[0;32m/Users/helene/anaconda/lib/python2.7/site-packages/pandas/core/internals.pyc\u001b[0m in \u001b[0;36mget\u001b[0;34m(self, item, fastpath)\u001b[0m\n\u001b[1;32m   2849\u001b[0m \u001b[0;34m\u001b[0m\u001b[0m\n\u001b[1;32m   2850\u001b[0m             \u001b[0;32mif\u001b[0m \u001b[0;32mnot\u001b[0m \u001b[0misnull\u001b[0m\u001b[0;34m(\u001b[0m\u001b[0mitem\u001b[0m\u001b[0;34m)\u001b[0m\u001b[0;34m:\u001b[0m\u001b[0;34m\u001b[0m\u001b[0m\n\u001b[0;32m-> 2851\u001b[0;31m                 \u001b[0mloc\u001b[0m \u001b[0;34m=\u001b[0m \u001b[0mself\u001b[0m\u001b[0;34m.\u001b[0m\u001b[0mitems\u001b[0m\u001b[0;34m.\u001b[0m\u001b[0mget_loc\u001b[0m\u001b[0;34m(\u001b[0m\u001b[0mitem\u001b[0m\u001b[0;34m)\u001b[0m\u001b[0;34m\u001b[0m\u001b[0m\n\u001b[0m\u001b[1;32m   2852\u001b[0m             \u001b[0;32melse\u001b[0m\u001b[0;34m:\u001b[0m\u001b[0;34m\u001b[0m\u001b[0m\n\u001b[1;32m   2853\u001b[0m                 \u001b[0mindexer\u001b[0m \u001b[0;34m=\u001b[0m \u001b[0mnp\u001b[0m\u001b[0;34m.\u001b[0m\u001b[0marange\u001b[0m\u001b[0;34m(\u001b[0m\u001b[0mlen\u001b[0m\u001b[0;34m(\u001b[0m\u001b[0mself\u001b[0m\u001b[0;34m.\u001b[0m\u001b[0mitems\u001b[0m\u001b[0;34m)\u001b[0m\u001b[0;34m)\u001b[0m\u001b[0;34m[\u001b[0m\u001b[0misnull\u001b[0m\u001b[0;34m(\u001b[0m\u001b[0mself\u001b[0m\u001b[0;34m.\u001b[0m\u001b[0mitems\u001b[0m\u001b[0;34m)\u001b[0m\u001b[0;34m]\u001b[0m\u001b[0;34m\u001b[0m\u001b[0m\n",
      "\u001b[0;32m/Users/helene/anaconda/lib/python2.7/site-packages/pandas/core/index.pyc\u001b[0m in \u001b[0;36mget_loc\u001b[0;34m(self, key, method)\u001b[0m\n\u001b[1;32m   1570\u001b[0m         \"\"\"\n\u001b[1;32m   1571\u001b[0m         \u001b[0;32mif\u001b[0m \u001b[0mmethod\u001b[0m \u001b[0;32mis\u001b[0m \u001b[0mNone\u001b[0m\u001b[0;34m:\u001b[0m\u001b[0;34m\u001b[0m\u001b[0m\n\u001b[0;32m-> 1572\u001b[0;31m             \u001b[0;32mreturn\u001b[0m \u001b[0mself\u001b[0m\u001b[0;34m.\u001b[0m\u001b[0m_engine\u001b[0m\u001b[0;34m.\u001b[0m\u001b[0mget_loc\u001b[0m\u001b[0;34m(\u001b[0m\u001b[0m_values_from_object\u001b[0m\u001b[0;34m(\u001b[0m\u001b[0mkey\u001b[0m\u001b[0;34m)\u001b[0m\u001b[0;34m)\u001b[0m\u001b[0;34m\u001b[0m\u001b[0m\n\u001b[0m\u001b[1;32m   1573\u001b[0m \u001b[0;34m\u001b[0m\u001b[0m\n\u001b[1;32m   1574\u001b[0m         \u001b[0mindexer\u001b[0m \u001b[0;34m=\u001b[0m \u001b[0mself\u001b[0m\u001b[0;34m.\u001b[0m\u001b[0mget_indexer\u001b[0m\u001b[0;34m(\u001b[0m\u001b[0;34m[\u001b[0m\u001b[0mkey\u001b[0m\u001b[0;34m]\u001b[0m\u001b[0;34m,\u001b[0m \u001b[0mmethod\u001b[0m\u001b[0;34m=\u001b[0m\u001b[0mmethod\u001b[0m\u001b[0;34m)\u001b[0m\u001b[0;34m\u001b[0m\u001b[0m\n",
      "\u001b[0;32mpandas/index.pyx\u001b[0m in \u001b[0;36mpandas.index.IndexEngine.get_loc (pandas/index.c:3824)\u001b[0;34m()\u001b[0m\n",
      "\u001b[0;32mpandas/index.pyx\u001b[0m in \u001b[0;36mpandas.index.IndexEngine.get_loc (pandas/index.c:3704)\u001b[0;34m()\u001b[0m\n",
      "\u001b[0;32mpandas/hashtable.pyx\u001b[0m in \u001b[0;36mpandas.hashtable.PyObjectHashTable.get_item (pandas/hashtable.c:12280)\u001b[0;34m()\u001b[0m\n",
      "\u001b[0;32mpandas/hashtable.pyx\u001b[0m in \u001b[0;36mpandas.hashtable.PyObjectHashTable.get_item (pandas/hashtable.c:12231)\u001b[0;34m()\u001b[0m\n",
      "\u001b[0;31mKeyError\u001b[0m: 'date'"
     ]
    },
    {
     "data": {
      "image/png": "[encoded data removed]",
      "text/plain": [
       "<matplotlib.figure.Figure at 0x10b97f290>"
      ]
     },
     "metadata": {},
     "output_type": "display_data"
    }
   ],
   "source": [
    "#why does this give an error? \n",
    "sales.plot(x='date',y='docamount',kind='scatter')"
   ]
  },
  {
   "cell_type": "code",
   "execution_count": 46,
   "metadata": {
    "collapsed": false
   },
   "outputs": [
    {
     "data": {
      "text/plain": [
       "<matplotlib.axes._subplots.AxesSubplot at 0x10b0a6350>"
      ]
     },
     "execution_count": 46,
     "metadata": {},
     "output_type": "execute_result"
    },
    {
     "data": {
      "image/png": "[encoded data removed]",
      "text/plain": [
       "<matplotlib.figure.Figure at 0x10b1b7f10>"
      ]
     },
     "metadata": {},
     "output_type": "display_data"
    }
   ],
   "source": [
    "#but this works? \n",
    "sales.plot(x='date',y='docamount',style='o')"
   ]
  },
  {
   "cell_type": "code",
   "execution_count": 50,
   "metadata": {
    "collapsed": false
   },
   "outputs": [
    {
     "data": {
      "text/plain": [
       "14TH STREET      61\n",
       "21ST STREET      45\n",
       "21 STREET        14\n",
       "14 STREET        12\n",
       "14TH   STREET    10\n",
       "14TH ST           8\n",
       "21ST   STREET     1\n",
       "21 ST             1\n",
       "21ST ST           1\n",
       "14 ST             1\n",
       "dtype: int64"
      ]
     },
     "execution_count": 50,
     "metadata": {},
     "output_type": "execute_result"
    }
   ],
   "source": [
    "sales.streetname.value_counts()"
   ]
  },
  {
   "cell_type": "code",
   "execution_count": null,
   "metadata": {
    "collapsed": true
   },
   "outputs": [],
   "source": []
  },
  {
   "cell_type": "code",
   "execution_count": null,
   "metadata": {
    "collapsed": true
   },
   "outputs": [],
   "source": []
  },
  {
   "cell_type": "code",
   "execution_count": null,
   "metadata": {
    "collapsed": true
   },
   "outputs": [],
   "source": []
  },
  {
   "cell_type": "code",
   "execution_count": null,
   "metadata": {
    "collapsed": true
   },
   "outputs": [],
   "source": []
  },
  {
   "cell_type": "code",
   "execution_count": null,
   "metadata": {
    "collapsed": true
   },
   "outputs": [],
   "source": []
  },
  {
   "cell_type": "code",
   "execution_count": null,
   "metadata": {
    "collapsed": true
   },
   "outputs": [],
   "source": []
  },
  {
   "cell_type": "code",
   "execution_count": null,
   "metadata": {
    "collapsed": true
   },
   "outputs": [],
   "source": []
  },
  {
   "cell_type": "code",
   "execution_count": null,
   "metadata": {
    "collapsed": true
   },
   "outputs": [],
   "source": []
  },
  {
   "cell_type": "code",
   "execution_count": null,
   "metadata": {
    "collapsed": true
   },
   "outputs": [],
   "source": []
  }
 ],
 "metadata": {
  "kernelspec": {
   "display_name": "Python 2",
   "language": "python",
   "name": "python2"
  },
  "language_info": {
   "codemirror_mode": {
    "name": "ipython",
    "version": 2
   },
   "file_extension": ".py",
   "mimetype": "text/x-python",
   "name": "python",
   "nbconvert_exporter": "python",
   "pygments_lexer": "ipython2",
   "version": "2.7.10"
  }
 },
 "nbformat": 4,
 "nbformat_minor": 0
}
