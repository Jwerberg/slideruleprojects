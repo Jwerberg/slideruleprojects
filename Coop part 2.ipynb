{
 "cells": [
  {
   "cell_type": "code",
   "execution_count": 1,
   "metadata": {
    "collapsed": true
   },
   "outputs": [],
   "source": [
    "%matplotlib inline\n",
    "import matplotlib.pyplot as plt\n",
    "import pandas as pd\n",
    "import numpy as np\n",
    "from scipy import stats\n",
    "from datetime import datetime\n",
    "import os"
   ]
  },
  {
   "cell_type": "code",
   "execution_count": 14,
   "metadata": {
    "collapsed": true
   },
   "outputs": [],
   "source": [
    "# here take as input a BBL \n",
    "# see if data file exists, if so, get hash of docids\n",
    "# do first data pull from open data, compare hash of docids\n",
    "# if match, move ahead with saved data, if not, pull new data and re-save\n",
    "# for now just check if file exists"
   ]
  },
  {
   "cell_type": "code",
   "execution_count": 9,
   "metadata": {
    "collapsed": true
   },
   "outputs": [],
   "source": [
    "def get_and_cache_bbl_data(bbl=(4,528,50),filename='coopdata.csv'):\n",
    "    if os.path.isfile(filename):\n",
    "        print 'reading data from cache...'\n",
    "        df = pd.read_csv(filename)\n",
    "        print len(df),'records'\n",
    "        return df\n",
    "    else:\n",
    "        print 'no cache found, pulling data from web...'\n",
    "        url='https://data.cityofnewyork.us/resource/8h5j-fqxa.csv?borough='\n",
    "        url+=str(bbl[0])+'&block='+str(bbl[1])+'&lot='+str(bbl[2])\n",
    "        df=pd.read_table(url,sep=',')\n",
    "        docids = df['DOCUMENT ID']\n",
    "        urlbase=\"https://data.cityofnewyork.us/resource/bnx9-e6tj.csv?$where=document_id='\"\n",
    "        l = len(docids)\n",
    "        n = l // 100 \n",
    "        masterlist = [] \n",
    "        for i in range(n+1):\n",
    "            if i < n:\n",
    "                url = urlbase + \"'%20or%20document_id='\".join(docids[i*100:(i+1)*100]) + \"'\"\n",
    "                #print url \n",
    "                masterlist.append(pd.read_table(url,sep=','))\n",
    "            else:\n",
    "                url=urlbase + \"'%20or%20document_id='\".join(docids[i*100:l]) + \"'\"\n",
    "                #print url\n",
    "                masterlist.append(pd.read_table(url,sep=',')) \n",
    "        masters = pd.concat(masterlist)\n",
    "        mergeddf = pd.merge(df,masters,on=['DOCUMENT ID'])\n",
    "        mergeddf.columns = mergeddf.columns.str.replace(' ','')\n",
    "        mergeddf.columns = mergeddf.columns.str.replace('.','')\n",
    "        mergeddf.columns = mergeddf.columns.str.lower()\n",
    "        print 'saving to file',filename\n",
    "        mergeddf.to_csv(filename)\n",
    "        print len(mergeddf), 'records'\n",
    "        return mergeddf"
   ]
  },
  {
   "cell_type": "code",
   "execution_count": 11,
   "metadata": {
    "collapsed": false
   },
   "outputs": [
    {
     "name": "stdout",
     "output_type": "stream",
     "text": [
      "no cache found, pulling data from web...\n",
      "saving to file coopdata2.csv\n",
      "185 records\n"
     ]
    }
   ],
   "source": [
    "mergeddf=get_and_cache_bbl_data(filename='coopdata2.csv')"
   ]
  },
  {
   "cell_type": "code",
   "execution_count": 15,
   "metadata": {
    "collapsed": false
   },
   "outputs": [
    {
     "data": {
      "text/plain": [
       "0    SP\n",
       "1    SP\n",
       "2    SP\n",
       "3    SP\n",
       "4    PA\n",
       "5    SP\n",
       "6    SP\n",
       "7    SP\n",
       "8    PA\n",
       "9    SP\n",
       "Name: propertytype, dtype: object"
      ]
     },
     "execution_count": 15,
     "metadata": {},
     "output_type": "execute_result"
    }
   ],
   "source": [
    "mergeddf.propertytype.head(10)"
   ]
  },
  {
   "cell_type": "code",
   "execution_count": 15,
   "metadata": {
    "collapsed": false
   },
   "outputs": [
    {
     "data": {
      "text/html": [
       "<div>\n",
       "<table border=\"1\" class=\"dataframe\">\n",
       "  <thead>\n",
       "    <tr style=\"text-align: right;\">\n",
       "      <th></th>\n",
       "      <th>documentid</th>\n",
       "      <th>recordtype_x</th>\n",
       "      <th>borough_x</th>\n",
       "      <th>block</th>\n",
       "      <th>lot</th>\n",
       "      <th>easement</th>\n",
       "      <th>partiallot</th>\n",
       "      <th>airrights</th>\n",
       "      <th>subterraneanrights</th>\n",
       "      <th>propertytype</th>\n",
       "      <th>...</th>\n",
       "      <th>doctype</th>\n",
       "      <th>docdate</th>\n",
       "      <th>docamount</th>\n",
       "      <th>recorded/filed</th>\n",
       "      <th>modifieddate</th>\n",
       "      <th>reelyear</th>\n",
       "      <th>reelnbr</th>\n",
       "      <th>reelpage</th>\n",
       "      <th>%transferred</th>\n",
       "      <th>goodthroughdate_y</th>\n",
       "    </tr>\n",
       "  </thead>\n",
       "  <tbody>\n",
       "    <tr>\n",
       "      <th>0</th>\n",
       "      <td>2015090300204001</td>\n",
       "      <td>L</td>\n",
       "      <td>4</td>\n",
       "      <td>528</td>\n",
       "      <td>50</td>\n",
       "      <td>N</td>\n",
       "      <td>E</td>\n",
       "      <td>N</td>\n",
       "      <td>N</td>\n",
       "      <td>SP</td>\n",
       "      <td>...</td>\n",
       "      <td>RPTT&amp;RET</td>\n",
       "      <td>08/25/2015</td>\n",
       "      <td>418000</td>\n",
       "      <td>09/16/2015</td>\n",
       "      <td>09/16/2015</td>\n",
       "      <td>0</td>\n",
       "      <td>0</td>\n",
       "      <td>0</td>\n",
       "      <td>100</td>\n",
       "      <td>09/30/2015</td>\n",
       "    </tr>\n",
       "    <tr>\n",
       "      <th>1</th>\n",
       "      <td>2011012100554001</td>\n",
       "      <td>L</td>\n",
       "      <td>4</td>\n",
       "      <td>528</td>\n",
       "      <td>50</td>\n",
       "      <td>N</td>\n",
       "      <td>E</td>\n",
       "      <td>N</td>\n",
       "      <td>N</td>\n",
       "      <td>SP</td>\n",
       "      <td>...</td>\n",
       "      <td>RPTT&amp;RET</td>\n",
       "      <td>01/24/2011</td>\n",
       "      <td>300000</td>\n",
       "      <td>02/08/2011</td>\n",
       "      <td>02/08/2011</td>\n",
       "      <td>0</td>\n",
       "      <td>0</td>\n",
       "      <td>0</td>\n",
       "      <td>100</td>\n",
       "      <td>07/31/2015</td>\n",
       "    </tr>\n",
       "    <tr>\n",
       "      <th>2</th>\n",
       "      <td>2013112100798001</td>\n",
       "      <td>L</td>\n",
       "      <td>4</td>\n",
       "      <td>528</td>\n",
       "      <td>50</td>\n",
       "      <td>N</td>\n",
       "      <td>E</td>\n",
       "      <td>N</td>\n",
       "      <td>N</td>\n",
       "      <td>SP</td>\n",
       "      <td>...</td>\n",
       "      <td>RPTT&amp;RET</td>\n",
       "      <td>11/14/2013</td>\n",
       "      <td>325000</td>\n",
       "      <td>12/03/2013</td>\n",
       "      <td>12/03/2013</td>\n",
       "      <td>0</td>\n",
       "      <td>0</td>\n",
       "      <td>0</td>\n",
       "      <td>100</td>\n",
       "      <td>07/31/2015</td>\n",
       "    </tr>\n",
       "    <tr>\n",
       "      <th>3</th>\n",
       "      <td>2010090101085001</td>\n",
       "      <td>L</td>\n",
       "      <td>4</td>\n",
       "      <td>528</td>\n",
       "      <td>50</td>\n",
       "      <td>N</td>\n",
       "      <td>E</td>\n",
       "      <td>N</td>\n",
       "      <td>N</td>\n",
       "      <td>SP</td>\n",
       "      <td>...</td>\n",
       "      <td>RPTT&amp;RET</td>\n",
       "      <td>09/01/2010</td>\n",
       "      <td>332500</td>\n",
       "      <td>09/13/2010</td>\n",
       "      <td>09/13/2010</td>\n",
       "      <td>0</td>\n",
       "      <td>0</td>\n",
       "      <td>0</td>\n",
       "      <td>100</td>\n",
       "      <td>07/31/2015</td>\n",
       "    </tr>\n",
       "    <tr>\n",
       "      <th>5</th>\n",
       "      <td>2012072701175001</td>\n",
       "      <td>L</td>\n",
       "      <td>4</td>\n",
       "      <td>528</td>\n",
       "      <td>50</td>\n",
       "      <td>N</td>\n",
       "      <td>E</td>\n",
       "      <td>N</td>\n",
       "      <td>N</td>\n",
       "      <td>SP</td>\n",
       "      <td>...</td>\n",
       "      <td>RPTT&amp;RET</td>\n",
       "      <td>07/17/2012</td>\n",
       "      <td>315000</td>\n",
       "      <td>08/07/2012</td>\n",
       "      <td>08/07/2012</td>\n",
       "      <td>0</td>\n",
       "      <td>0</td>\n",
       "      <td>0</td>\n",
       "      <td>100</td>\n",
       "      <td>07/31/2015</td>\n",
       "    </tr>\n",
       "  </tbody>\n",
       "</table>\n",
       "<p>5 rows × 27 columns</p>\n",
       "</div>"
      ],
      "text/plain": [
       "         documentid recordtype_x  borough_x  block  lot easement partiallot  \\\n",
       "0  2015090300204001            L          4    528   50        N          E   \n",
       "1  2011012100554001            L          4    528   50        N          E   \n",
       "2  2013112100798001            L          4    528   50        N          E   \n",
       "3  2010090101085001            L          4    528   50        N          E   \n",
       "5  2012072701175001            L          4    528   50        N          E   \n",
       "\n",
       "  airrights subterraneanrights propertytype        ...           doctype  \\\n",
       "0         N                  N           SP        ...          RPTT&RET   \n",
       "1         N                  N           SP        ...          RPTT&RET   \n",
       "2         N                  N           SP        ...          RPTT&RET   \n",
       "3         N                  N           SP        ...          RPTT&RET   \n",
       "5         N                  N           SP        ...          RPTT&RET   \n",
       "\n",
       "      docdate docamount recorded/filed modifieddate  reelyear  reelnbr  \\\n",
       "0  08/25/2015    418000     09/16/2015   09/16/2015         0        0   \n",
       "1  01/24/2011    300000     02/08/2011   02/08/2011         0        0   \n",
       "2  11/14/2013    325000     12/03/2013   12/03/2013         0        0   \n",
       "3  09/01/2010    332500     09/13/2010   09/13/2010         0        0   \n",
       "5  07/17/2012    315000     08/07/2012   08/07/2012         0        0   \n",
       "\n",
       "  reelpage %transferred  goodthroughdate_y  \n",
       "0        0          100         09/30/2015  \n",
       "1        0          100         07/31/2015  \n",
       "2        0          100         07/31/2015  \n",
       "3        0          100         07/31/2015  \n",
       "5        0          100         07/31/2015  \n",
       "\n",
       "[5 rows x 27 columns]"
      ]
     },
     "execution_count": 15,
     "metadata": {},
     "output_type": "execute_result"
    }
   ],
   "source": [
    "#for now limit to just sales so don't have to deal with missing dates on other record types\n",
    "#todo would be to do a 'bestdate' that would take docdate if its there or recordedfiled if not \n",
    "sales=mergeddf[mergeddf.doctype.str.startswith('RPTT')]\n",
    "sales.head()"
   ]
  },
  {
   "cell_type": "code",
   "execution_count": 16,
   "metadata": {
    "collapsed": false,
    "scrolled": true
   },
   "outputs": [
    {
     "name": "stderr",
     "output_type": "stream",
     "text": [
      "/home/werteray/anaconda/lib/python2.7/site-packages/IPython/kernel/__main__.py:3: SettingWithCopyWarning: \n",
      "A value is trying to be set on a copy of a slice from a DataFrame.\n",
      "Try using .loc[row_indexer,col_indexer] = value instead\n",
      "\n",
      "See the the caveats in the documentation: http://pandas.pydata.org/pandas-docs/stable/indexing.html#indexing-view-versus-copy\n",
      "  app.launch_new_instance()\n"
     ]
    },
    {
     "data": {
      "text/plain": [
       "0   2015-08-25\n",
       "1   2011-01-24\n",
       "2   2013-11-14\n",
       "3   2010-09-01\n",
       "5   2012-07-17\n",
       "Name: date, dtype: datetime64[ns]"
      ]
     },
     "execution_count": 16,
     "metadata": {},
     "output_type": "execute_result"
    }
   ],
   "source": [
    "#fix the date field\n",
    "from datetime import datetime\n",
    "sales['date'] = [ datetime.strptime(date_string, '%m/%d/%Y') for date_string in sales['docdate'] ]\n",
    "sales.date.head()"
   ]
  },
  {
   "cell_type": "code",
   "execution_count": 17,
   "metadata": {
    "collapsed": false,
    "scrolled": true
   },
   "outputs": [
    {
     "data": {
      "text/plain": [
       "<matplotlib.axes._subplots.AxesSubplot at 0xac511f8c>"
      ]
     },
     "execution_count": 17,
     "metadata": {},
     "output_type": "execute_result"
    },
    {
     "data": {
      "image/png": "[encoded data removed]",
      "text/plain": [
       "<matplotlib.figure.Figure at 0xac51198c>"
      ]
     },
     "metadata": {},
     "output_type": "display_data"
    }
   ],
   "source": [
    "sales.docamount.plot(kind='hist')"
   ]
  },
  {
   "cell_type": "code",
   "execution_count": 18,
   "metadata": {
    "collapsed": false,
    "scrolled": true
   },
   "outputs": [
    {
     "data": {
      "text/plain": [
       "<matplotlib.axes._subplots.AxesSubplot at 0xac3ae10c>"
      ]
     },
     "execution_count": 18,
     "metadata": {},
     "output_type": "execute_result"
    },
    {
     "data": {
      "image/png": "[encoded data removed]",
      "text/plain": [
       "<matplotlib.figure.Figure at 0xac41b56c>"
      ]
     },
     "metadata": {},
     "output_type": "display_data"
    }
   ],
   "source": [
    "#get rid of zero and low dollar records\n",
    "sales = sales[sales.docamount>100000]\n",
    "sales.docamount.plot(kind='hist')"
   ]
  },
  {
   "cell_type": "code",
   "execution_count": 19,
   "metadata": {
    "collapsed": false
   },
   "outputs": [
    {
     "data": {
      "text/plain": [
       "<matplotlib.axes._subplots.AxesSubplot at 0xac3cd6ec>"
      ]
     },
     "execution_count": 19,
     "metadata": {},
     "output_type": "execute_result"
    },
    {
     "data": {
      "image/png": "[encoded data removed]",
      "text/plain": [
       "<matplotlib.figure.Figure at 0xac359c6c>"
      ]
     },
     "metadata": {},
     "output_type": "display_data"
    }
   ],
   "source": [
    "#but this works? \n",
    "sales.plot(x='date',y='docamount',style='o',legend=False,title='Sales price')"
   ]
  },
  {
   "cell_type": "code",
   "execution_count": 20,
   "metadata": {
    "collapsed": false
   },
   "outputs": [
    {
     "data": {
      "text/plain": [
       "14TH STREET      61\n",
       "21ST STREET      44\n",
       "21 STREET        14\n",
       "14 STREET        12\n",
       "14TH   STREET    10\n",
       "14TH ST           8\n",
       "21ST   STREET     1\n",
       "21 ST             1\n",
       "21ST ST           1\n",
       "14 ST             1\n",
       "dtype: int64"
      ]
     },
     "execution_count": 20,
     "metadata": {},
     "output_type": "execute_result"
    }
   ],
   "source": [
    "sales.streetname.value_counts()"
   ]
  },
  {
   "cell_type": "code",
   "execution_count": 21,
   "metadata": {
    "collapsed": false
   },
   "outputs": [],
   "source": [
    "sales['street']=[int(s[0:2]) for s in sales.streetname]\n",
    "# will need street parse instead"
   ]
  },
  {
   "cell_type": "code",
   "execution_count": 22,
   "metadata": {
    "collapsed": false
   },
   "outputs": [
    {
     "data": {
      "image/png": "[encoded data removed]",
      "text/plain": [
       "<matplotlib.figure.Figure at 0xac23a0ac>"
      ]
     },
     "metadata": {},
     "output_type": "display_data"
    }
   ],
   "source": [
    "import matplotlib.pyplot as plt\n",
    "\n",
    "x = sales.date.values\n",
    "y = sales.docamount.values\n",
    "t = sales.street.values\n",
    "\n",
    "plt.title('Sale prices')\n",
    "plt.scatter(x, y, c=t)\n",
    "plt.show()\n",
    "# steps needed to make this pretty\n",
    "# better color differentiation\n",
    "# drop top and right borders\n",
    "# format money correctly "
   ]
  },
  {
   "cell_type": "code",
   "execution_count": 23,
   "metadata": {
    "collapsed": false
   },
   "outputs": [
    {
     "data": {
      "text/plain": [
       "0    A\n",
       "1    C\n",
       "2    C\n",
       "3    D\n",
       "5    B\n",
       "Name: line, dtype: object"
      ]
     },
     "execution_count": 23,
     "metadata": {},
     "output_type": "execute_result"
    }
   ],
   "source": [
    "# will need to do alpha check in case units listed as A1 \n",
    "sales['line']=[s[-1:] for s in sales.unit]\n",
    "sales.line.head()"
   ]
  },
  {
   "cell_type": "code",
   "execution_count": 24,
   "metadata": {
    "collapsed": false
   },
   "outputs": [
    {
     "data": {
      "image/png": "[encoded data removed]",
      "text/plain": [
       "<matplotlib.figure.Figure at 0xac21f32c>"
      ]
     },
     "metadata": {},
     "output_type": "display_data"
    }
   ],
   "source": [
    "lines=sales.line.unique()\n",
    "lines.sort()\n",
    "lines\n",
    "data = []\n",
    "for l in lines:\n",
    "    data.append([sales[sales.line==l].docamount])\n",
    "\n",
    "plt.boxplot(data,labels=lines)\n",
    "plt.title('Sale price by building line')\n",
    "plt.show()"
   ]
  },
  {
   "cell_type": "code",
   "execution_count": 25,
   "metadata": {
    "collapsed": false
   },
   "outputs": [],
   "source": [
    "#quick trimming a string down to just digits \n",
    "#from: http://stackoverflow.com/questions/1450897/python-removing-characters-except-digits-from-string\n",
    "import string\n",
    "all=string.maketrans('','')\n",
    "nodigs=all.translate(all, string.digits)\n",
    "#then use as string.translate(all, nodigs)\n",
    "def justdigits(string):\n",
    "    return int(string.translate(all,nodigs))\n",
    "    \n",
    "# eg justdigits('10A') returns 10 "
   ]
  },
  {
   "cell_type": "code",
   "execution_count": 26,
   "metadata": {
    "collapsed": false
   },
   "outputs": [
    {
     "data": {
      "text/plain": [
       "0     4\n",
       "1    11\n",
       "2    10\n",
       "3     5\n",
       "5     2\n",
       "Name: floor, dtype: int64"
      ]
     },
     "execution_count": 26,
     "metadata": {},
     "output_type": "execute_result"
    }
   ],
   "source": [
    "sales['floor']=[justdigits(s) for s in sales['unit']]\n",
    "sales.floor.head()"
   ]
  },
  {
   "cell_type": "code",
   "execution_count": 27,
   "metadata": {
    "collapsed": false,
    "scrolled": true
   },
   "outputs": [
    {
     "data": {
      "image/png": "[encoded data removed]",
      "text/plain": [
       "<matplotlib.figure.Figure at 0xac2294ec>"
      ]
     },
     "metadata": {},
     "output_type": "display_data"
    }
   ],
   "source": [
    "x = sales.floor.values\n",
    "y = sales.docamount.values\n",
    "\n",
    "plt.scatter(x,y)\n",
    "plt.title('Sale price by floor')\n",
    "plt.show()"
   ]
  },
  {
   "cell_type": "code",
   "execution_count": 29,
   "metadata": {
    "collapsed": false
   },
   "outputs": [
    {
     "data": {
      "image/png": "[encoded data removed]",
      "text/plain": [
       "<matplotlib.figure.Figure at 0xabf3ef6c>"
      ]
     },
     "metadata": {},
     "output_type": "display_data"
    }
   ],
   "source": [
    "floorcounts=sales.floor.value_counts()\n",
    "floors=floorcounts[floorcounts>1].index.values\n",
    "floors.sort()\n",
    "floors\n",
    "data = []\n",
    "for f in floors:\n",
    "    data.append([sales[sales.floor==f].docamount])\n",
    "plt.boxplot(data ,labels=floors)\n",
    "plt.title('Sale price by building floor')\n",
    "plt.show()"
   ]
  },
  {
   "cell_type": "code",
   "execution_count": null,
   "metadata": {
    "collapsed": true
   },
   "outputs": [],
   "source": []
  },
  {
   "cell_type": "markdown",
   "metadata": {
    "collapsed": true
   },
   "source": [
    "## Proposal / next steps\n",
    "\n",
    "### Create a model to predict prices of individual co-op units\n",
    "\n",
    "Using historical sales and other data build a model to best predict current sales prices for NYC co-op apartments.  ACRIS public data will form the core dataset. Features may include prior sales, floor and line of the unit, time since last sale, and adjustments for overall neighborhood and borough trends.\n",
    "\n",
    "### Next steps\n",
    "\n",
    "- Setup data caching - data is saved to disk and only re-pulled if there are new results\n",
    "- Look at frequency of sales and start testing moving averages, look back windows to see what appears useful and stable\n",
    "- With something reasonably stable try basic regression including floor and unit, proxy for apartment size where we have it, see how close we are with simple models\n",
    "- Bring and test with more data - other co-ops, make decision about working on multiple or just one\n",
    "- Explore other models of price over time - e.g. exponential decay \n",
    "- Figure out how to bring in neighborhood and borough trends as feature, figure out best weighting between co-op specific and neighborhood, borough, city level factors. \n",
    "- Other data sources? \n",
    "- Test and compare various models \n",
    "- Think about how to productionalize "
   ]
  },
  {
   "cell_type": "code",
   "execution_count": null,
   "metadata": {
    "collapsed": true
   },
   "outputs": [],
   "source": []
  },
  {
   "cell_type": "code",
   "execution_count": null,
   "metadata": {
    "collapsed": true
   },
   "outputs": [],
   "source": []
  },
  {
   "cell_type": "code",
   "execution_count": null,
   "metadata": {
    "collapsed": true
   },
   "outputs": [],
   "source": []
  },
  {
   "cell_type": "code",
   "execution_count": null,
   "metadata": {
    "collapsed": true
   },
   "outputs": [],
   "source": []
  }
 ],
 "metadata": {
  "kernelspec": {
   "display_name": "Python 2",
   "language": "python",
   "name": "python2"
  },
  "language_info": {
   "codemirror_mode": {
    "name": "ipython",
    "version": 2
   },
   "file_extension": ".py",
   "mimetype": "text/x-python",
   "name": "python",
   "nbconvert_exporter": "python",
   "pygments_lexer": "ipython2",
   "version": "2.7.10"
  }
 },
 "nbformat": 4,
 "nbformat_minor": 0
}
