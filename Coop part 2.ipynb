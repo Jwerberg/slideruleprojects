{
 "cells": [
  {
   "cell_type": "code",
   "execution_count": 1,
   "metadata": {
    "collapsed": true
   },
   "outputs": [],
   "source": [
    "%matplotlib inline\n",
    "import matplotlib.pyplot as plt\n",
    "import pandas as pd\n",
    "import numpy as np\n",
    "from scipy import stats\n",
    "from datetime import datetime\n",
    "import os"
   ]
  },
  {
   "cell_type": "code",
   "execution_count": 2,
   "metadata": {
    "collapsed": true
   },
   "outputs": [],
   "source": [
    "# here take as input a BBL \n",
    "# see if data file exists, if so, get hash of docids\n",
    "# do first data pull from open data, compare hash of docids\n",
    "# if match, move ahead with saved data, if not, pull new data and re-save\n",
    "# for now just check if file exists"
   ]
  },
  {
   "cell_type": "code",
   "execution_count": 3,
   "metadata": {
    "collapsed": true
   },
   "outputs": [],
   "source": [
    "def get_and_cache_bbl_data(bbl=(4,528,50),filename='coopdata.csv'):\n",
    "    if os.path.isfile(filename):\n",
    "        print 'reading data from cache...'\n",
    "        df = pd.read_csv(filename)\n",
    "        print len(df),'records'\n",
    "        return df\n",
    "    else:\n",
    "        print 'no cache found, pulling data from web...'\n",
    "        url='https://data.cityofnewyork.us/resource/8h5j-fqxa.csv?borough='\n",
    "        url+=str(bbl[0])+'&block='+str(bbl[1])+'&lot='+str(bbl[2])\n",
    "        df=pd.read_table(url,sep=',')\n",
    "        docids = df['DOCUMENT ID']\n",
    "        urlbase=\"https://data.cityofnewyork.us/resource/bnx9-e6tj.csv?$where=document_id='\"\n",
    "        l = len(docids)\n",
    "        n = l // 100 \n",
    "        masterlist = [] \n",
    "        for i in range(n+1):\n",
    "            if i < n:\n",
    "                url = urlbase + \"'%20or%20document_id='\".join(docids[i*100:(i+1)*100]) + \"'\"\n",
    "                #print url \n",
    "                masterlist.append(pd.read_table(url,sep=','))\n",
    "            else:\n",
    "                url=urlbase + \"'%20or%20document_id='\".join(docids[i*100:l]) + \"'\"\n",
    "                #print url\n",
    "                masterlist.append(pd.read_table(url,sep=',')) \n",
    "        masters = pd.concat(masterlist)\n",
    "        mergeddf = pd.merge(df,masters,on=['DOCUMENT ID'])\n",
    "        mergeddf.columns = mergeddf.columns.str.replace(' ','')\n",
    "        mergeddf.columns = mergeddf.columns.str.replace('.','')\n",
    "        mergeddf.columns = mergeddf.columns.str.lower()\n",
    "        print 'saving to file',filename\n",
    "        mergeddf.to_csv(filename)\n",
    "        print len(mergeddf), 'records'\n",
    "        return mergeddf"
   ]
  },
  {
   "cell_type": "code",
   "execution_count": 4,
   "metadata": {
    "collapsed": false
   },
   "outputs": [
    {
     "name": "stdout",
     "output_type": "stream",
     "text": [
      "reading data from cache...\n",
      "185 records\n"
     ]
    }
   ],
   "source": [
    "mergeddf=get_and_cache_bbl_data(filename='coopdata.csv')"
   ]
  },
  {
   "cell_type": "code",
   "execution_count": 5,
   "metadata": {
    "collapsed": false
   },
   "outputs": [
    {
     "data": {
      "text/plain": [
       "0    SP\n",
       "1    SP\n",
       "2    SP\n",
       "3    SP\n",
       "4    PA\n",
       "5    SP\n",
       "6    SP\n",
       "7    SP\n",
       "8    PA\n",
       "9    SP\n",
       "Name: propertytype, dtype: object"
      ]
     },
     "execution_count": 5,
     "metadata": {},
     "output_type": "execute_result"
    }
   ],
   "source": [
    "mergeddf.propertytype.head(10)"
   ]
  },
  {
   "cell_type": "code",
   "execution_count": 6,
   "metadata": {
    "collapsed": false
   },
   "outputs": [
    {
     "data": {
      "text/html": [
       "<div>\n",
       "<table border=\"1\" class=\"dataframe\">\n",
       "  <thead>\n",
       "    <tr style=\"text-align: right;\">\n",
       "      <th></th>\n",
       "      <th>Unnamed: 0</th>\n",
       "      <th>documentid</th>\n",
       "      <th>recordtype_x</th>\n",
       "      <th>borough_x</th>\n",
       "      <th>block</th>\n",
       "      <th>lot</th>\n",
       "      <th>easement</th>\n",
       "      <th>partiallot</th>\n",
       "      <th>airrights</th>\n",
       "      <th>subterraneanrights</th>\n",
       "      <th>...</th>\n",
       "      <th>doctype</th>\n",
       "      <th>docdate</th>\n",
       "      <th>docamount</th>\n",
       "      <th>recorded/filed</th>\n",
       "      <th>modifieddate</th>\n",
       "      <th>reelyear</th>\n",
       "      <th>reelnbr</th>\n",
       "      <th>reelpage</th>\n",
       "      <th>%transferred</th>\n",
       "      <th>goodthroughdate_y</th>\n",
       "    </tr>\n",
       "  </thead>\n",
       "  <tbody>\n",
       "    <tr>\n",
       "      <th>0</th>\n",
       "      <td>0</td>\n",
       "      <td>2015090300204001</td>\n",
       "      <td>L</td>\n",
       "      <td>4</td>\n",
       "      <td>528</td>\n",
       "      <td>50</td>\n",
       "      <td>N</td>\n",
       "      <td>E</td>\n",
       "      <td>N</td>\n",
       "      <td>N</td>\n",
       "      <td>...</td>\n",
       "      <td>RPTT&amp;RET</td>\n",
       "      <td>08/25/2015</td>\n",
       "      <td>418000</td>\n",
       "      <td>09/16/2015</td>\n",
       "      <td>09/16/2015</td>\n",
       "      <td>0</td>\n",
       "      <td>0</td>\n",
       "      <td>0</td>\n",
       "      <td>100</td>\n",
       "      <td>09/30/2015</td>\n",
       "    </tr>\n",
       "    <tr>\n",
       "      <th>1</th>\n",
       "      <td>1</td>\n",
       "      <td>2011012100554001</td>\n",
       "      <td>L</td>\n",
       "      <td>4</td>\n",
       "      <td>528</td>\n",
       "      <td>50</td>\n",
       "      <td>N</td>\n",
       "      <td>E</td>\n",
       "      <td>N</td>\n",
       "      <td>N</td>\n",
       "      <td>...</td>\n",
       "      <td>RPTT&amp;RET</td>\n",
       "      <td>01/24/2011</td>\n",
       "      <td>300000</td>\n",
       "      <td>02/08/2011</td>\n",
       "      <td>02/08/2011</td>\n",
       "      <td>0</td>\n",
       "      <td>0</td>\n",
       "      <td>0</td>\n",
       "      <td>100</td>\n",
       "      <td>07/31/2015</td>\n",
       "    </tr>\n",
       "    <tr>\n",
       "      <th>2</th>\n",
       "      <td>2</td>\n",
       "      <td>2013112100798001</td>\n",
       "      <td>L</td>\n",
       "      <td>4</td>\n",
       "      <td>528</td>\n",
       "      <td>50</td>\n",
       "      <td>N</td>\n",
       "      <td>E</td>\n",
       "      <td>N</td>\n",
       "      <td>N</td>\n",
       "      <td>...</td>\n",
       "      <td>RPTT&amp;RET</td>\n",
       "      <td>11/14/2013</td>\n",
       "      <td>325000</td>\n",
       "      <td>12/03/2013</td>\n",
       "      <td>12/03/2013</td>\n",
       "      <td>0</td>\n",
       "      <td>0</td>\n",
       "      <td>0</td>\n",
       "      <td>100</td>\n",
       "      <td>07/31/2015</td>\n",
       "    </tr>\n",
       "    <tr>\n",
       "      <th>3</th>\n",
       "      <td>3</td>\n",
       "      <td>2010090101085001</td>\n",
       "      <td>L</td>\n",
       "      <td>4</td>\n",
       "      <td>528</td>\n",
       "      <td>50</td>\n",
       "      <td>N</td>\n",
       "      <td>E</td>\n",
       "      <td>N</td>\n",
       "      <td>N</td>\n",
       "      <td>...</td>\n",
       "      <td>RPTT&amp;RET</td>\n",
       "      <td>09/01/2010</td>\n",
       "      <td>332500</td>\n",
       "      <td>09/13/2010</td>\n",
       "      <td>09/13/2010</td>\n",
       "      <td>0</td>\n",
       "      <td>0</td>\n",
       "      <td>0</td>\n",
       "      <td>100</td>\n",
       "      <td>07/31/2015</td>\n",
       "    </tr>\n",
       "    <tr>\n",
       "      <th>5</th>\n",
       "      <td>5</td>\n",
       "      <td>2012072701175001</td>\n",
       "      <td>L</td>\n",
       "      <td>4</td>\n",
       "      <td>528</td>\n",
       "      <td>50</td>\n",
       "      <td>N</td>\n",
       "      <td>E</td>\n",
       "      <td>N</td>\n",
       "      <td>N</td>\n",
       "      <td>...</td>\n",
       "      <td>RPTT&amp;RET</td>\n",
       "      <td>07/17/2012</td>\n",
       "      <td>315000</td>\n",
       "      <td>08/07/2012</td>\n",
       "      <td>08/07/2012</td>\n",
       "      <td>0</td>\n",
       "      <td>0</td>\n",
       "      <td>0</td>\n",
       "      <td>100</td>\n",
       "      <td>07/31/2015</td>\n",
       "    </tr>\n",
       "  </tbody>\n",
       "</table>\n",
       "<p>5 rows × 28 columns</p>\n",
       "</div>"
      ],
      "text/plain": [
       "   Unnamed: 0        documentid recordtype_x  borough_x  block  lot easement  \\\n",
       "0           0  2015090300204001            L          4    528   50        N   \n",
       "1           1  2011012100554001            L          4    528   50        N   \n",
       "2           2  2013112100798001            L          4    528   50        N   \n",
       "3           3  2010090101085001            L          4    528   50        N   \n",
       "5           5  2012072701175001            L          4    528   50        N   \n",
       "\n",
       "  partiallot airrights subterraneanrights        ...          doctype  \\\n",
       "0          E         N                  N        ...         RPTT&RET   \n",
       "1          E         N                  N        ...         RPTT&RET   \n",
       "2          E         N                  N        ...         RPTT&RET   \n",
       "3          E         N                  N        ...         RPTT&RET   \n",
       "5          E         N                  N        ...         RPTT&RET   \n",
       "\n",
       "      docdate docamount recorded/filed modifieddate reelyear  reelnbr  \\\n",
       "0  08/25/2015    418000     09/16/2015   09/16/2015        0        0   \n",
       "1  01/24/2011    300000     02/08/2011   02/08/2011        0        0   \n",
       "2  11/14/2013    325000     12/03/2013   12/03/2013        0        0   \n",
       "3  09/01/2010    332500     09/13/2010   09/13/2010        0        0   \n",
       "5  07/17/2012    315000     08/07/2012   08/07/2012        0        0   \n",
       "\n",
       "   reelpage %transferred goodthroughdate_y  \n",
       "0         0          100        09/30/2015  \n",
       "1         0          100        07/31/2015  \n",
       "2         0          100        07/31/2015  \n",
       "3         0          100        07/31/2015  \n",
       "5         0          100        07/31/2015  \n",
       "\n",
       "[5 rows x 28 columns]"
      ]
     },
     "execution_count": 6,
     "metadata": {},
     "output_type": "execute_result"
    }
   ],
   "source": [
    "#for now limit to just sales so don't have to deal with missing dates on other record types\n",
    "#todo would be to do a 'bestdate' that would take docdate if its there or recordedfiled if not \n",
    "sales=mergeddf[mergeddf.doctype.str.startswith('RPTT')]\n",
    "sales.head()"
   ]
  },
  {
   "cell_type": "code",
   "execution_count": 7,
   "metadata": {
    "collapsed": false,
    "scrolled": true
   },
   "outputs": [
    {
     "name": "stderr",
     "output_type": "stream",
     "text": [
      "/Users/helene/anaconda/lib/python2.7/site-packages/IPython/kernel/__main__.py:3: SettingWithCopyWarning: \n",
      "A value is trying to be set on a copy of a slice from a DataFrame.\n",
      "Try using .loc[row_indexer,col_indexer] = value instead\n",
      "\n",
      "See the the caveats in the documentation: http://pandas.pydata.org/pandas-docs/stable/indexing.html#indexing-view-versus-copy\n",
      "  app.launch_new_instance()\n"
     ]
    },
    {
     "data": {
      "text/plain": [
       "0   2015-08-25\n",
       "1   2011-01-24\n",
       "2   2013-11-14\n",
       "3   2010-09-01\n",
       "5   2012-07-17\n",
       "Name: date, dtype: datetime64[ns]"
      ]
     },
     "execution_count": 7,
     "metadata": {},
     "output_type": "execute_result"
    }
   ],
   "source": [
    "#fix the date field\n",
    "from datetime import datetime\n",
    "sales['date'] = [ datetime.strptime(date_string, '%m/%d/%Y') for date_string in sales['docdate'] ]\n",
    "sales.date.head()"
   ]
  },
  {
   "cell_type": "code",
   "execution_count": 9,
   "metadata": {
    "collapsed": false,
    "scrolled": true
   },
   "outputs": [
    {
     "data": {
      "text/plain": [
       "<matplotlib.axes._subplots.AxesSubplot at 0x109121290>"
      ]
     },
     "execution_count": 9,
     "metadata": {},
     "output_type": "execute_result"
    },
    {
     "data": {
      "image/png": "[encoded data removed]",
      "text/plain": [
       "<matplotlib.figure.Figure at 0x10925f8d0>"
      ]
     },
     "metadata": {},
     "output_type": "display_data"
    }
   ],
   "source": [
    "#get rid of zero and low dollar records\n",
    "sales = sales[sales.docamount>100000]\n",
    "sales.docamount.plot(kind='hist')"
   ]
  },
  {
   "cell_type": "code",
   "execution_count": 10,
   "metadata": {
    "collapsed": false
   },
   "outputs": [
    {
     "data": {
      "text/plain": [
       "<matplotlib.axes._subplots.AxesSubplot at 0x109388110>"
      ]
     },
     "execution_count": 10,
     "metadata": {},
     "output_type": "execute_result"
    },
    {
     "data": {
      "image/png": "[encoded data removed]",
      "text/plain": [
       "<matplotlib.figure.Figure at 0x1091de5d0>"
      ]
     },
     "metadata": {},
     "output_type": "display_data"
    }
   ],
   "source": [
    "#but this works? \n",
    "sales.plot(x='date',y='docamount',style='o',legend=False,title='Sales price')"
   ]
  },
  {
   "cell_type": "code",
   "execution_count": 142,
   "metadata": {
    "collapsed": false
   },
   "outputs": [
    {
     "data": {
      "text/plain": [
       "33-43    26\n",
       "33-65    25\n",
       "33-60    24\n",
       "33-55    21\n",
       "33-64    18\n",
       "33-68    14\n",
       "33-47    13\n",
       "3343      4\n",
       "3368      3\n",
       "3365      2\n",
       "3355      1\n",
       "3360      1\n",
       "3364      1\n",
       "dtype: int64"
      ]
     },
     "execution_count": 142,
     "metadata": {},
     "output_type": "execute_result"
    }
   ],
   "source": [
    "sales.streetnumber.value_counts()"
   ]
  },
  {
   "cell_type": "code",
   "execution_count": 12,
   "metadata": {
    "collapsed": false
   },
   "outputs": [],
   "source": [
    "sales['street']=[int(s[0:2]) for s in sales.streetname]\n",
    "# will need street parse instead"
   ]
  },
  {
   "cell_type": "code",
   "execution_count": 13,
   "metadata": {
    "collapsed": false
   },
   "outputs": [
    {
     "data": {
      "image/png": "[encoded data removed]",
      "text/plain": [
       "<matplotlib.figure.Figure at 0x1094fe090>"
      ]
     },
     "metadata": {},
     "output_type": "display_data"
    }
   ],
   "source": [
    "import matplotlib.pyplot as plt\n",
    "\n",
    "x = sales.date.values\n",
    "y = sales.docamount.values\n",
    "t = sales.street.values\n",
    "\n",
    "plt.title('Sale prices')\n",
    "plt.scatter(x, y, c=t)\n",
    "plt.show()\n",
    "# steps needed to make this pretty\n",
    "# better color differentiation\n",
    "# drop top and right borders\n",
    "# format money correctly "
   ]
  },
  {
   "cell_type": "code",
   "execution_count": 14,
   "metadata": {
    "collapsed": false
   },
   "outputs": [
    {
     "data": {
      "text/plain": [
       "0    A\n",
       "1    C\n",
       "2    C\n",
       "3    D\n",
       "5    B\n",
       "Name: line, dtype: object"
      ]
     },
     "execution_count": 14,
     "metadata": {},
     "output_type": "execute_result"
    }
   ],
   "source": [
    "# will need to do alpha check in case units listed as A1 \n",
    "sales['line']=[s[-1:] for s in sales.unit]\n",
    "sales.line.head()"
   ]
  },
  {
   "cell_type": "code",
   "execution_count": 15,
   "metadata": {
    "collapsed": false
   },
   "outputs": [
    {
     "data": {
      "image/png": "[encoded data removed]",
      "text/plain": [
       "<matplotlib.figure.Figure at 0x109594750>"
      ]
     },
     "metadata": {},
     "output_type": "display_data"
    }
   ],
   "source": [
    "lines=sales.line.unique()\n",
    "lines.sort()\n",
    "lines\n",
    "data = []\n",
    "for l in lines:\n",
    "    data.append([sales[sales.line==l].docamount])\n",
    "\n",
    "plt.boxplot(data,labels=lines)\n",
    "plt.title('Sale price by building line')\n",
    "plt.show()"
   ]
  },
  {
   "cell_type": "code",
   "execution_count": 16,
   "metadata": {
    "collapsed": false
   },
   "outputs": [],
   "source": [
    "#quick trimming a string down to just digits \n",
    "#from: http://stackoverflow.com/questions/1450897/python-removing-characters-except-digits-from-string\n",
    "import string\n",
    "all=string.maketrans('','')\n",
    "nodigs=all.translate(all, string.digits)\n",
    "#then use as string.translate(all, nodigs)\n",
    "def justdigits(string):\n",
    "    return int(string.translate(all,nodigs))\n",
    "    \n",
    "# eg justdigits('10A') returns 10 "
   ]
  },
  {
   "cell_type": "code",
   "execution_count": 17,
   "metadata": {
    "collapsed": false
   },
   "outputs": [
    {
     "data": {
      "text/plain": [
       "0     4\n",
       "1    11\n",
       "2    10\n",
       "3     5\n",
       "5     2\n",
       "Name: floor, dtype: int64"
      ]
     },
     "execution_count": 17,
     "metadata": {},
     "output_type": "execute_result"
    }
   ],
   "source": [
    "sales['floor']=[justdigits(s) for s in sales['unit']]\n",
    "sales.floor.head()"
   ]
  },
  {
   "cell_type": "code",
   "execution_count": 18,
   "metadata": {
    "collapsed": false,
    "scrolled": true
   },
   "outputs": [
    {
     "data": {
      "image/png": "[encoded data removed]",
      "text/plain": [
       "<matplotlib.figure.Figure at 0x1090ffa10>"
      ]
     },
     "metadata": {},
     "output_type": "display_data"
    }
   ],
   "source": [
    "x = sales.floor.values\n",
    "y = sales.docamount.values\n",
    "\n",
    "plt.scatter(x,y)\n",
    "plt.title('Sale price by floor')\n",
    "plt.show()"
   ]
  },
  {
   "cell_type": "code",
   "execution_count": 19,
   "metadata": {
    "collapsed": false
   },
   "outputs": [
    {
     "data": {
      "image/png": "[encoded data removed]",
      "text/plain": [
       "<matplotlib.figure.Figure at 0x1093cd7d0>"
      ]
     },
     "metadata": {},
     "output_type": "display_data"
    }
   ],
   "source": [
    "floorcounts=sales.floor.value_counts()\n",
    "floors=floorcounts[floorcounts>1].index.values\n",
    "floors.sort()\n",
    "floors\n",
    "data = []\n",
    "for f in floors:\n",
    "    data.append([sales[sales.floor==f].docamount])\n",
    "plt.boxplot(data ,labels=floors)\n",
    "plt.title('Sale price by building floor')\n",
    "plt.show()"
   ]
  },
  {
   "cell_type": "code",
   "execution_count": 29,
   "metadata": {
    "collapsed": false
   },
   "outputs": [],
   "source": [
    "sales = sales.set_index('date').sort_index()"
   ]
  },
  {
   "cell_type": "code",
   "execution_count": 30,
   "metadata": {
    "collapsed": false
   },
   "outputs": [
    {
     "data": {
      "text/html": [
       "<div>\n",
       "<table border=\"1\" class=\"dataframe\">\n",
       "  <thead>\n",
       "    <tr style=\"text-align: right;\">\n",
       "      <th></th>\n",
       "      <th>Unnamed: 0</th>\n",
       "      <th>documentid</th>\n",
       "      <th>recordtype_x</th>\n",
       "      <th>borough_x</th>\n",
       "      <th>block</th>\n",
       "      <th>lot</th>\n",
       "      <th>easement</th>\n",
       "      <th>partiallot</th>\n",
       "      <th>airrights</th>\n",
       "      <th>subterraneanrights</th>\n",
       "      <th>...</th>\n",
       "      <th>recorded/filed</th>\n",
       "      <th>modifieddate</th>\n",
       "      <th>reelyear</th>\n",
       "      <th>reelnbr</th>\n",
       "      <th>reelpage</th>\n",
       "      <th>%transferred</th>\n",
       "      <th>goodthroughdate_y</th>\n",
       "      <th>street</th>\n",
       "      <th>line</th>\n",
       "      <th>floor</th>\n",
       "    </tr>\n",
       "    <tr>\n",
       "      <th>date</th>\n",
       "      <th></th>\n",
       "      <th></th>\n",
       "      <th></th>\n",
       "      <th></th>\n",
       "      <th></th>\n",
       "      <th></th>\n",
       "      <th></th>\n",
       "      <th></th>\n",
       "      <th></th>\n",
       "      <th></th>\n",
       "      <th></th>\n",
       "      <th></th>\n",
       "      <th></th>\n",
       "      <th></th>\n",
       "      <th></th>\n",
       "      <th></th>\n",
       "      <th></th>\n",
       "      <th></th>\n",
       "      <th></th>\n",
       "      <th></th>\n",
       "      <th></th>\n",
       "    </tr>\n",
       "  </thead>\n",
       "  <tbody>\n",
       "    <tr>\n",
       "      <th>2004-06-21</th>\n",
       "      <td>19</td>\n",
       "      <td>2006011201300001</td>\n",
       "      <td>L</td>\n",
       "      <td>4</td>\n",
       "      <td>528</td>\n",
       "      <td>50</td>\n",
       "      <td>N</td>\n",
       "      <td>E</td>\n",
       "      <td>N</td>\n",
       "      <td>N</td>\n",
       "      <td>...</td>\n",
       "      <td>01/24/2006</td>\n",
       "      <td>01/24/2006</td>\n",
       "      <td>0</td>\n",
       "      <td>0</td>\n",
       "      <td>0</td>\n",
       "      <td>100</td>\n",
       "      <td>07/31/2015</td>\n",
       "      <td>14</td>\n",
       "      <td>C</td>\n",
       "      <td>7</td>\n",
       "    </tr>\n",
       "    <tr>\n",
       "      <th>2004-07-08</th>\n",
       "      <td>78</td>\n",
       "      <td>2004080300906001</td>\n",
       "      <td>L</td>\n",
       "      <td>4</td>\n",
       "      <td>528</td>\n",
       "      <td>50</td>\n",
       "      <td>N</td>\n",
       "      <td>E</td>\n",
       "      <td>N</td>\n",
       "      <td>N</td>\n",
       "      <td>...</td>\n",
       "      <td>08/17/2004</td>\n",
       "      <td>08/17/2004</td>\n",
       "      <td>0</td>\n",
       "      <td>0</td>\n",
       "      <td>0</td>\n",
       "      <td>100</td>\n",
       "      <td>07/31/2015</td>\n",
       "      <td>14</td>\n",
       "      <td>A</td>\n",
       "      <td>15</td>\n",
       "    </tr>\n",
       "    <tr>\n",
       "      <th>2004-08-09</th>\n",
       "      <td>88</td>\n",
       "      <td>2004082000656001</td>\n",
       "      <td>L</td>\n",
       "      <td>4</td>\n",
       "      <td>528</td>\n",
       "      <td>50</td>\n",
       "      <td>N</td>\n",
       "      <td>E</td>\n",
       "      <td>N</td>\n",
       "      <td>N</td>\n",
       "      <td>...</td>\n",
       "      <td>09/22/2004</td>\n",
       "      <td>09/22/2004</td>\n",
       "      <td>0</td>\n",
       "      <td>0</td>\n",
       "      <td>0</td>\n",
       "      <td>100</td>\n",
       "      <td>07/31/2015</td>\n",
       "      <td>21</td>\n",
       "      <td>C</td>\n",
       "      <td>3</td>\n",
       "    </tr>\n",
       "    <tr>\n",
       "      <th>2004-09-14</th>\n",
       "      <td>84</td>\n",
       "      <td>2004092800386001</td>\n",
       "      <td>L</td>\n",
       "      <td>4</td>\n",
       "      <td>528</td>\n",
       "      <td>50</td>\n",
       "      <td>N</td>\n",
       "      <td>E</td>\n",
       "      <td>N</td>\n",
       "      <td>N</td>\n",
       "      <td>...</td>\n",
       "      <td>10/25/2004</td>\n",
       "      <td>10/25/2004</td>\n",
       "      <td>0</td>\n",
       "      <td>0</td>\n",
       "      <td>0</td>\n",
       "      <td>100</td>\n",
       "      <td>07/31/2015</td>\n",
       "      <td>14</td>\n",
       "      <td>A</td>\n",
       "      <td>5</td>\n",
       "    </tr>\n",
       "    <tr>\n",
       "      <th>2004-09-23</th>\n",
       "      <td>159</td>\n",
       "      <td>2004092301700001</td>\n",
       "      <td>L</td>\n",
       "      <td>4</td>\n",
       "      <td>528</td>\n",
       "      <td>50</td>\n",
       "      <td>N</td>\n",
       "      <td>E</td>\n",
       "      <td>N</td>\n",
       "      <td>N</td>\n",
       "      <td>...</td>\n",
       "      <td>10/23/2004</td>\n",
       "      <td>10/23/2004</td>\n",
       "      <td>0</td>\n",
       "      <td>0</td>\n",
       "      <td>0</td>\n",
       "      <td>100</td>\n",
       "      <td>07/31/2015</td>\n",
       "      <td>14</td>\n",
       "      <td>D</td>\n",
       "      <td>4</td>\n",
       "    </tr>\n",
       "  </tbody>\n",
       "</table>\n",
       "<p>5 rows × 31 columns</p>\n",
       "</div>"
      ],
      "text/plain": [
       "            Unnamed: 0        documentid recordtype_x  borough_x  block  lot  \\\n",
       "date                                                                           \n",
       "2004-06-21          19  2006011201300001            L          4    528   50   \n",
       "2004-07-08          78  2004080300906001            L          4    528   50   \n",
       "2004-08-09          88  2004082000656001            L          4    528   50   \n",
       "2004-09-14          84  2004092800386001            L          4    528   50   \n",
       "2004-09-23         159  2004092301700001            L          4    528   50   \n",
       "\n",
       "           easement partiallot airrights subterraneanrights  ...   \\\n",
       "date                                                         ...    \n",
       "2004-06-21        N          E         N                  N  ...    \n",
       "2004-07-08        N          E         N                  N  ...    \n",
       "2004-08-09        N          E         N                  N  ...    \n",
       "2004-09-14        N          E         N                  N  ...    \n",
       "2004-09-23        N          E         N                  N  ...    \n",
       "\n",
       "           recorded/filed modifieddate reelyear reelnbr reelpage %transferred  \\\n",
       "date                                                                            \n",
       "2004-06-21     01/24/2006   01/24/2006        0       0        0          100   \n",
       "2004-07-08     08/17/2004   08/17/2004        0       0        0          100   \n",
       "2004-08-09     09/22/2004   09/22/2004        0       0        0          100   \n",
       "2004-09-14     10/25/2004   10/25/2004        0       0        0          100   \n",
       "2004-09-23     10/23/2004   10/23/2004        0       0        0          100   \n",
       "\n",
       "            goodthroughdate_y  street line floor  \n",
       "date                                              \n",
       "2004-06-21         07/31/2015      14    C     7  \n",
       "2004-07-08         07/31/2015      14    A    15  \n",
       "2004-08-09         07/31/2015      21    C     3  \n",
       "2004-09-14         07/31/2015      14    A     5  \n",
       "2004-09-23         07/31/2015      14    D     4  \n",
       "\n",
       "[5 rows x 31 columns]"
      ]
     },
     "execution_count": 30,
     "metadata": {},
     "output_type": "execute_result"
    }
   ],
   "source": [
    "sales.head()"
   ]
  },
  {
   "cell_type": "code",
   "execution_count": 164,
   "metadata": {
    "collapsed": false
   },
   "outputs": [
    {
     "data": {
      "image/png": "[encoded data removed]",
      "text/plain": [
       "<matplotlib.figure.Figure at 0x1115ef950>"
      ]
     },
     "metadata": {},
     "output_type": "display_data"
    }
   ],
   "source": [
    "plt.figure(figsize=(10,6))\n",
    "x=sales.index.values\n",
    "y=sales.docamount\n",
    "plt.scatter(x,y)\n",
    "pd.rolling_mean(sales.docamount,10,min_periods=1).shift(+1).plot(style='r')\n",
    "pd.ewma(sales.docamount,10,min_periods=1).shift(+1).plot(style='y')\n",
    "plt.show()"
   ]
  },
  {
   "cell_type": "code",
   "execution_count": 94,
   "metadata": {
    "collapsed": false
   },
   "outputs": [
    {
     "data": {
      "text/plain": [
       "<matplotlib.collections.PathCollection at 0x10c760890>"
      ]
     },
     "execution_count": 94,
     "metadata": {},
     "output_type": "execute_result"
    },
    {
     "data": {
      "image/png": "[encoded data removed]",
      "text/plain": [
       "<matplotlib.figure.Figure at 0x10b767850>"
      ]
     },
     "metadata": {},
     "output_type": "display_data"
    }
   ],
   "source": [
    "plt.figure(figsize=(8,8))\n",
    "x=pd.rolling_mean(sales.docamount,10,min_periods=1).shift(+1)\n",
    "y=sales.docamount\n",
    "plt.scatter(x,y)"
   ]
  },
  {
   "cell_type": "code",
   "execution_count": 135,
   "metadata": {
    "collapsed": true
   },
   "outputs": [],
   "source": [
    "sales['rm']=pd.rolling_mean(sales.docamount,10,min_periods=1).shift(+1)"
   ]
  },
  {
   "cell_type": "code",
   "execution_count": 136,
   "metadata": {
    "collapsed": false
   },
   "outputs": [
    {
     "data": {
      "text/html": [
       "<div>\n",
       "<table border=\"1\" class=\"dataframe\">\n",
       "  <thead>\n",
       "    <tr style=\"text-align: right;\">\n",
       "      <th></th>\n",
       "      <th>docamount</th>\n",
       "      <th>rm</th>\n",
       "    </tr>\n",
       "    <tr>\n",
       "      <th>date</th>\n",
       "      <th></th>\n",
       "      <th></th>\n",
       "    </tr>\n",
       "  </thead>\n",
       "  <tbody>\n",
       "    <tr>\n",
       "      <th>2014-01-14</th>\n",
       "      <td>308000</td>\n",
       "      <td>311920.2</td>\n",
       "    </tr>\n",
       "    <tr>\n",
       "      <th>2014-01-22</th>\n",
       "      <td>394000</td>\n",
       "      <td>304800.0</td>\n",
       "    </tr>\n",
       "    <tr>\n",
       "      <th>2014-02-06</th>\n",
       "      <td>298000</td>\n",
       "      <td>316700.0</td>\n",
       "    </tr>\n",
       "    <tr>\n",
       "      <th>2014-02-12</th>\n",
       "      <td>325000</td>\n",
       "      <td>327500.0</td>\n",
       "    </tr>\n",
       "    <tr>\n",
       "      <th>2014-03-07</th>\n",
       "      <td>300000</td>\n",
       "      <td>328000.0</td>\n",
       "    </tr>\n",
       "    <tr>\n",
       "      <th>2014-03-25</th>\n",
       "      <td>325000</td>\n",
       "      <td>329500.0</td>\n",
       "    </tr>\n",
       "    <tr>\n",
       "      <th>2014-04-02</th>\n",
       "      <td>420000</td>\n",
       "      <td>332200.0</td>\n",
       "    </tr>\n",
       "    <tr>\n",
       "      <th>2014-04-02</th>\n",
       "      <td>402000</td>\n",
       "      <td>336200.0</td>\n",
       "    </tr>\n",
       "    <tr>\n",
       "      <th>2014-04-30</th>\n",
       "      <td>345000</td>\n",
       "      <td>345900.0</td>\n",
       "    </tr>\n",
       "    <tr>\n",
       "      <th>2014-08-12</th>\n",
       "      <td>335000</td>\n",
       "      <td>347900.0</td>\n",
       "    </tr>\n",
       "    <tr>\n",
       "      <th>2014-08-25</th>\n",
       "      <td>435500</td>\n",
       "      <td>345200.0</td>\n",
       "    </tr>\n",
       "    <tr>\n",
       "      <th>2014-09-10</th>\n",
       "      <td>335000</td>\n",
       "      <td>357950.0</td>\n",
       "    </tr>\n",
       "    <tr>\n",
       "      <th>2014-09-25</th>\n",
       "      <td>452000</td>\n",
       "      <td>352050.0</td>\n",
       "    </tr>\n",
       "    <tr>\n",
       "      <th>2014-10-21</th>\n",
       "      <td>362000</td>\n",
       "      <td>367450.0</td>\n",
       "    </tr>\n",
       "    <tr>\n",
       "      <th>2014-11-03</th>\n",
       "      <td>342500</td>\n",
       "      <td>371150.0</td>\n",
       "    </tr>\n",
       "    <tr>\n",
       "      <th>2014-11-24</th>\n",
       "      <td>392000</td>\n",
       "      <td>375400.0</td>\n",
       "    </tr>\n",
       "    <tr>\n",
       "      <th>2015-02-23</th>\n",
       "      <td>400000</td>\n",
       "      <td>382100.0</td>\n",
       "    </tr>\n",
       "    <tr>\n",
       "      <th>2015-03-05</th>\n",
       "      <td>418000</td>\n",
       "      <td>380100.0</td>\n",
       "    </tr>\n",
       "    <tr>\n",
       "      <th>2015-04-28</th>\n",
       "      <td>425000</td>\n",
       "      <td>381700.0</td>\n",
       "    </tr>\n",
       "    <tr>\n",
       "      <th>2015-08-25</th>\n",
       "      <td>418000</td>\n",
       "      <td>389700.0</td>\n",
       "    </tr>\n",
       "  </tbody>\n",
       "</table>\n",
       "</div>"
      ],
      "text/plain": [
       "            docamount        rm\n",
       "date                           \n",
       "2014-01-14     308000  311920.2\n",
       "2014-01-22     394000  304800.0\n",
       "2014-02-06     298000  316700.0\n",
       "2014-02-12     325000  327500.0\n",
       "2014-03-07     300000  328000.0\n",
       "2014-03-25     325000  329500.0\n",
       "2014-04-02     420000  332200.0\n",
       "2014-04-02     402000  336200.0\n",
       "2014-04-30     345000  345900.0\n",
       "2014-08-12     335000  347900.0\n",
       "2014-08-25     435500  345200.0\n",
       "2014-09-10     335000  357950.0\n",
       "2014-09-25     452000  352050.0\n",
       "2014-10-21     362000  367450.0\n",
       "2014-11-03     342500  371150.0\n",
       "2014-11-24     392000  375400.0\n",
       "2015-02-23     400000  382100.0\n",
       "2015-03-05     418000  380100.0\n",
       "2015-04-28     425000  381700.0\n",
       "2015-08-25     418000  389700.0"
      ]
     },
     "execution_count": 136,
     "metadata": {},
     "output_type": "execute_result"
    }
   ],
   "source": [
    "sales[['docamount','rm']].tail(20)"
   ]
  },
  {
   "cell_type": "code",
   "execution_count": 148,
   "metadata": {
    "collapsed": false
   },
   "outputs": [],
   "source": [
    "from statsmodels.formula.api import ols\n",
    "import statsmodels.api as sm"
   ]
  },
  {
   "cell_type": "code",
   "execution_count": 145,
   "metadata": {
    "collapsed": false
   },
   "outputs": [],
   "source": [
    "sales['bldgnum']=[str(justdigits(s)) for s in sales['streetnumber']]"
   ]
  },
  {
   "cell_type": "code",
   "execution_count": 146,
   "metadata": {
    "collapsed": false
   },
   "outputs": [
    {
     "data": {
      "text/html": [
       "<table class=\"simpletable\">\n",
       "<caption>OLS Regression Results</caption>\n",
       "<tr>\n",
       "  <th>Dep. Variable:</th>        <td>docamount</td>    <th>  R-squared:         </th> <td>   0.795</td>\n",
       "</tr>\n",
       "<tr>\n",
       "  <th>Model:</th>                   <td>OLS</td>       <th>  Adj. R-squared:    </th> <td>   0.748</td>\n",
       "</tr>\n",
       "<tr>\n",
       "  <th>Method:</th>             <td>Least Squares</td>  <th>  F-statistic:       </th> <td>   17.01</td>\n",
       "</tr>\n",
       "<tr>\n",
       "  <th>Date:</th>             <td>Sun, 01 Nov 2015</td> <th>  Prob (F-statistic):</th> <td>3.08e-30</td>\n",
       "</tr>\n",
       "<tr>\n",
       "  <th>Time:</th>                 <td>21:38:34</td>     <th>  Log-Likelihood:    </th> <td> -1768.9</td>\n",
       "</tr>\n",
       "<tr>\n",
       "  <th>No. Observations:</th>      <td>   152</td>      <th>  AIC:               </th> <td>   3596.</td>\n",
       "</tr>\n",
       "<tr>\n",
       "  <th>Df Residuals:</th>          <td>   123</td>      <th>  BIC:               </th> <td>   3684.</td>\n",
       "</tr>\n",
       "<tr>\n",
       "  <th>Df Model:</th>              <td>    28</td>      <th>                     </th>     <td> </td>   \n",
       "</tr>\n",
       "<tr>\n",
       "  <th>Covariance Type:</th>      <td>nonrobust</td>    <th>                     </th>     <td> </td>   \n",
       "</tr>\n",
       "</table>\n",
       "<table class=\"simpletable\">\n",
       "<tr>\n",
       "              <td></td>                 <th>coef</th>     <th>std err</th>      <th>t</th>      <th>P>|t|</th> <th>[95.0% Conf. Int.]</th> \n",
       "</tr>\n",
       "<tr>\n",
       "  <th>Intercept</th>                 <td>-3.538e+04</td> <td> 2.04e+04</td> <td>   -1.738</td> <td> 0.085</td> <td>-7.57e+04  4921.748</td>\n",
       "</tr>\n",
       "<tr>\n",
       "  <th>line[T.B]</th>                 <td>-8758.8611</td> <td> 1.49e+04</td> <td>   -0.587</td> <td> 0.558</td> <td>-3.83e+04  2.08e+04</td>\n",
       "</tr>\n",
       "<tr>\n",
       "  <th>line[T.C]</th>                 <td> 7244.3603</td> <td> 1.55e+04</td> <td>    0.468</td> <td> 0.640</td> <td>-2.34e+04  3.79e+04</td>\n",
       "</tr>\n",
       "<tr>\n",
       "  <th>line[T.D]</th>                 <td> 2874.1182</td> <td>  1.7e+04</td> <td>    0.169</td> <td> 0.866</td> <td>-3.08e+04  3.65e+04</td>\n",
       "</tr>\n",
       "<tr>\n",
       "  <th>bldgnum[T.3347]</th>           <td> 4.972e+04</td> <td> 1.61e+04</td> <td>    3.092</td> <td> 0.002</td> <td> 1.79e+04  8.15e+04</td>\n",
       "</tr>\n",
       "<tr>\n",
       "  <th>bldgnum[T.3355]</th>           <td> 1.138e+04</td> <td> 1.85e+04</td> <td>    0.614</td> <td> 0.540</td> <td>-2.53e+04   4.8e+04</td>\n",
       "</tr>\n",
       "<tr>\n",
       "  <th>bldgnum[T.3360]</th>           <td> 5.574e+04</td> <td> 1.55e+04</td> <td>    3.592</td> <td> 0.000</td> <td>  2.5e+04  8.65e+04</td>\n",
       "</tr>\n",
       "<tr>\n",
       "  <th>bldgnum[T.3364]</th>           <td>-4.736e+04</td> <td>  1.7e+04</td> <td>   -2.781</td> <td> 0.006</td> <td>-8.11e+04 -1.36e+04</td>\n",
       "</tr>\n",
       "<tr>\n",
       "  <th>bldgnum[T.3365]</th>           <td>-1.855e+04</td> <td> 1.48e+04</td> <td>   -1.253</td> <td> 0.213</td> <td>-4.79e+04  1.08e+04</td>\n",
       "</tr>\n",
       "<tr>\n",
       "  <th>bldgnum[T.3368]</th>           <td>     3e+04</td> <td> 1.54e+04</td> <td>    1.952</td> <td> 0.053</td> <td> -415.199  6.04e+04</td>\n",
       "</tr>\n",
       "<tr>\n",
       "  <th>line[T.B]:bldgnum[T.3347]</th> <td>-8893.3131</td> <td> 2.65e+04</td> <td>   -0.336</td> <td> 0.738</td> <td>-6.13e+04  4.35e+04</td>\n",
       "</tr>\n",
       "<tr>\n",
       "  <th>line[T.C]:bldgnum[T.3347]</th> <td> 2.106e+04</td> <td> 2.98e+04</td> <td>    0.706</td> <td> 0.481</td> <td>-3.79e+04  8.01e+04</td>\n",
       "</tr>\n",
       "<tr>\n",
       "  <th>line[T.D]:bldgnum[T.3347]</th> <td>-1.255e+04</td> <td> 3.02e+04</td> <td>   -0.416</td> <td> 0.678</td> <td>-7.23e+04  4.72e+04</td>\n",
       "</tr>\n",
       "<tr>\n",
       "  <th>line[T.B]:bldgnum[T.3355]</th> <td> 3652.7452</td> <td> 2.53e+04</td> <td>    0.144</td> <td> 0.886</td> <td>-4.65e+04  5.38e+04</td>\n",
       "</tr>\n",
       "<tr>\n",
       "  <th>line[T.C]:bldgnum[T.3355]</th> <td>-2.251e+04</td> <td> 2.44e+04</td> <td>   -0.924</td> <td> 0.357</td> <td>-7.07e+04  2.57e+04</td>\n",
       "</tr>\n",
       "<tr>\n",
       "  <th>line[T.D]:bldgnum[T.3355]</th> <td>-1.766e+04</td> <td> 2.67e+04</td> <td>   -0.660</td> <td> 0.510</td> <td>-7.06e+04  3.53e+04</td>\n",
       "</tr>\n",
       "<tr>\n",
       "  <th>line[T.B]:bldgnum[T.3360]</th> <td>-3213.8597</td> <td> 2.34e+04</td> <td>   -0.137</td> <td> 0.891</td> <td>-4.96e+04  4.32e+04</td>\n",
       "</tr>\n",
       "<tr>\n",
       "  <th>line[T.C]:bldgnum[T.3360]</th> <td>-1.087e+04</td> <td> 2.39e+04</td> <td>   -0.455</td> <td> 0.650</td> <td>-5.82e+04  3.65e+04</td>\n",
       "</tr>\n",
       "<tr>\n",
       "  <th>line[T.D]:bldgnum[T.3360]</th> <td> 5478.7121</td> <td> 2.33e+04</td> <td>    0.235</td> <td> 0.814</td> <td>-4.06e+04  5.16e+04</td>\n",
       "</tr>\n",
       "<tr>\n",
       "  <th>line[T.B]:bldgnum[T.3364]</th> <td> 6.484e+04</td> <td> 2.45e+04</td> <td>    2.644</td> <td> 0.009</td> <td> 1.63e+04  1.13e+05</td>\n",
       "</tr>\n",
       "<tr>\n",
       "  <th>line[T.C]:bldgnum[T.3364]</th> <td> 5.498e+04</td> <td> 2.32e+04</td> <td>    2.375</td> <td> 0.019</td> <td> 9152.130  1.01e+05</td>\n",
       "</tr>\n",
       "<tr>\n",
       "  <th>line[T.D]:bldgnum[T.3364]</th> <td> -1.46e-08</td> <td> 1.35e-08</td> <td>   -1.082</td> <td> 0.281</td> <td>-4.13e-08  1.21e-08</td>\n",
       "</tr>\n",
       "<tr>\n",
       "  <th>line[T.B]:bldgnum[T.3365]</th> <td> 5224.6908</td> <td> 2.17e+04</td> <td>    0.241</td> <td> 0.810</td> <td>-3.77e+04  4.82e+04</td>\n",
       "</tr>\n",
       "<tr>\n",
       "  <th>line[T.C]:bldgnum[T.3365]</th> <td>-6522.9050</td> <td> 2.26e+04</td> <td>   -0.289</td> <td> 0.773</td> <td>-5.13e+04  3.82e+04</td>\n",
       "</tr>\n",
       "<tr>\n",
       "  <th>line[T.D]:bldgnum[T.3365]</th> <td> 1.644e+04</td> <td> 2.37e+04</td> <td>    0.694</td> <td> 0.489</td> <td>-3.04e+04  6.33e+04</td>\n",
       "</tr>\n",
       "<tr>\n",
       "  <th>line[T.B]:bldgnum[T.3368]</th> <td> 5.576e+04</td> <td> 2.32e+04</td> <td>    2.404</td> <td> 0.018</td> <td> 9838.890  1.02e+05</td>\n",
       "</tr>\n",
       "<tr>\n",
       "  <th>line[T.C]:bldgnum[T.3368]</th> <td>-8552.4656</td> <td>  2.9e+04</td> <td>   -0.295</td> <td> 0.769</td> <td> -6.6e+04  4.89e+04</td>\n",
       "</tr>\n",
       "<tr>\n",
       "  <th>line[T.D]:bldgnum[T.3368]</th> <td>-3149.8826</td> <td> 2.71e+04</td> <td>   -0.116</td> <td> 0.908</td> <td>-5.68e+04  5.05e+04</td>\n",
       "</tr>\n",
       "<tr>\n",
       "  <th>rm</th>                        <td>    1.0123</td> <td>    0.057</td> <td>   17.763</td> <td> 0.000</td> <td>    0.900     1.125</td>\n",
       "</tr>\n",
       "<tr>\n",
       "  <th>floor</th>                     <td> 3122.7402</td> <td>  669.458</td> <td>    4.665</td> <td> 0.000</td> <td> 1797.590  4447.890</td>\n",
       "</tr>\n",
       "</table>\n",
       "<table class=\"simpletable\">\n",
       "<tr>\n",
       "  <th>Omnibus:</th>       <td> 9.921</td> <th>  Durbin-Watson:     </th> <td>   1.749</td>\n",
       "</tr>\n",
       "<tr>\n",
       "  <th>Prob(Omnibus):</th> <td> 0.007</td> <th>  Jarque-Bera (JB):  </th> <td>  12.035</td>\n",
       "</tr>\n",
       "<tr>\n",
       "  <th>Skew:</th>          <td>-0.437</td> <th>  Prob(JB):          </th> <td> 0.00244</td>\n",
       "</tr>\n",
       "<tr>\n",
       "  <th>Kurtosis:</th>      <td> 4.066</td> <th>  Cond. No.          </th> <td>9.13e+15</td>\n",
       "</tr>\n",
       "</table>"
      ],
      "text/plain": [
       "<class 'statsmodels.iolib.summary.Summary'>\n",
       "\"\"\"\n",
       "                            OLS Regression Results                            \n",
       "==============================================================================\n",
       "Dep. Variable:              docamount   R-squared:                       0.795\n",
       "Model:                            OLS   Adj. R-squared:                  0.748\n",
       "Method:                 Least Squares   F-statistic:                     17.01\n",
       "Date:                Sun, 01 Nov 2015   Prob (F-statistic):           3.08e-30\n",
       "Time:                        21:38:34   Log-Likelihood:                -1768.9\n",
       "No. Observations:                 152   AIC:                             3596.\n",
       "Df Residuals:                     123   BIC:                             3684.\n",
       "Df Model:                          28                                         \n",
       "Covariance Type:            nonrobust                                         \n",
       "=============================================================================================\n",
       "                                coef    std err          t      P>|t|      [95.0% Conf. Int.]\n",
       "---------------------------------------------------------------------------------------------\n",
       "Intercept                 -3.538e+04   2.04e+04     -1.738      0.085     -7.57e+04  4921.748\n",
       "line[T.B]                 -8758.8611   1.49e+04     -0.587      0.558     -3.83e+04  2.08e+04\n",
       "line[T.C]                  7244.3603   1.55e+04      0.468      0.640     -2.34e+04  3.79e+04\n",
       "line[T.D]                  2874.1182    1.7e+04      0.169      0.866     -3.08e+04  3.65e+04\n",
       "bldgnum[T.3347]            4.972e+04   1.61e+04      3.092      0.002      1.79e+04  8.15e+04\n",
       "bldgnum[T.3355]            1.138e+04   1.85e+04      0.614      0.540     -2.53e+04   4.8e+04\n",
       "bldgnum[T.3360]            5.574e+04   1.55e+04      3.592      0.000       2.5e+04  8.65e+04\n",
       "bldgnum[T.3364]           -4.736e+04    1.7e+04     -2.781      0.006     -8.11e+04 -1.36e+04\n",
       "bldgnum[T.3365]           -1.855e+04   1.48e+04     -1.253      0.213     -4.79e+04  1.08e+04\n",
       "bldgnum[T.3368]                3e+04   1.54e+04      1.952      0.053      -415.199  6.04e+04\n",
       "line[T.B]:bldgnum[T.3347] -8893.3131   2.65e+04     -0.336      0.738     -6.13e+04  4.35e+04\n",
       "line[T.C]:bldgnum[T.3347]  2.106e+04   2.98e+04      0.706      0.481     -3.79e+04  8.01e+04\n",
       "line[T.D]:bldgnum[T.3347] -1.255e+04   3.02e+04     -0.416      0.678     -7.23e+04  4.72e+04\n",
       "line[T.B]:bldgnum[T.3355]  3652.7452   2.53e+04      0.144      0.886     -4.65e+04  5.38e+04\n",
       "line[T.C]:bldgnum[T.3355] -2.251e+04   2.44e+04     -0.924      0.357     -7.07e+04  2.57e+04\n",
       "line[T.D]:bldgnum[T.3355] -1.766e+04   2.67e+04     -0.660      0.510     -7.06e+04  3.53e+04\n",
       "line[T.B]:bldgnum[T.3360] -3213.8597   2.34e+04     -0.137      0.891     -4.96e+04  4.32e+04\n",
       "line[T.C]:bldgnum[T.3360] -1.087e+04   2.39e+04     -0.455      0.650     -5.82e+04  3.65e+04\n",
       "line[T.D]:bldgnum[T.3360]  5478.7121   2.33e+04      0.235      0.814     -4.06e+04  5.16e+04\n",
       "line[T.B]:bldgnum[T.3364]  6.484e+04   2.45e+04      2.644      0.009      1.63e+04  1.13e+05\n",
       "line[T.C]:bldgnum[T.3364]  5.498e+04   2.32e+04      2.375      0.019      9152.130  1.01e+05\n",
       "line[T.D]:bldgnum[T.3364]  -1.46e-08   1.35e-08     -1.082      0.281     -4.13e-08  1.21e-08\n",
       "line[T.B]:bldgnum[T.3365]  5224.6908   2.17e+04      0.241      0.810     -3.77e+04  4.82e+04\n",
       "line[T.C]:bldgnum[T.3365] -6522.9050   2.26e+04     -0.289      0.773     -5.13e+04  3.82e+04\n",
       "line[T.D]:bldgnum[T.3365]  1.644e+04   2.37e+04      0.694      0.489     -3.04e+04  6.33e+04\n",
       "line[T.B]:bldgnum[T.3368]  5.576e+04   2.32e+04      2.404      0.018      9838.890  1.02e+05\n",
       "line[T.C]:bldgnum[T.3368] -8552.4656    2.9e+04     -0.295      0.769      -6.6e+04  4.89e+04\n",
       "line[T.D]:bldgnum[T.3368] -3149.8826   2.71e+04     -0.116      0.908     -5.68e+04  5.05e+04\n",
       "rm                            1.0123      0.057     17.763      0.000         0.900     1.125\n",
       "floor                      3122.7402    669.458      4.665      0.000      1797.590  4447.890\n",
       "==============================================================================\n",
       "Omnibus:                        9.921   Durbin-Watson:                   1.749\n",
       "Prob(Omnibus):                  0.007   Jarque-Bera (JB):               12.035\n",
       "Skew:                          -0.437   Prob(JB):                      0.00244\n",
       "Kurtosis:                       4.066   Cond. No.                     9.13e+15\n",
       "==============================================================================\n",
       "\n",
       "Warnings:\n",
       "[1] Standard Errors assume that the covariance matrix of the errors is correctly specified.\n",
       "[2] The smallest eigenvalue is 1.57e-19. This might indicate that there are\n",
       "strong multicollinearity problems or that the design matrix is singular.\n",
       "\"\"\""
      ]
     },
     "execution_count": 146,
     "metadata": {},
     "output_type": "execute_result"
    }
   ],
   "source": [
    "results = ols(formula=\"docamount ~ rm + line + floor + bldgnum + line*bldgnum\", data=sales).fit()\n",
    "results.summary()"
   ]
  },
  {
   "cell_type": "code",
   "execution_count": 156,
   "metadata": {
    "collapsed": false
   },
   "outputs": [
    {
     "data": {
      "image/png": "[encoded data removed]",
      "text/plain": [
       "<matplotlib.figure.Figure at 0x1113a6b50>"
      ]
     },
     "metadata": {},
     "output_type": "display_data"
    }
   ],
   "source": [
    "fig, ax = plt.subplots(figsize=(12, 8))\n",
    "fig = sm.graphics.plot_ccpr(results, \"rm\", ax=ax)"
   ]
  },
  {
   "cell_type": "code",
   "execution_count": 165,
   "metadata": {
    "collapsed": false
   },
   "outputs": [
    {
     "name": "stderr",
     "output_type": "stream",
     "text": [
      "/Users/helene/anaconda/lib/python2.7/site-packages/pandas/io/parsers.py:1170: DtypeWarning: Columns (6,7,10,11,50,52,53,77,79) have mixed types. Specify dtype option on import or set low_memory=False.\n",
      "  data = self._reader.read(nrows)\n"
     ]
    }
   ],
   "source": [
    "qpluto = pd.read_csv('QN.csv')"
   ]
  },
  {
   "cell_type": "code",
   "execution_count": 169,
   "metadata": {
    "collapsed": false
   },
   "outputs": [],
   "source": [
    "qcoops = qpluto[qpluto.BldgClass=='D4']"
   ]
  },
  {
   "cell_type": "code",
   "execution_count": 186,
   "metadata": {
    "collapsed": false
   },
   "outputs": [
    {
     "data": {
      "text/html": [
       "<div>\n",
       "<table border=\"1\" class=\"dataframe\">\n",
       "  <thead>\n",
       "    <tr style=\"text-align: right;\">\n",
       "      <th></th>\n",
       "      <th>Borough</th>\n",
       "      <th>Block</th>\n",
       "      <th>Lot</th>\n",
       "      <th>NumBldgs</th>\n",
       "      <th>NumFloors</th>\n",
       "      <th>UnitsRes</th>\n",
       "    </tr>\n",
       "  </thead>\n",
       "  <tbody>\n",
       "    <tr>\n",
       "      <th>279535</th>\n",
       "      <td>QN</td>\n",
       "      <td>12495</td>\n",
       "      <td>2</td>\n",
       "      <td>28</td>\n",
       "      <td>14</td>\n",
       "      <td>5860</td>\n",
       "    </tr>\n",
       "    <tr>\n",
       "      <th>176713</th>\n",
       "      <td>QN</td>\n",
       "      <td>8489</td>\n",
       "      <td>1</td>\n",
       "      <td>8</td>\n",
       "      <td>34</td>\n",
       "      <td>1844</td>\n",
       "    </tr>\n",
       "    <tr>\n",
       "      <th>51900</th>\n",
       "      <td>QN</td>\n",
       "      <td>2086</td>\n",
       "      <td>50</td>\n",
       "      <td>7</td>\n",
       "      <td>14</td>\n",
       "      <td>1094</td>\n",
       "    </tr>\n",
       "    <tr>\n",
       "      <th>25185</th>\n",
       "      <td>QN</td>\n",
       "      <td>1111</td>\n",
       "      <td>1</td>\n",
       "      <td>11</td>\n",
       "      <td>6</td>\n",
       "      <td>966</td>\n",
       "    </tr>\n",
       "    <tr>\n",
       "      <th>149971</th>\n",
       "      <td>QN</td>\n",
       "      <td>6790</td>\n",
       "      <td>1</td>\n",
       "      <td>32</td>\n",
       "      <td>6</td>\n",
       "      <td>793</td>\n",
       "    </tr>\n",
       "    <tr>\n",
       "      <th>7181</th>\n",
       "      <td>QN</td>\n",
       "      <td>557</td>\n",
       "      <td>3</td>\n",
       "      <td>14</td>\n",
       "      <td>15</td>\n",
       "      <td>727</td>\n",
       "    </tr>\n",
       "    <tr>\n",
       "      <th>54968</th>\n",
       "      <td>QN</td>\n",
       "      <td>2314</td>\n",
       "      <td>1</td>\n",
       "      <td>6</td>\n",
       "      <td>18</td>\n",
       "      <td>706</td>\n",
       "    </tr>\n",
       "    <tr>\n",
       "      <th>320478</th>\n",
       "      <td>QN</td>\n",
       "      <td>16131</td>\n",
       "      <td>1</td>\n",
       "      <td>4</td>\n",
       "      <td>13</td>\n",
       "      <td>687</td>\n",
       "    </tr>\n",
       "    <tr>\n",
       "      <th>149981</th>\n",
       "      <td>QN</td>\n",
       "      <td>6792</td>\n",
       "      <td>600</td>\n",
       "      <td>31</td>\n",
       "      <td>6</td>\n",
       "      <td>684</td>\n",
       "    </tr>\n",
       "    <tr>\n",
       "      <th>321162</th>\n",
       "      <td>QN</td>\n",
       "      <td>16175</td>\n",
       "      <td>1</td>\n",
       "      <td>3</td>\n",
       "      <td>12</td>\n",
       "      <td>651</td>\n",
       "    </tr>\n",
       "    <tr>\n",
       "      <th>166593</th>\n",
       "      <td>QN</td>\n",
       "      <td>7732</td>\n",
       "      <td>2</td>\n",
       "      <td>14</td>\n",
       "      <td>6</td>\n",
       "      <td>583</td>\n",
       "    </tr>\n",
       "    <tr>\n",
       "      <th>166658</th>\n",
       "      <td>QN</td>\n",
       "      <td>7748</td>\n",
       "      <td>500</td>\n",
       "      <td>14</td>\n",
       "      <td>6</td>\n",
       "      <td>567</td>\n",
       "    </tr>\n",
       "    <tr>\n",
       "      <th>80387</th>\n",
       "      <td>QN</td>\n",
       "      <td>3236</td>\n",
       "      <td>35</td>\n",
       "      <td>3</td>\n",
       "      <td>24</td>\n",
       "      <td>563</td>\n",
       "    </tr>\n",
       "    <tr>\n",
       "      <th>320472</th>\n",
       "      <td>QN</td>\n",
       "      <td>16128</td>\n",
       "      <td>1</td>\n",
       "      <td>3</td>\n",
       "      <td>13</td>\n",
       "      <td>554</td>\n",
       "    </tr>\n",
       "    <tr>\n",
       "      <th>320474</th>\n",
       "      <td>QN</td>\n",
       "      <td>16129</td>\n",
       "      <td>1</td>\n",
       "      <td>3</td>\n",
       "      <td>13</td>\n",
       "      <td>554</td>\n",
       "    </tr>\n",
       "    <tr>\n",
       "      <th>148253</th>\n",
       "      <td>QN</td>\n",
       "      <td>6698</td>\n",
       "      <td>40</td>\n",
       "      <td>13</td>\n",
       "      <td>6</td>\n",
       "      <td>536</td>\n",
       "    </tr>\n",
       "    <tr>\n",
       "      <th>40</th>\n",
       "      <td>QN</td>\n",
       "      <td>18</td>\n",
       "      <td>1</td>\n",
       "      <td>1</td>\n",
       "      <td>42</td>\n",
       "      <td>522</td>\n",
       "    </tr>\n",
       "    <tr>\n",
       "      <th>105268</th>\n",
       "      <td>QN</td>\n",
       "      <td>4285</td>\n",
       "      <td>10</td>\n",
       "      <td>19</td>\n",
       "      <td>6</td>\n",
       "      <td>504</td>\n",
       "    </tr>\n",
       "    <tr>\n",
       "      <th>52618</th>\n",
       "      <td>QN</td>\n",
       "      <td>2133</td>\n",
       "      <td>16</td>\n",
       "      <td>2</td>\n",
       "      <td>30</td>\n",
       "      <td>498</td>\n",
       "    </tr>\n",
       "    <tr>\n",
       "      <th>2268</th>\n",
       "      <td>QN</td>\n",
       "      <td>177</td>\n",
       "      <td>1</td>\n",
       "      <td>9</td>\n",
       "      <td>6</td>\n",
       "      <td>493</td>\n",
       "    </tr>\n",
       "  </tbody>\n",
       "</table>\n",
       "</div>"
      ],
      "text/plain": [
       "       Borough  Block  Lot  NumBldgs  NumFloors  UnitsRes\n",
       "279535      QN  12495    2        28         14      5860\n",
       "176713      QN   8489    1         8         34      1844\n",
       "51900       QN   2086   50         7         14      1094\n",
       "25185       QN   1111    1        11          6       966\n",
       "149971      QN   6790    1        32          6       793\n",
       "7181        QN    557    3        14         15       727\n",
       "54968       QN   2314    1         6         18       706\n",
       "320478      QN  16131    1         4         13       687\n",
       "149981      QN   6792  600        31          6       684\n",
       "321162      QN  16175    1         3         12       651\n",
       "166593      QN   7732    2        14          6       583\n",
       "166658      QN   7748  500        14          6       567\n",
       "80387       QN   3236   35         3         24       563\n",
       "320472      QN  16128    1         3         13       554\n",
       "320474      QN  16129    1         3         13       554\n",
       "148253      QN   6698   40        13          6       536\n",
       "40          QN     18    1         1         42       522\n",
       "105268      QN   4285   10        19          6       504\n",
       "52618       QN   2133   16         2         30       498\n",
       "2268        QN    177    1         9          6       493"
      ]
     },
     "execution_count": 186,
     "metadata": {},
     "output_type": "execute_result"
    }
   ],
   "source": [
    "qcoops.sort(['UnitsRes'],ascending=0)[['Borough','Block','Lot','NumBldgs','NumFloors','UnitsRes']].head(20)\n"
   ]
  },
  {
   "cell_type": "code",
   "execution_count": null,
   "metadata": {
    "collapsed": true
   },
   "outputs": [],
   "source": []
  },
  {
   "cell_type": "code",
   "execution_count": null,
   "metadata": {
    "collapsed": true
   },
   "outputs": [],
   "source": []
  },
  {
   "cell_type": "markdown",
   "metadata": {
    "collapsed": true
   },
   "source": [
    "## Proposal / next steps\n",
    "\n",
    "### Create a model to predict prices of individual co-op units\n",
    "\n",
    "Using historical sales and other data build a model to best predict current sales prices for NYC co-op apartments.  ACRIS public data will form the core dataset. Features may include prior sales, floor and line of the unit, time since last sale, and adjustments for overall neighborhood and borough trends.\n",
    "\n",
    "### Next steps\n",
    "\n",
    "- Setup data caching - data is saved to disk and only re-pulled if there are new results\n",
    "- Look at frequency of sales and start testing moving averages, look back windows to see what appears useful and stable\n",
    "- With something reasonably stable try basic regression including floor and unit, proxy for apartment size where we have it, see how close we are with simple models\n",
    "- Bring and test with more data - other co-ops, make decision about working on multiple or just one\n",
    "- Explore other models of price over time - e.g. exponential decay \n",
    "- Figure out how to bring in neighborhood and borough trends as feature, figure out best weighting between co-op specific and neighborhood, borough, city level factors. \n",
    "- Other data sources? \n",
    "- Test and compare various models \n",
    "- Think about how to productionalize "
   ]
  },
  {
   "cell_type": "code",
   "execution_count": 20,
   "metadata": {
    "collapsed": true
   },
   "outputs": [],
   "source": [
    "# look into this post for function to do rolling mean by a time period\n",
    "# rather than number of data points\n",
    "# http://stackoverflow.com/questions/15771472/pandas-rolling-mean-by-time-interval\n"
   ]
  },
  {
   "cell_type": "code",
   "execution_count": null,
   "metadata": {
    "collapsed": true
   },
   "outputs": [],
   "source": []
  },
  {
   "cell_type": "code",
   "execution_count": null,
   "metadata": {
    "collapsed": true
   },
   "outputs": [],
   "source": []
  },
  {
   "cell_type": "code",
   "execution_count": null,
   "metadata": {
    "collapsed": true
   },
   "outputs": [],
   "source": []
  }
 ],
 "metadata": {
  "kernelspec": {
   "display_name": "Python 2",
   "language": "python",
   "name": "python2"
  },
  "language_info": {
   "codemirror_mode": {
    "name": "ipython",
    "version": 2
   },
   "file_extension": ".py",
   "mimetype": "text/x-python",
   "name": "python",
   "nbconvert_exporter": "python",
   "pygments_lexer": "ipython2",
   "version": "2.7.10"
  }
 },
 "nbformat": 4,
 "nbformat_minor": 0
}
